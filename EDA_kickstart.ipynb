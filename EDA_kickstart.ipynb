{
 "cells": [
  {
   "cell_type": "code",
   "execution_count": 205,
   "metadata": {},
   "outputs": [],
   "source": [
    "#all imports for datacleaning\n",
    "import pandas as pd\n",
    "from datetime import datetime\n",
    "import glob\n",
    "import os\n",
    "\n",
    "from sklearn.pipeline import Pipeline\n",
    "\n"
   ]
  },
  {
   "cell_type": "code",
   "execution_count": 206,
   "metadata": {},
   "outputs": [],
   "source": [
    "#read in the data\n",
    "path = \"data/\"\n",
    "all_files = glob.glob(os.path.join(path , \"*.csv\"))\n",
    "\n",
    "li = []\n",
    "\n",
    "for filename in all_files:\n",
    "    df = pd.read_csv(filename, index_col=None, header=0)\n",
    "    li.append(df)\n",
    "\n",
    "df_kick = pd.concat(li, axis=0, ignore_index=True)\n"
   ]
  },
  {
   "cell_type": "markdown",
   "metadata": {},
   "source": [
    "## Some data cleaning"
   ]
  },
  {
   "cell_type": "code",
   "execution_count": 207,
   "metadata": {},
   "outputs": [
    {
     "name": "stdout",
     "output_type": "stream",
     "text": [
      "total number of entries: 209222\n",
      "number of entries with unique ids: 182264\n",
      "double entries: 26958\n"
     ]
    }
   ],
   "source": [
    "#first, we check for duplicates\n",
    "print(\"total number of entries:\", df_kick.id.count())\n",
    "print(\"number of entries with unique ids:\", df_kick.id.nunique())\n",
    "print(\"double entries:\", df_kick.id.count()-df_kick.id.nunique())"
   ]
  },
  {
   "cell_type": "markdown",
   "metadata": {},
   "source": [
    "So, we have 26958 entries that are not unique."
   ]
  },
  {
   "cell_type": "code",
   "execution_count": 208,
   "metadata": {},
   "outputs": [],
   "source": [
    "#remove these entries\n",
    "df_kick.drop_duplicates(subset=['id'],inplace=True)"
   ]
  },
  {
   "cell_type": "code",
   "execution_count": 209,
   "metadata": {},
   "outputs": [],
   "source": [
    "#first drop redundant, unnecessary or almost empty collumns\n",
    "columns_drop = ['id', 'photo', 'slug', 'currency_symbol', 'fx_rate', 'currency_trailing_code', 'usd_type', 'urls', 'source_url', 'converted_pledged_amount','friends','is_starred','is_backing','permissions','current_currency']\n",
    "df_kick = df_kick.drop(columns_drop, axis=1)"
   ]
  },
  {
   "cell_type": "code",
   "execution_count": 210,
   "metadata": {},
   "outputs": [],
   "source": [
    "# Changing format of the timestamp columns\n",
    "timestamp_columns = ['deadline', 'created_at', 'launched_at', 'state_changed_at']\n",
    "\n",
    "for col in timestamp_columns:\n",
    "    df_kick[col] = df_kick[col].apply(datetime.fromtimestamp)"
   ]
  },
  {
   "cell_type": "code",
   "execution_count": 211,
   "metadata": {},
   "outputs": [
    {
     "data": {
      "text/plain": [
       "backers_count              0\n",
       "blurb                      8\n",
       "category                   0\n",
       "country                    0\n",
       "created_at                 0\n",
       "creator                    0\n",
       "currency                   0\n",
       "deadline                   0\n",
       "disable_communication      0\n",
       "goal                       0\n",
       "is_starrable               0\n",
       "launched_at                0\n",
       "location                 224\n",
       "name                       0\n",
       "pledged                    0\n",
       "profile                    0\n",
       "spotlight                  0\n",
       "staff_pick                 0\n",
       "state                      0\n",
       "state_changed_at           0\n",
       "static_usd_rate            0\n",
       "usd_pledged                0\n",
       "dtype: int64"
      ]
     },
     "execution_count": 211,
     "metadata": {},
     "output_type": "execute_result"
    }
   ],
   "source": [
    "#check for remaining null-values\n",
    "df_kick.isnull().sum()"
   ]
  },
  {
   "cell_type": "markdown",
   "metadata": {},
   "source": [
    "We will drop the missing \"blurb\" entries, since this is important information we want to have. For now, we'll ignore the missing \"location\" values as this column might be redundant anyway."
   ]
  },
  {
   "cell_type": "code",
   "execution_count": 212,
   "metadata": {},
   "outputs": [],
   "source": [
    "#drop missing \"blurb\" values\n",
    "df_kick = df_kick.dropna(subset=[\"blurb\"])\n",
    "#reset index\n",
    "df_kick.reset_index(drop=True, inplace=True)"
   ]
  },
  {
   "cell_type": "markdown",
   "metadata": {},
   "source": [
    "Our analysis and research showed, that the \"goal\" is in the foreign currency. Since we want to compare all projects in USD, we transform \"goal\" to USD using the given \"static_usd_rate\"."
   ]
  },
  {
   "cell_type": "code",
   "execution_count": 213,
   "metadata": {},
   "outputs": [],
   "source": [
    "#create goal_usd\n",
    "df_kick[\"goal_usd\"] = df_kick[\"goal\"] * df_kick[\"static_usd_rate\"]"
   ]
  },
  {
   "cell_type": "code",
   "execution_count": 214,
   "metadata": {},
   "outputs": [],
   "source": [
    "#now we remove the redundant information on the foreign currency\n",
    "del_columns = [\"goal\", \"currency\", \"static_usd_rate\"]\n",
    "df_kick = df_kick.drop(del_columns, axis=1)"
   ]
  },
  {
   "cell_type": "markdown",
   "metadata": {},
   "source": [
    "Possible states are live, successful, canceled, failed and suspended.\n",
    "We drop live states, since they're not finished.\n",
    "We also drop suspended states, as they are only 600 and we don't know exactly why they have been suspended.\n",
    "We add canceled to failed, since for our use case the outcome is identical."
   ]
  },
  {
   "cell_type": "code",
   "execution_count": 215,
   "metadata": {},
   "outputs": [],
   "source": [
    "#drop the rows\n",
    "df_kick = df_kick.drop(df_kick[df_kick[\"state\"]==\"suspended\"].index)\n",
    "df_kick = df_kick.drop(df_kick[df_kick[\"state\"]==\"live\"].index)\n",
    "df_kick.reset_index(drop=True, inplace=True)"
   ]
  },
  {
   "cell_type": "code",
   "execution_count": 216,
   "metadata": {},
   "outputs": [],
   "source": [
    "#put \"canceled\" into the \"failed\" category\n",
    "df_kick.state = df_kick.state.replace(\"canceled\",\"failed\")"
   ]
  },
  {
   "cell_type": "markdown",
   "metadata": {},
   "source": [
    "Since state is the feature we want to predict, we transform it into a 1/0 categorical variable."
   ]
  },
  {
   "cell_type": "code",
   "execution_count": 217,
   "metadata": {},
   "outputs": [
    {
     "data": {
      "text/plain": [
       "array([1, 0])"
      ]
     },
     "execution_count": 217,
     "metadata": {},
     "output_type": "execute_result"
    }
   ],
   "source": [
    "df_kick.state = df_kick.state.replace(\"successful\", 1)\n",
    "df_kick.state = df_kick.state.replace(\"failed\", 0)\n",
    "df_kick.state.unique()"
   ]
  },
  {
   "cell_type": "markdown",
   "metadata": {},
   "source": [
    "## Descriptive Statistics"
   ]
  },
  {
   "cell_type": "code",
   "execution_count": 218,
   "metadata": {},
   "outputs": [],
   "source": [
    "#import plot modules\n",
    "import matplotlib.pyplot as plt\n",
    "import seaborn as sns\n",
    "import numpy as np"
   ]
  },
  {
   "cell_type": "code",
   "execution_count": 219,
   "metadata": {},
   "outputs": [
    {
     "data": {
      "text/plain": [
       "<AxesSubplot:xlabel='state', ylabel='count'>"
      ]
     },
     "execution_count": 219,
     "metadata": {},
     "output_type": "execute_result"
    },
    {
     "data": {
      "image/png": "[encoded data removed]",
      "text/plain": [
       "<Figure size 640x480 with 1 Axes>"
      ]
     },
     "metadata": {},
     "output_type": "display_data"
    }
   ],
   "source": [
    "#check how balanced our dataset is\n",
    "fig = plt.plot\n",
    "sns.countplot(x=df_kick.state)"
   ]
  },
  {
   "cell_type": "code",
   "execution_count": 220,
   "metadata": {},
   "outputs": [
    {
     "name": "stdout",
     "output_type": "stream",
     "text": [
      "<class 'pandas.core.frame.DataFrame'>\n",
      "RangeIndex: 177595 entries, 0 to 177594\n",
      "Data columns (total 20 columns):\n",
      " #   Column                 Non-Null Count   Dtype         \n",
      "---  ------                 --------------   -----         \n",
      " 0   backers_count          177595 non-null  int64         \n",
      " 1   blurb                  177595 non-null  object        \n",
      " 2   category               177595 non-null  object        \n",
      " 3   country                177595 non-null  object        \n",
      " 4   created_at             177595 non-null  datetime64[ns]\n",
      " 5   creator                177595 non-null  object        \n",
      " 6   deadline               177595 non-null  datetime64[ns]\n",
      " 7   disable_communication  177595 non-null  bool          \n",
      " 8   is_starrable           177595 non-null  bool          \n",
      " 9   launched_at            177595 non-null  datetime64[ns]\n",
      " 10  location               177371 non-null  object        \n",
      " 11  name                   177595 non-null  object        \n",
      " 12  pledged                177595 non-null  float64       \n",
      " 13  profile                177595 non-null  object        \n",
      " 14  spotlight              177595 non-null  bool          \n",
      " 15  staff_pick             177595 non-null  bool          \n",
      " 16  state                  177595 non-null  int64         \n",
      " 17  state_changed_at       177595 non-null  datetime64[ns]\n",
      " 18  usd_pledged            177595 non-null  float64       \n",
      " 19  goal_usd               177595 non-null  float64       \n",
      "dtypes: bool(4), datetime64[ns](4), float64(3), int64(2), object(7)\n",
      "memory usage: 22.4+ MB\n"
     ]
    }
   ],
   "source": [
    "df_kick.info()\n",
    "col_plot = [\"pledged\", \"usd_pledged\", \"goal_usd\"]"
   ]
  },
  {
   "cell_type": "code",
   "execution_count": 221,
   "metadata": {},
   "outputs": [
    {
     "data": {
      "text/plain": [
       "\"\\nfig,ax = plt.subplots(3,3,figsize=(16,12))\\ncount = 0\\nfor item in features:\\n    sns.histplot(df_kick[item], kde=True, ax=ax[int(count/3)][count%3], color='#33658A').set(title=item, xlabel='')\\n    count += 1\\nax.flat[-1].set_visible(False)\\nfig.tight_layout(pad=3)\\n\""
      ]
     },
     "execution_count": 221,
     "metadata": {},
     "output_type": "execute_result"
    }
   ],
   "source": [
    "# Plot distribution of features \n",
    "#features = df_kick.columns.tolist()\n",
    "features = [\"pledged\", \"usd_pledged\", \"goal_usd\"]\n",
    "#features.remove('Outcome')\n",
    "'''\n",
    "fig,ax = plt.subplots(3,3,figsize=(16,12))\n",
    "count = 0\n",
    "for item in features:\n",
    "    sns.histplot(df_kick[item], kde=True, ax=ax[int(count/3)][count%3], color='#33658A').set(title=item, xlabel='')\n",
    "    count += 1\n",
    "ax.flat[-1].set_visible(False)\n",
    "fig.tight_layout(pad=3)\n",
    "'''"
   ]
  },
  {
   "cell_type": "code",
   "execution_count": 222,
   "metadata": {},
   "outputs": [
    {
     "data": {
      "text/plain": [
       "(177595, 20)"
      ]
     },
     "execution_count": 222,
     "metadata": {},
     "output_type": "execute_result"
    }
   ],
   "source": [
    "df_kick.shape"
   ]
  },
  {
   "cell_type": "code",
   "execution_count": 223,
   "metadata": {},
   "outputs": [
    {
     "data": {
      "text/html": [
       "<div>\n",
       "<style scoped>\n",
       "    .dataframe tbody tr th:only-of-type {\n",
       "        vertical-align: middle;\n",
       "    }\n",
       "\n",
       "    .dataframe tbody tr th {\n",
       "        vertical-align: top;\n",
       "    }\n",
       "\n",
       "    .dataframe thead th {\n",
       "        text-align: right;\n",
       "    }\n",
       "</style>\n",
       "<table border=\"1\" class=\"dataframe\">\n",
       "  <thead>\n",
       "    <tr style=\"text-align: right;\">\n",
       "      <th></th>\n",
       "      <th>backers_count</th>\n",
       "      <th>blurb</th>\n",
       "      <th>category</th>\n",
       "      <th>country</th>\n",
       "      <th>created_at</th>\n",
       "      <th>creator</th>\n",
       "      <th>deadline</th>\n",
       "      <th>disable_communication</th>\n",
       "      <th>is_starrable</th>\n",
       "      <th>launched_at</th>\n",
       "      <th>location</th>\n",
       "      <th>name</th>\n",
       "      <th>pledged</th>\n",
       "      <th>profile</th>\n",
       "      <th>spotlight</th>\n",
       "      <th>staff_pick</th>\n",
       "      <th>state</th>\n",
       "      <th>state_changed_at</th>\n",
       "      <th>usd_pledged</th>\n",
       "      <th>goal_usd</th>\n",
       "    </tr>\n",
       "  </thead>\n",
       "  <tbody>\n",
       "    <tr>\n",
       "      <th>0</th>\n",
       "      <td>47</td>\n",
       "      <td>A colorful Dia de los Muertos themed oracle de...</td>\n",
       "      <td>{\"id\":273,\"name\":\"Playing Cards\",\"slug\":\"games...</td>\n",
       "      <td>US</td>\n",
       "      <td>2017-08-02 16:28:13</td>\n",
       "      <td>{\"id\":723886115,\"name\":\"Lisa Vollrath\",\"slug\":...</td>\n",
       "      <td>2017-09-09 19:00:59</td>\n",
       "      <td>False</td>\n",
       "      <td>False</td>\n",
       "      <td>2017-08-10 19:00:59</td>\n",
       "      <td>{\"id\":2400549,\"name\":\"Euless\",\"slug\":\"euless-t...</td>\n",
       "      <td>The Ofrenda Oracle Deck</td>\n",
       "      <td>1950.0</td>\n",
       "      <td>{\"id\":3094785,\"project_id\":3094785,\"state\":\"ac...</td>\n",
       "      <td>True</td>\n",
       "      <td>False</td>\n",
       "      <td>1</td>\n",
       "      <td>2017-09-09 19:00:59</td>\n",
       "      <td>1950.000000</td>\n",
       "      <td>1000.0000</td>\n",
       "    </tr>\n",
       "    <tr>\n",
       "      <th>1</th>\n",
       "      <td>271</td>\n",
       "      <td>Electra's long awaited, eclectic Debut Pop/Roc...</td>\n",
       "      <td>{\"id\":43,\"name\":\"Rock\",\"slug\":\"music/rock\",\"po...</td>\n",
       "      <td>US</td>\n",
       "      <td>2012-09-30 08:45:33</td>\n",
       "      <td>{\"id\":323849677,\"name\":\"Electra\",\"is_registere...</td>\n",
       "      <td>2013-06-12 07:03:15</td>\n",
       "      <td>False</td>\n",
       "      <td>False</td>\n",
       "      <td>2013-05-13 07:03:15</td>\n",
       "      <td>{\"id\":2423474,\"name\":\"Hollywood\",\"slug\":\"holly...</td>\n",
       "      <td>Record Electra's Debut Album (Pop, Rock, Class...</td>\n",
       "      <td>22404.0</td>\n",
       "      <td>{\"id\":359847,\"project_id\":359847,\"state\":\"inac...</td>\n",
       "      <td>True</td>\n",
       "      <td>False</td>\n",
       "      <td>1</td>\n",
       "      <td>2013-06-12 07:03:15</td>\n",
       "      <td>22404.000000</td>\n",
       "      <td>15000.0000</td>\n",
       "    </tr>\n",
       "    <tr>\n",
       "      <th>2</th>\n",
       "      <td>3</td>\n",
       "      <td>The Mist of Tribunal is a turn-based card game...</td>\n",
       "      <td>{\"id\":273,\"name\":\"Playing Cards\",\"slug\":\"games...</td>\n",
       "      <td>GB</td>\n",
       "      <td>2017-01-07 10:11:11</td>\n",
       "      <td>{\"id\":196281496,\"name\":\"Artur Ordijanc (delete...</td>\n",
       "      <td>2017-03-13 18:22:56</td>\n",
       "      <td>False</td>\n",
       "      <td>False</td>\n",
       "      <td>2017-01-12 19:22:56</td>\n",
       "      <td>{\"id\":475457,\"name\":\"Kaunas\",\"slug\":\"kaunas-ka...</td>\n",
       "      <td>The Mist of Tribunal - A Card Game</td>\n",
       "      <td>136.0</td>\n",
       "      <td>{\"id\":2825329,\"project_id\":2825329,\"state\":\"in...</td>\n",
       "      <td>False</td>\n",
       "      <td>False</td>\n",
       "      <td>0</td>\n",
       "      <td>2017-03-13 18:22:56</td>\n",
       "      <td>165.384934</td>\n",
       "      <td>12160.6569</td>\n",
       "    </tr>\n",
       "    <tr>\n",
       "      <th>3</th>\n",
       "      <td>3</td>\n",
       "      <td>Livng with a brain impairment, what its like t...</td>\n",
       "      <td>{\"id\":48,\"name\":\"Nonfiction\",\"slug\":\"publishin...</td>\n",
       "      <td>US</td>\n",
       "      <td>2012-12-06 19:04:31</td>\n",
       "      <td>{\"id\":1178460181,\"name\":\"Dawn Johnston\",\"is_re...</td>\n",
       "      <td>2013-01-09 21:32:07</td>\n",
       "      <td>False</td>\n",
       "      <td>False</td>\n",
       "      <td>2012-12-10 21:32:07</td>\n",
       "      <td>{\"id\":2507703,\"name\":\"Traverse City\",\"slug\":\"t...</td>\n",
       "      <td>Help change the face of Brain Impairment</td>\n",
       "      <td>2820.0</td>\n",
       "      <td>{\"id\":417385,\"project_id\":417385,\"state\":\"inac...</td>\n",
       "      <td>True</td>\n",
       "      <td>False</td>\n",
       "      <td>1</td>\n",
       "      <td>2013-01-09 21:32:07</td>\n",
       "      <td>2820.000000</td>\n",
       "      <td>2800.0000</td>\n",
       "    </tr>\n",
       "    <tr>\n",
       "      <th>4</th>\n",
       "      <td>35</td>\n",
       "      <td>Annapolis Chamber Players is a non-for profit ...</td>\n",
       "      <td>{\"id\":36,\"name\":\"Classical Music\",\"slug\":\"musi...</td>\n",
       "      <td>US</td>\n",
       "      <td>2014-10-24 19:35:50</td>\n",
       "      <td>{\"id\":682189804,\"name\":\"Annapolis Chamber Play...</td>\n",
       "      <td>2015-05-02 04:25:46</td>\n",
       "      <td>False</td>\n",
       "      <td>False</td>\n",
       "      <td>2015-04-02 04:25:46</td>\n",
       "      <td>{\"id\":2354877,\"name\":\"Annapolis\",\"slug\":\"annap...</td>\n",
       "      <td>Annapolis Chamber Music Project</td>\n",
       "      <td>3725.0</td>\n",
       "      <td>{\"id\":1465941,\"project_id\":1465941,\"state\":\"in...</td>\n",
       "      <td>True</td>\n",
       "      <td>False</td>\n",
       "      <td>1</td>\n",
       "      <td>2015-05-02 04:25:46</td>\n",
       "      <td>3725.000000</td>\n",
       "      <td>3500.0000</td>\n",
       "    </tr>\n",
       "  </tbody>\n",
       "</table>\n",
       "</div>"
      ],
      "text/plain": [
       "   backers_count                                              blurb  \\\n",
       "0             47  A colorful Dia de los Muertos themed oracle de...   \n",
       "1            271  Electra's long awaited, eclectic Debut Pop/Roc...   \n",
       "2              3  The Mist of Tribunal is a turn-based card game...   \n",
       "3              3  Livng with a brain impairment, what its like t...   \n",
       "4             35  Annapolis Chamber Players is a non-for profit ...   \n",
       "\n",
       "                                            category country  \\\n",
       "0  {\"id\":273,\"name\":\"Playing Cards\",\"slug\":\"games...      US   \n",
       "1  {\"id\":43,\"name\":\"Rock\",\"slug\":\"music/rock\",\"po...      US   \n",
       "2  {\"id\":273,\"name\":\"Playing Cards\",\"slug\":\"games...      GB   \n",
       "3  {\"id\":48,\"name\":\"Nonfiction\",\"slug\":\"publishin...      US   \n",
       "4  {\"id\":36,\"name\":\"Classical Music\",\"slug\":\"musi...      US   \n",
       "\n",
       "           created_at                                            creator  \\\n",
       "0 2017-08-02 16:28:13  {\"id\":723886115,\"name\":\"Lisa Vollrath\",\"slug\":...   \n",
       "1 2012-09-30 08:45:33  {\"id\":323849677,\"name\":\"Electra\",\"is_registere...   \n",
       "2 2017-01-07 10:11:11  {\"id\":196281496,\"name\":\"Artur Ordijanc (delete...   \n",
       "3 2012-12-06 19:04:31  {\"id\":1178460181,\"name\":\"Dawn Johnston\",\"is_re...   \n",
       "4 2014-10-24 19:35:50  {\"id\":682189804,\"name\":\"Annapolis Chamber Play...   \n",
       "\n",
       "             deadline  disable_communication  is_starrable  \\\n",
       "0 2017-09-09 19:00:59                  False         False   \n",
       "1 2013-06-12 07:03:15                  False         False   \n",
       "2 2017-03-13 18:22:56                  False         False   \n",
       "3 2013-01-09 21:32:07                  False         False   \n",
       "4 2015-05-02 04:25:46                  False         False   \n",
       "\n",
       "          launched_at                                           location  \\\n",
       "0 2017-08-10 19:00:59  {\"id\":2400549,\"name\":\"Euless\",\"slug\":\"euless-t...   \n",
       "1 2013-05-13 07:03:15  {\"id\":2423474,\"name\":\"Hollywood\",\"slug\":\"holly...   \n",
       "2 2017-01-12 19:22:56  {\"id\":475457,\"name\":\"Kaunas\",\"slug\":\"kaunas-ka...   \n",
       "3 2012-12-10 21:32:07  {\"id\":2507703,\"name\":\"Traverse City\",\"slug\":\"t...   \n",
       "4 2015-04-02 04:25:46  {\"id\":2354877,\"name\":\"Annapolis\",\"slug\":\"annap...   \n",
       "\n",
       "                                                name  pledged  \\\n",
       "0                            The Ofrenda Oracle Deck   1950.0   \n",
       "1  Record Electra's Debut Album (Pop, Rock, Class...  22404.0   \n",
       "2                 The Mist of Tribunal - A Card Game    136.0   \n",
       "3           Help change the face of Brain Impairment   2820.0   \n",
       "4                    Annapolis Chamber Music Project   3725.0   \n",
       "\n",
       "                                             profile  spotlight  staff_pick  \\\n",
       "0  {\"id\":3094785,\"project_id\":3094785,\"state\":\"ac...       True       False   \n",
       "1  {\"id\":359847,\"project_id\":359847,\"state\":\"inac...       True       False   \n",
       "2  {\"id\":2825329,\"project_id\":2825329,\"state\":\"in...      False       False   \n",
       "3  {\"id\":417385,\"project_id\":417385,\"state\":\"inac...       True       False   \n",
       "4  {\"id\":1465941,\"project_id\":1465941,\"state\":\"in...       True       False   \n",
       "\n",
       "   state    state_changed_at   usd_pledged    goal_usd  \n",
       "0      1 2017-09-09 19:00:59   1950.000000   1000.0000  \n",
       "1      1 2013-06-12 07:03:15  22404.000000  15000.0000  \n",
       "2      0 2017-03-13 18:22:56    165.384934  12160.6569  \n",
       "3      1 2013-01-09 21:32:07   2820.000000   2800.0000  \n",
       "4      1 2015-05-02 04:25:46   3725.000000   3500.0000  "
      ]
     },
     "execution_count": 223,
     "metadata": {},
     "output_type": "execute_result"
    }
   ],
   "source": [
    "df_kick.head()"
   ]
  },
  {
   "cell_type": "code",
   "execution_count": 224,
   "metadata": {},
   "outputs": [
    {
     "data": {
      "image/png": "[encoded data removed]",
      "text/plain": [
       "<Figure size 640x480 with 2 Axes>"
      ]
     },
     "metadata": {},
     "output_type": "display_data"
    }
   ],
   "source": [
    "col_plot = [\"backers_count\", \"pledged\", \"usd_pledged\", \"goal_usd\",\"state\",\"country\"]\n",
    "\n",
    "# Compute correlations\n",
    "#correlations = df_kick[col_plot].corr()\n",
    "correlations = df_kick.corr()\n",
    "\n",
    "\n",
    "# Generate a mask for the upper triangle\n",
    "mask = np.zeros_like(correlations)\n",
    "mask[np.triu_indices_from(mask)] = True\n",
    "\n",
    "# Generate a custom diverging colormap\n",
    "cmap = sns.diverging_palette(220, 10, as_cmap=True)\n",
    "\n",
    "# Draw the heatmap with the mask and correct aspect ratio\n",
    "sns.heatmap(correlations, mask=mask, cmap=cmap, vmax=1, annot=True,\n",
    "            linewidths=.5, cbar_kws={\"shrink\": .7});"
   ]
  },
  {
   "cell_type": "code",
   "execution_count": 225,
   "metadata": {},
   "outputs": [
    {
     "data": {
      "text/plain": [
       "Index(['backers_count', 'blurb', 'category', 'country', 'created_at',\n",
       "       'creator', 'deadline', 'disable_communication', 'is_starrable',\n",
       "       'launched_at', 'location', 'name', 'pledged', 'profile', 'spotlight',\n",
       "       'staff_pick', 'state', 'state_changed_at', 'usd_pledged', 'goal_usd'],\n",
       "      dtype='object')"
      ]
     },
     "execution_count": 225,
     "metadata": {},
     "output_type": "execute_result"
    }
   ],
   "source": [
    "df_kick.columns"
   ]
  },
  {
   "cell_type": "code",
   "execution_count": 226,
   "metadata": {},
   "outputs": [
    {
     "data": {
      "text/plain": [
       "15101"
      ]
     },
     "execution_count": 226,
     "metadata": {},
     "output_type": "execute_result"
    }
   ],
   "source": [
    "df_kick.location.nunique()"
   ]
  },
  {
   "cell_type": "code",
   "execution_count": 227,
   "metadata": {},
   "outputs": [
    {
     "name": "stdout",
     "output_type": "stream",
     "text": [
      "<class 'pandas.core.frame.DataFrame'>\n",
      "RangeIndex: 177595 entries, 0 to 177594\n",
      "Data columns (total 20 columns):\n",
      " #   Column                 Non-Null Count   Dtype         \n",
      "---  ------                 --------------   -----         \n",
      " 0   backers_count          177595 non-null  int64         \n",
      " 1   blurb                  177595 non-null  object        \n",
      " 2   category               177595 non-null  object        \n",
      " 3   country                177595 non-null  object        \n",
      " 4   created_at             177595 non-null  datetime64[ns]\n",
      " 5   creator                177595 non-null  object        \n",
      " 6   deadline               177595 non-null  datetime64[ns]\n",
      " 7   disable_communication  177595 non-null  bool          \n",
      " 8   is_starrable           177595 non-null  bool          \n",
      " 9   launched_at            177595 non-null  datetime64[ns]\n",
      " 10  location               177371 non-null  object        \n",
      " 11  name                   177595 non-null  object        \n",
      " 12  pledged                177595 non-null  float64       \n",
      " 13  profile                177595 non-null  object        \n",
      " 14  spotlight              177595 non-null  bool          \n",
      " 15  staff_pick             177595 non-null  bool          \n",
      " 16  state                  177595 non-null  int64         \n",
      " 17  state_changed_at       177595 non-null  datetime64[ns]\n",
      " 18  usd_pledged            177595 non-null  float64       \n",
      " 19  goal_usd               177595 non-null  float64       \n",
      "dtypes: bool(4), datetime64[ns](4), float64(3), int64(2), object(7)\n",
      "memory usage: 22.4+ MB\n"
     ]
    }
   ],
   "source": [
    "df_kick.info()"
   ]
  },
  {
   "cell_type": "code",
   "execution_count": null,
   "metadata": {},
   "outputs": [],
   "source": []
  },
  {
   "cell_type": "markdown",
   "metadata": {},
   "source": [
    "## Baseline Model\n",
    "Our baseline model is to simply predict the positive outcome (state=successful) by the amount of people investing in a project (backers_count)"
   ]
  },
  {
   "cell_type": "code",
   "execution_count": 228,
   "metadata": {},
   "outputs": [
    {
     "data": {
      "text/plain": [
       "0.7546642774322757"
      ]
     },
     "execution_count": 228,
     "metadata": {},
     "output_type": "execute_result"
    }
   ],
   "source": [
    "from sklearn.model_selection import train_test_split\n",
    "from sklearn.preprocessing import MinMaxScaler\n",
    "from sklearn.linear_model import LogisticRegression\n",
    "from sklearn.metrics import precision_score\n",
    "\n",
    "\n",
    "y = df_kick.state\n",
    "X = df_kick[[\"backers_count\"]]\n",
    "X_train, X_test, y_train, y_test = train_test_split(X, y, test_size = 0.2, random_state = 0)\n",
    "\n",
    "baseline_model = LogisticRegression()\n",
    "baseline_model.fit(X_train, y_train)\n",
    "y_pred_baseline = baseline_model.predict(X_test)\n",
    "precision_score(y_pred_baseline, y_test)"
   ]
  },
  {
   "cell_type": "code",
   "execution_count": 229,
   "metadata": {},
   "outputs": [
    {
     "data": {
      "text/plain": [
       "count    1.775950e+05\n",
       "mean     4.431976e+04\n",
       "std      1.164770e+06\n",
       "min      1.000000e-02\n",
       "25%      1.500000e+03\n",
       "50%      5.000000e+03\n",
       "75%      1.433185e+04\n",
       "max      1.523501e+08\n",
       "Name: goal_usd, dtype: float64"
      ]
     },
     "execution_count": 229,
     "metadata": {},
     "output_type": "execute_result"
    }
   ],
   "source": [
    "df_kick.goal_usd.describe()"
   ]
  },
  {
   "cell_type": "code",
   "execution_count": 230,
   "metadata": {},
   "outputs": [],
   "source": [
    "y_pred = []\n",
    "\n",
    "for i in df_kick.goal_usd:\n",
    "    if i < 20000:\n",
    "        y_pred.append(1)\n",
    "    else:\n",
    "        y_pred.append(0)"
   ]
  },
  {
   "cell_type": "code",
   "execution_count": 231,
   "metadata": {},
   "outputs": [
    {
     "data": {
      "text/plain": [
       "0.8852804946243367"
      ]
     },
     "execution_count": 231,
     "metadata": {},
     "output_type": "execute_result"
    }
   ],
   "source": [
    "precision_score(y_pred, y)"
   ]
  },
  {
   "cell_type": "markdown",
   "metadata": {},
   "source": [
    "## Preprocessing"
   ]
  },
  {
   "cell_type": "code",
   "execution_count": 232,
   "metadata": {},
   "outputs": [
    {
     "name": "stdout",
     "output_type": "stream",
     "text": [
      "<class 'pandas.core.frame.DataFrame'>\n",
      "RangeIndex: 177595 entries, 0 to 177594\n",
      "Data columns (total 20 columns):\n",
      " #   Column                 Non-Null Count   Dtype         \n",
      "---  ------                 --------------   -----         \n",
      " 0   backers_count          177595 non-null  int64         \n",
      " 1   blurb                  177595 non-null  object        \n",
      " 2   category               177595 non-null  object        \n",
      " 3   country                177595 non-null  object        \n",
      " 4   created_at             177595 non-null  datetime64[ns]\n",
      " 5   creator                177595 non-null  object        \n",
      " 6   deadline               177595 non-null  datetime64[ns]\n",
      " 7   disable_communication  177595 non-null  bool          \n",
      " 8   is_starrable           177595 non-null  bool          \n",
      " 9   launched_at            177595 non-null  datetime64[ns]\n",
      " 10  location               177371 non-null  object        \n",
      " 11  name                   177595 non-null  object        \n",
      " 12  pledged                177595 non-null  float64       \n",
      " 13  profile                177595 non-null  object        \n",
      " 14  spotlight              177595 non-null  bool          \n",
      " 15  staff_pick             177595 non-null  bool          \n",
      " 16  state                  177595 non-null  int64         \n",
      " 17  state_changed_at       177595 non-null  datetime64[ns]\n",
      " 18  usd_pledged            177595 non-null  float64       \n",
      " 19  goal_usd               177595 non-null  float64       \n",
      "dtypes: bool(4), datetime64[ns](4), float64(3), int64(2), object(7)\n",
      "memory usage: 22.4+ MB\n"
     ]
    }
   ],
   "source": [
    "from sklearn.model_selection import cross_val_predict\n",
    "from sklearn.compose import ColumnTransformer\n",
    "from sklearn.preprocessing import OneHotEncoder, StandardScaler\n",
    "import json\n",
    "import re\n",
    "\n",
    "\n",
    "df_kick.info()"
   ]
  },
  {
   "cell_type": "code",
   "execution_count": 233,
   "metadata": {},
   "outputs": [
    {
     "data": {
      "text/plain": [
       "0         {\"id\":723886115,\"name\":\"Lisa Vollrath\",\"slug\":...\n",
       "1         {\"id\":323849677,\"name\":\"Electra\",\"is_registere...\n",
       "2         {\"id\":196281496,\"name\":\"Artur Ordijanc (delete...\n",
       "3         {\"id\":1178460181,\"name\":\"Dawn Johnston\",\"is_re...\n",
       "4         {\"id\":682189804,\"name\":\"Annapolis Chamber Play...\n",
       "                                ...                        \n",
       "177590    {\"id\":356376150,\"name\":\"Pepper Proud\",\"is_regi...\n",
       "177591    {\"id\":1412154830,\"name\":\"Lester Arias is ARIA ...\n",
       "177592    {\"id\":891767476,\"name\":\"Doug Stienstra\",\"is_re...\n",
       "177593    {\"id\":307076473,\"name\":\"Timothy Vernor\",\"is_re...\n",
       "177594    {\"id\":1718677513,\"name\":\"Article\",\"slug\":\"arti...\n",
       "Name: creator, Length: 177595, dtype: object"
      ]
     },
     "execution_count": 233,
     "metadata": {},
     "output_type": "execute_result"
    }
   ],
   "source": [
    "num_features = [\"backers_count\", \"goal_usd\"]\n",
    "cat_features = [\"category_clean\", \"country\"]\n",
    "\n",
    "df_kick.creator"
   ]
  },
  {
   "cell_type": "code",
   "execution_count": 234,
   "metadata": {},
   "outputs": [
    {
     "data": {
      "text/plain": [
       "2104052526    72\n",
       "957058942     59\n",
       "978911160     52\n",
       "2039317553    36\n",
       "1323060510    35\n",
       "              ..\n",
       "90306855       1\n",
       "993941701      1\n",
       "411112317      1\n",
       "776440178      1\n",
       "891767476      1\n",
       "Name: creator_clean, Length: 153529, dtype: int64"
      ]
     },
     "execution_count": 234,
     "metadata": {},
     "output_type": "execute_result"
    }
   ],
   "source": [
    "df_kick[\"category_clean\"] = [re.sub(\"/.*\",\"\", json.loads(entry)[\"slug\"]) for entry in df_kick.category ]\n",
    "df_kick.category_clean.nunique()\n",
    "\n",
    "df_kick[\"creator_clean\"] = [json.loads(re.sub(\",.*\" , \"}\", entry))[\"id\"] for entry in df_kick.creator ]\n",
    "df_kick.creator_clean.value_counts()\n",
    "\n"
   ]
  },
  {
   "cell_type": "code",
   "execution_count": 235,
   "metadata": {},
   "outputs": [],
   "source": [
    "# Pipline for numerical features\n",
    "# Initiating Pipeline and calling one step after another\n",
    "# each step is built as a list of (key, value)\n",
    "# key is the name of the processing step\n",
    "# value is an estimator object (processing step)\n",
    "num_pipeline = Pipeline([\n",
    "    #('imputer_num', SimpleImputer(strategy='median')),\n",
    "    ('std_scaler', StandardScaler())\n",
    "])\n",
    "\n",
    "# Pipeline for categorical features \n",
    "cat_pipeline = Pipeline([\n",
    "    #('imputer_cat', SimpleImputer(strategy='constant', fill_value='missing')),\n",
    "    ('1hot', OneHotEncoder(handle_unknown='ignore'))\n",
    "])"
   ]
  },
  {
   "cell_type": "code",
   "execution_count": 236,
   "metadata": {},
   "outputs": [],
   "source": [
    "#from sklearn.compose import ColumnTransformer\n",
    "\n",
    "# Complete pipeline for numerical and categorical features\n",
    "# 'ColumnTranformer' applies transformers (num_pipeline/ cat_pipeline)\n",
    "# to specific columns of an array or DataFrame (num_features/cat_features)\n",
    "preprocessor = ColumnTransformer([\n",
    "    ('num', num_pipeline, num_features),\n",
    "    ('cat', cat_pipeline, cat_features)\n",
    "])"
   ]
  },
  {
   "cell_type": "code",
   "execution_count": 237,
   "metadata": {},
   "outputs": [],
   "source": [
    "# Building a full pipeline with our preprocessor and a LogisticRegression Classifier\n",
    "pipe_logreg = Pipeline([\n",
    "    ('preprocessor', preprocessor),\n",
    "    ('logreg', LogisticRegression(max_iter=1000))\n",
    "])"
   ]
  },
  {
   "cell_type": "code",
   "execution_count": 238,
   "metadata": {},
   "outputs": [],
   "source": [
    "temp  = cat_features + num_features\n",
    "\n",
    "X = df_kick[temp]\n",
    "\n",
    "y = df_kick[\"state\"]\n",
    "\n",
    "X_train, X_test, y_train, y_test = train_test_split(X, y, test_size = 0.25)"
   ]
  },
  {
   "cell_type": "code",
   "execution_count": 244,
   "metadata": {},
   "outputs": [],
   "source": [
    "pipe_logreg.fit(X_test, y_test)\n",
    "\n",
    "y_train_predicted = cross_val_predict(pipe_logreg, X_train, y_train, cv=5)"
   ]
  },
  {
   "cell_type": "code",
   "execution_count": 245,
   "metadata": {},
   "outputs": [],
   "source": [
    "y_pred_log_reg = pipe_logreg.predict(X_test)"
   ]
  },
  {
   "cell_type": "code",
   "execution_count": 247,
   "metadata": {},
   "outputs": [
    {
     "name": "stdout",
     "output_type": "stream",
     "text": [
      "0.9289040527456315\n"
     ]
    }
   ],
   "source": [
    "print(precision_score(y_test, y_pred_log_reg))"
   ]
  },
  {
   "cell_type": "code",
   "execution_count": null,
   "metadata": {},
   "outputs": [],
   "source": []
  }
 ],
 "metadata": {
  "kernelspec": {
   "display_name": "Python 3.9.8 ('.venv': venv)",
   "language": "python",
   "name": "python3"
  },
  "language_info": {
   "codemirror_mode": {
    "name": "ipython",
    "version": 3
   },
   "file_extension": ".py",
   "mimetype": "text/x-python",
   "name": "python",
   "nbconvert_exporter": "python",
   "pygments_lexer": "ipython3",
   "version": "3.9.8"
  },
  "orig_nbformat": 4,
  "vscode": {
   "interpreter": {
    "hash": "e4e6e55650b4925be0068aba6435dda6161c248951dde88f60c8ad10a2b2ad31"
   }
  }
 },
 "nbformat": 4,
 "nbformat_minor": 2
}
