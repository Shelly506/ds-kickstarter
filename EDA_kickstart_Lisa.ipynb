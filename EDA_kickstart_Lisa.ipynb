{
 "cells": [
  {
   "cell_type": "code",
   "execution_count": 1,
   "metadata": {},
   "outputs": [],
   "source": [
    "#import all relevant libraries\n",
    "import cleaning as cl\n",
    "import visualisation as vs\n",
    "import models as mod\n",
    "from sklearn.model_selection import train_test_split\n",
    "import warnings\n",
    "warnings.filterwarnings(\"ignore\")"
   ]
  },
  {
   "cell_type": "markdown",
   "metadata": {},
   "source": [
    "# Machine Leaning Project - Kickstarter\n",
    "In this project, we analyze the kickstarter dataset and build several machine learning models. Our goal is to help an investor find a project to invest in. The investor is only interested in projects that are going to be successful."
   ]
  },
  {
   "cell_type": "markdown",
   "metadata": {},
   "source": [
    "## Import and data cleaning\n",
    "First, we need to import the data. Then we remove duplicate entries."
   ]
  },
  {
   "cell_type": "code",
   "execution_count": 2,
   "metadata": {},
   "outputs": [
    {
     "name": "stdout",
     "output_type": "stream",
     "text": [
      "Total number of entries: 209222\n",
      "Number of unique entries: 182264\n",
      "Number of rows that will be deleted: 26958\n"
     ]
    }
   ],
   "source": [
    "#import data and safe it so the df_kick dataframe\n",
    "df_kick = cl.read_data(\"data/\")\n",
    "#remove all duplicate entries\n",
    "df_kick = cl.drop_duplicate(df_kick,\"id\")\n"
   ]
  },
  {
   "cell_type": "markdown",
   "metadata": {},
   "source": [
    "### Further data cleaning\n",
    "We will drop the missing \"blurb\" entries, since this is important information we want to have. For now, we'll ignore the missing \"location\" values as this column might be redundant anyway.\n",
    "\n",
    "Our analysis and research showed, that the \"goal\" is in the foreign currency. Since we want to compare all projects in USD, we transform \"goal\" to USD using the given \"static_usd_rate\". After that, we remove the now redundant columns\n",
    "\n",
    "Possible states are live, successful, canceled, failed and suspended.\n",
    "We drop live states, since they're not finished.\n",
    "We also drop suspended states, as they are only 600 and we don't know exactly why they have been suspended.\n",
    "\n",
    "We add canceled to failed, since for our use case the outcome is identical.\n",
    "\n",
    "Since state is the feature we want to predict, we transform it into a 1/0 categorical variable.\n",
    "\n",
    "All data cleaning is combined in the following function."
   ]
  },
  {
   "cell_type": "code",
   "execution_count": 3,
   "metadata": {},
   "outputs": [
    {
     "data": {
      "text/html": [
       "<div>\n",
       "<style scoped>\n",
       "    .dataframe tbody tr th:only-of-type {\n",
       "        vertical-align: middle;\n",
       "    }\n",
       "\n",
       "    .dataframe tbody tr th {\n",
       "        vertical-align: top;\n",
       "    }\n",
       "\n",
       "    .dataframe thead th {\n",
       "        text-align: right;\n",
       "    }\n",
       "</style>\n",
       "<table border=\"1\" class=\"dataframe\">\n",
       "  <thead>\n",
       "    <tr style=\"text-align: right;\">\n",
       "      <th></th>\n",
       "      <th>index</th>\n",
       "      <th>backers_count</th>\n",
       "      <th>blurb</th>\n",
       "      <th>category</th>\n",
       "      <th>converted_pledged_amount</th>\n",
       "      <th>country</th>\n",
       "      <th>created_at</th>\n",
       "      <th>creator</th>\n",
       "      <th>currency</th>\n",
       "      <th>currency_symbol</th>\n",
       "      <th>...</th>\n",
       "      <th>slug</th>\n",
       "      <th>source_url</th>\n",
       "      <th>spotlight</th>\n",
       "      <th>staff_pick</th>\n",
       "      <th>state</th>\n",
       "      <th>state_changed_at</th>\n",
       "      <th>static_usd_rate</th>\n",
       "      <th>urls</th>\n",
       "      <th>usd_pledged</th>\n",
       "      <th>usd_type</th>\n",
       "    </tr>\n",
       "  </thead>\n",
       "  <tbody>\n",
       "    <tr>\n",
       "      <th>0</th>\n",
       "      <td>0</td>\n",
       "      <td>315</td>\n",
       "      <td>Babalus Shoes</td>\n",
       "      <td>{\"id\":266,\"name\":\"Footwear\",\"slug\":\"fashion/fo...</td>\n",
       "      <td>28645</td>\n",
       "      <td>US</td>\n",
       "      <td>1541459205</td>\n",
       "      <td>{\"id\":2094277840,\"name\":\"Lucy Conroy\",\"slug\":\"...</td>\n",
       "      <td>USD</td>\n",
       "      <td>$</td>\n",
       "      <td>...</td>\n",
       "      <td>babalus-childrens-shoes</td>\n",
       "      <td>https://www.kickstarter.com/discover/categorie...</td>\n",
       "      <td>False</td>\n",
       "      <td>False</td>\n",
       "      <td>live</td>\n",
       "      <td>1548223375</td>\n",
       "      <td>1.000000</td>\n",
       "      <td>{\"web\":{\"project\":\"https://www.kickstarter.com...</td>\n",
       "      <td>28645.000000</td>\n",
       "      <td>international</td>\n",
       "    </tr>\n",
       "    <tr>\n",
       "      <th>1</th>\n",
       "      <td>1</td>\n",
       "      <td>47</td>\n",
       "      <td>A colorful Dia de los Muertos themed oracle de...</td>\n",
       "      <td>{\"id\":273,\"name\":\"Playing Cards\",\"slug\":\"games...</td>\n",
       "      <td>1950</td>\n",
       "      <td>US</td>\n",
       "      <td>1501684093</td>\n",
       "      <td>{\"id\":723886115,\"name\":\"Lisa Vollrath\",\"slug\":...</td>\n",
       "      <td>USD</td>\n",
       "      <td>$</td>\n",
       "      <td>...</td>\n",
       "      <td>the-ofrenda-oracle-deck</td>\n",
       "      <td>https://www.kickstarter.com/discover/categorie...</td>\n",
       "      <td>True</td>\n",
       "      <td>False</td>\n",
       "      <td>successful</td>\n",
       "      <td>1504976459</td>\n",
       "      <td>1.000000</td>\n",
       "      <td>{\"web\":{\"project\":\"https://www.kickstarter.com...</td>\n",
       "      <td>1950.000000</td>\n",
       "      <td>domestic</td>\n",
       "    </tr>\n",
       "    <tr>\n",
       "      <th>2</th>\n",
       "      <td>2</td>\n",
       "      <td>271</td>\n",
       "      <td>Electra's long awaited, eclectic Debut Pop/Roc...</td>\n",
       "      <td>{\"id\":43,\"name\":\"Rock\",\"slug\":\"music/rock\",\"po...</td>\n",
       "      <td>22404</td>\n",
       "      <td>US</td>\n",
       "      <td>1348987533</td>\n",
       "      <td>{\"id\":323849677,\"name\":\"Electra\",\"is_registere...</td>\n",
       "      <td>USD</td>\n",
       "      <td>$</td>\n",
       "      <td>...</td>\n",
       "      <td>record-electras-debut-album-pop-rock-classical</td>\n",
       "      <td>https://www.kickstarter.com/discover/categorie...</td>\n",
       "      <td>True</td>\n",
       "      <td>False</td>\n",
       "      <td>successful</td>\n",
       "      <td>1371013395</td>\n",
       "      <td>1.000000</td>\n",
       "      <td>{\"web\":{\"project\":\"https://www.kickstarter.com...</td>\n",
       "      <td>22404.000000</td>\n",
       "      <td>international</td>\n",
       "    </tr>\n",
       "    <tr>\n",
       "      <th>3</th>\n",
       "      <td>3</td>\n",
       "      <td>3</td>\n",
       "      <td>The Mist of Tribunal is a turn-based card game...</td>\n",
       "      <td>{\"id\":273,\"name\":\"Playing Cards\",\"slug\":\"games...</td>\n",
       "      <td>165</td>\n",
       "      <td>GB</td>\n",
       "      <td>1483780271</td>\n",
       "      <td>{\"id\":196281496,\"name\":\"Artur Ordijanc (delete...</td>\n",
       "      <td>GBP</td>\n",
       "      <td>£</td>\n",
       "      <td>...</td>\n",
       "      <td>the-mist-of-tribunal-a-card-game</td>\n",
       "      <td>https://www.kickstarter.com/discover/categorie...</td>\n",
       "      <td>False</td>\n",
       "      <td>False</td>\n",
       "      <td>failed</td>\n",
       "      <td>1489425776</td>\n",
       "      <td>1.216066</td>\n",
       "      <td>{\"web\":{\"project\":\"https://www.kickstarter.com...</td>\n",
       "      <td>165.384934</td>\n",
       "      <td>domestic</td>\n",
       "    </tr>\n",
       "    <tr>\n",
       "      <th>4</th>\n",
       "      <td>4</td>\n",
       "      <td>3</td>\n",
       "      <td>Livng with a brain impairment, what its like t...</td>\n",
       "      <td>{\"id\":48,\"name\":\"Nonfiction\",\"slug\":\"publishin...</td>\n",
       "      <td>2820</td>\n",
       "      <td>US</td>\n",
       "      <td>1354817071</td>\n",
       "      <td>{\"id\":1178460181,\"name\":\"Dawn Johnston\",\"is_re...</td>\n",
       "      <td>USD</td>\n",
       "      <td>$</td>\n",
       "      <td>...</td>\n",
       "      <td>help-change-the-face-of-brain-impairment</td>\n",
       "      <td>https://www.kickstarter.com/discover/categorie...</td>\n",
       "      <td>True</td>\n",
       "      <td>False</td>\n",
       "      <td>successful</td>\n",
       "      <td>1357763527</td>\n",
       "      <td>1.000000</td>\n",
       "      <td>{\"web\":{\"project\":\"https://www.kickstarter.com...</td>\n",
       "      <td>2820.000000</td>\n",
       "      <td>domestic</td>\n",
       "    </tr>\n",
       "    <tr>\n",
       "      <th>...</th>\n",
       "      <td>...</td>\n",
       "      <td>...</td>\n",
       "      <td>...</td>\n",
       "      <td>...</td>\n",
       "      <td>...</td>\n",
       "      <td>...</td>\n",
       "      <td>...</td>\n",
       "      <td>...</td>\n",
       "      <td>...</td>\n",
       "      <td>...</td>\n",
       "      <td>...</td>\n",
       "      <td>...</td>\n",
       "      <td>...</td>\n",
       "      <td>...</td>\n",
       "      <td>...</td>\n",
       "      <td>...</td>\n",
       "      <td>...</td>\n",
       "      <td>...</td>\n",
       "      <td>...</td>\n",
       "      <td>...</td>\n",
       "      <td>...</td>\n",
       "    </tr>\n",
       "    <tr>\n",
       "      <th>182259</th>\n",
       "      <td>209216</td>\n",
       "      <td>108</td>\n",
       "      <td>*PRE-SALES* for Our first Full-Length Album- c...</td>\n",
       "      <td>{\"id\":38,\"name\":\"Electronic Music\",\"slug\":\"mus...</td>\n",
       "      <td>4078</td>\n",
       "      <td>US</td>\n",
       "      <td>1405625585</td>\n",
       "      <td>{\"id\":356376150,\"name\":\"Pepper Proud\",\"is_regi...</td>\n",
       "      <td>USD</td>\n",
       "      <td>$</td>\n",
       "      <td>...</td>\n",
       "      <td>it-springs-to-lifepellucidity-yaimas-first-album</td>\n",
       "      <td>https://www.kickstarter.com/discover/categorie...</td>\n",
       "      <td>True</td>\n",
       "      <td>False</td>\n",
       "      <td>successful</td>\n",
       "      <td>1412207040</td>\n",
       "      <td>1.000000</td>\n",
       "      <td>{\"web\":{\"project\":\"https://www.kickstarter.com...</td>\n",
       "      <td>4078.220000</td>\n",
       "      <td>domestic</td>\n",
       "    </tr>\n",
       "    <tr>\n",
       "      <th>182260</th>\n",
       "      <td>209218</td>\n",
       "      <td>72</td>\n",
       "      <td>Soul, hip-hop and sexy falsettos with an opera...</td>\n",
       "      <td>{\"id\":38,\"name\":\"Electronic Music\",\"slug\":\"mus...</td>\n",
       "      <td>5710</td>\n",
       "      <td>NL</td>\n",
       "      <td>1493041572</td>\n",
       "      <td>{\"id\":1412154830,\"name\":\"Lester Arias is ARIA ...</td>\n",
       "      <td>EUR</td>\n",
       "      <td>€</td>\n",
       "      <td>...</td>\n",
       "      <td>aria-lester-debut-ep</td>\n",
       "      <td>https://www.kickstarter.com/discover/categorie...</td>\n",
       "      <td>True</td>\n",
       "      <td>False</td>\n",
       "      <td>successful</td>\n",
       "      <td>1497909600</td>\n",
       "      <td>1.093300</td>\n",
       "      <td>{\"web\":{\"project\":\"https://www.kickstarter.com...</td>\n",
       "      <td>5575.830204</td>\n",
       "      <td>domestic</td>\n",
       "    </tr>\n",
       "    <tr>\n",
       "      <th>182261</th>\n",
       "      <td>209219</td>\n",
       "      <td>62</td>\n",
       "      <td>What started as a homemade gift has turned int...</td>\n",
       "      <td>{\"id\":52,\"name\":\"Hardware\",\"slug\":\"technology/...</td>\n",
       "      <td>2681</td>\n",
       "      <td>US</td>\n",
       "      <td>1341343795</td>\n",
       "      <td>{\"id\":891767476,\"name\":\"Doug Stienstra\",\"is_re...</td>\n",
       "      <td>USD</td>\n",
       "      <td>$</td>\n",
       "      <td>...</td>\n",
       "      <td>flashpals-cuddly-usb-drives-save-more-than-you...</td>\n",
       "      <td>https://www.kickstarter.com/discover/categorie...</td>\n",
       "      <td>True</td>\n",
       "      <td>False</td>\n",
       "      <td>successful</td>\n",
       "      <td>1347854341</td>\n",
       "      <td>1.000000</td>\n",
       "      <td>{\"web\":{\"project\":\"https://www.kickstarter.com...</td>\n",
       "      <td>2681.000000</td>\n",
       "      <td>international</td>\n",
       "    </tr>\n",
       "    <tr>\n",
       "      <th>182262</th>\n",
       "      <td>209220</td>\n",
       "      <td>76</td>\n",
       "      <td>Seattle Transmedia &amp; Independent Film Festival...</td>\n",
       "      <td>{\"id\":295,\"name\":\"Festivals\",\"slug\":\"film &amp; vi...</td>\n",
       "      <td>5692</td>\n",
       "      <td>US</td>\n",
       "      <td>1425256957</td>\n",
       "      <td>{\"id\":307076473,\"name\":\"Timothy Vernor\",\"is_re...</td>\n",
       "      <td>USD</td>\n",
       "      <td>$</td>\n",
       "      <td>...</td>\n",
       "      <td>transmedia-gallery-space-stiff-2015</td>\n",
       "      <td>https://www.kickstarter.com/discover/categorie...</td>\n",
       "      <td>True</td>\n",
       "      <td>False</td>\n",
       "      <td>successful</td>\n",
       "      <td>1429536379</td>\n",
       "      <td>1.000000</td>\n",
       "      <td>{\"web\":{\"project\":\"https://www.kickstarter.com...</td>\n",
       "      <td>5692.000000</td>\n",
       "      <td>domestic</td>\n",
       "    </tr>\n",
       "    <tr>\n",
       "      <th>182263</th>\n",
       "      <td>209221</td>\n",
       "      <td>44</td>\n",
       "      <td>The @1000TimesYes 2009 Tweet Box is a handmade...</td>\n",
       "      <td>{\"id\":13,\"name\":\"Journalism\",\"slug\":\"journalis...</td>\n",
       "      <td>1293</td>\n",
       "      <td>US</td>\n",
       "      <td>1263225900</td>\n",
       "      <td>{\"id\":1718677513,\"name\":\"Article\",\"slug\":\"arti...</td>\n",
       "      <td>USD</td>\n",
       "      <td>$</td>\n",
       "      <td>...</td>\n",
       "      <td>the-1000timesyes-2009-tweet-box</td>\n",
       "      <td>https://www.kickstarter.com/discover/categorie...</td>\n",
       "      <td>True</td>\n",
       "      <td>True</td>\n",
       "      <td>successful</td>\n",
       "      <td>1266814815</td>\n",
       "      <td>1.000000</td>\n",
       "      <td>{\"web\":{\"project\":\"https://www.kickstarter.com...</td>\n",
       "      <td>1293.000000</td>\n",
       "      <td>domestic</td>\n",
       "    </tr>\n",
       "  </tbody>\n",
       "</table>\n",
       "<p>182264 rows × 38 columns</p>\n",
       "</div>"
      ],
      "text/plain": [
       "         index  backers_count  \\\n",
       "0            0            315   \n",
       "1            1             47   \n",
       "2            2            271   \n",
       "3            3              3   \n",
       "4            4              3   \n",
       "...        ...            ...   \n",
       "182259  209216            108   \n",
       "182260  209218             72   \n",
       "182261  209219             62   \n",
       "182262  209220             76   \n",
       "182263  209221             44   \n",
       "\n",
       "                                                    blurb  \\\n",
       "0                                           Babalus Shoes   \n",
       "1       A colorful Dia de los Muertos themed oracle de...   \n",
       "2       Electra's long awaited, eclectic Debut Pop/Roc...   \n",
       "3       The Mist of Tribunal is a turn-based card game...   \n",
       "4       Livng with a brain impairment, what its like t...   \n",
       "...                                                   ...   \n",
       "182259  *PRE-SALES* for Our first Full-Length Album- c...   \n",
       "182260  Soul, hip-hop and sexy falsettos with an opera...   \n",
       "182261  What started as a homemade gift has turned int...   \n",
       "182262  Seattle Transmedia & Independent Film Festival...   \n",
       "182263  The @1000TimesYes 2009 Tweet Box is a handmade...   \n",
       "\n",
       "                                                 category  \\\n",
       "0       {\"id\":266,\"name\":\"Footwear\",\"slug\":\"fashion/fo...   \n",
       "1       {\"id\":273,\"name\":\"Playing Cards\",\"slug\":\"games...   \n",
       "2       {\"id\":43,\"name\":\"Rock\",\"slug\":\"music/rock\",\"po...   \n",
       "3       {\"id\":273,\"name\":\"Playing Cards\",\"slug\":\"games...   \n",
       "4       {\"id\":48,\"name\":\"Nonfiction\",\"slug\":\"publishin...   \n",
       "...                                                   ...   \n",
       "182259  {\"id\":38,\"name\":\"Electronic Music\",\"slug\":\"mus...   \n",
       "182260  {\"id\":38,\"name\":\"Electronic Music\",\"slug\":\"mus...   \n",
       "182261  {\"id\":52,\"name\":\"Hardware\",\"slug\":\"technology/...   \n",
       "182262  {\"id\":295,\"name\":\"Festivals\",\"slug\":\"film & vi...   \n",
       "182263  {\"id\":13,\"name\":\"Journalism\",\"slug\":\"journalis...   \n",
       "\n",
       "        converted_pledged_amount country  created_at  \\\n",
       "0                          28645      US  1541459205   \n",
       "1                           1950      US  1501684093   \n",
       "2                          22404      US  1348987533   \n",
       "3                            165      GB  1483780271   \n",
       "4                           2820      US  1354817071   \n",
       "...                          ...     ...         ...   \n",
       "182259                      4078      US  1405625585   \n",
       "182260                      5710      NL  1493041572   \n",
       "182261                      2681      US  1341343795   \n",
       "182262                      5692      US  1425256957   \n",
       "182263                      1293      US  1263225900   \n",
       "\n",
       "                                                  creator currency  \\\n",
       "0       {\"id\":2094277840,\"name\":\"Lucy Conroy\",\"slug\":\"...      USD   \n",
       "1       {\"id\":723886115,\"name\":\"Lisa Vollrath\",\"slug\":...      USD   \n",
       "2       {\"id\":323849677,\"name\":\"Electra\",\"is_registere...      USD   \n",
       "3       {\"id\":196281496,\"name\":\"Artur Ordijanc (delete...      GBP   \n",
       "4       {\"id\":1178460181,\"name\":\"Dawn Johnston\",\"is_re...      USD   \n",
       "...                                                   ...      ...   \n",
       "182259  {\"id\":356376150,\"name\":\"Pepper Proud\",\"is_regi...      USD   \n",
       "182260  {\"id\":1412154830,\"name\":\"Lester Arias is ARIA ...      EUR   \n",
       "182261  {\"id\":891767476,\"name\":\"Doug Stienstra\",\"is_re...      USD   \n",
       "182262  {\"id\":307076473,\"name\":\"Timothy Vernor\",\"is_re...      USD   \n",
       "182263  {\"id\":1718677513,\"name\":\"Article\",\"slug\":\"arti...      USD   \n",
       "\n",
       "       currency_symbol  ...  \\\n",
       "0                    $  ...   \n",
       "1                    $  ...   \n",
       "2                    $  ...   \n",
       "3                    £  ...   \n",
       "4                    $  ...   \n",
       "...                ...  ...   \n",
       "182259               $  ...   \n",
       "182260               €  ...   \n",
       "182261               $  ...   \n",
       "182262               $  ...   \n",
       "182263               $  ...   \n",
       "\n",
       "                                                     slug  \\\n",
       "0                                 babalus-childrens-shoes   \n",
       "1                                 the-ofrenda-oracle-deck   \n",
       "2          record-electras-debut-album-pop-rock-classical   \n",
       "3                        the-mist-of-tribunal-a-card-game   \n",
       "4                help-change-the-face-of-brain-impairment   \n",
       "...                                                   ...   \n",
       "182259   it-springs-to-lifepellucidity-yaimas-first-album   \n",
       "182260                               aria-lester-debut-ep   \n",
       "182261  flashpals-cuddly-usb-drives-save-more-than-you...   \n",
       "182262                transmedia-gallery-space-stiff-2015   \n",
       "182263                    the-1000timesyes-2009-tweet-box   \n",
       "\n",
       "                                               source_url  spotlight  \\\n",
       "0       https://www.kickstarter.com/discover/categorie...      False   \n",
       "1       https://www.kickstarter.com/discover/categorie...       True   \n",
       "2       https://www.kickstarter.com/discover/categorie...       True   \n",
       "3       https://www.kickstarter.com/discover/categorie...      False   \n",
       "4       https://www.kickstarter.com/discover/categorie...       True   \n",
       "...                                                   ...        ...   \n",
       "182259  https://www.kickstarter.com/discover/categorie...       True   \n",
       "182260  https://www.kickstarter.com/discover/categorie...       True   \n",
       "182261  https://www.kickstarter.com/discover/categorie...       True   \n",
       "182262  https://www.kickstarter.com/discover/categorie...       True   \n",
       "182263  https://www.kickstarter.com/discover/categorie...       True   \n",
       "\n",
       "        staff_pick       state  state_changed_at  static_usd_rate  \\\n",
       "0            False        live        1548223375         1.000000   \n",
       "1            False  successful        1504976459         1.000000   \n",
       "2            False  successful        1371013395         1.000000   \n",
       "3            False      failed        1489425776         1.216066   \n",
       "4            False  successful        1357763527         1.000000   \n",
       "...            ...         ...               ...              ...   \n",
       "182259       False  successful        1412207040         1.000000   \n",
       "182260       False  successful        1497909600         1.093300   \n",
       "182261       False  successful        1347854341         1.000000   \n",
       "182262       False  successful        1429536379         1.000000   \n",
       "182263        True  successful        1266814815         1.000000   \n",
       "\n",
       "                                                     urls   usd_pledged  \\\n",
       "0       {\"web\":{\"project\":\"https://www.kickstarter.com...  28645.000000   \n",
       "1       {\"web\":{\"project\":\"https://www.kickstarter.com...   1950.000000   \n",
       "2       {\"web\":{\"project\":\"https://www.kickstarter.com...  22404.000000   \n",
       "3       {\"web\":{\"project\":\"https://www.kickstarter.com...    165.384934   \n",
       "4       {\"web\":{\"project\":\"https://www.kickstarter.com...   2820.000000   \n",
       "...                                                   ...           ...   \n",
       "182259  {\"web\":{\"project\":\"https://www.kickstarter.com...   4078.220000   \n",
       "182260  {\"web\":{\"project\":\"https://www.kickstarter.com...   5575.830204   \n",
       "182261  {\"web\":{\"project\":\"https://www.kickstarter.com...   2681.000000   \n",
       "182262  {\"web\":{\"project\":\"https://www.kickstarter.com...   5692.000000   \n",
       "182263  {\"web\":{\"project\":\"https://www.kickstarter.com...   1293.000000   \n",
       "\n",
       "             usd_type  \n",
       "0       international  \n",
       "1            domestic  \n",
       "2       international  \n",
       "3            domestic  \n",
       "4            domestic  \n",
       "...               ...  \n",
       "182259       domestic  \n",
       "182260       domestic  \n",
       "182261  international  \n",
       "182262       domestic  \n",
       "182263       domestic  \n",
       "\n",
       "[182264 rows x 38 columns]"
      ]
     },
     "execution_count": 3,
     "metadata": {},
     "output_type": "execute_result"
    }
   ],
   "source": [
    "df_kick.reset_index()"
   ]
  },
  {
   "cell_type": "code",
   "execution_count": 4,
   "metadata": {},
   "outputs": [],
   "source": [
    "df_kick = cl.clean_data(df_kick)"
   ]
  },
  {
   "cell_type": "markdown",
   "metadata": {},
   "source": [
    "## Descriptive Statistics\n",
    "Before building different models, we have a closer look at out data. We look at the distribution of our target feature, the state variable, to see how balanced out dataset is. In addition we look at a correlation matrix, some histograms and pairplots."
   ]
  },
  {
   "cell_type": "code",
   "execution_count": 6,
   "metadata": {},
   "outputs": [
    {
     "data": {
      "image/png": "[encoded data removed]",
      "text/plain": [
       "<Figure size 640x480 with 1 Axes>"
      ]
     },
     "metadata": {},
     "output_type": "display_data"
    }
   ],
   "source": [
    "#check how balanced our dataset is\n",
    "vs.countplot(df_kick, \"state\")"
   ]
  },
  {
   "cell_type": "markdown",
   "metadata": {},
   "source": [
    "Out dataset is only slightly unbalaced with approx. 53% of the data being in state 1"
   ]
  },
  {
   "cell_type": "code",
   "execution_count": 7,
   "metadata": {},
   "outputs": [
    {
     "data": {
      "image/png": "[encoded data removed]",
      "text/plain": [
       "<Figure size 1400x1200 with 2 Axes>"
      ]
     },
     "metadata": {},
     "output_type": "display_data"
    }
   ],
   "source": [
    "vs.corr_map(df_kick.drop(\"disable_communication\",axis=1))"
   ]
  },
  {
   "cell_type": "markdown",
   "metadata": {},
   "source": [
    "The features splotlight and state are 100% correlated. Hence, we drop spotlight.\n",
    "\n",
    "In addition, usd_pledged and backers_count are highly correlated as well. This makes sense. However, we don't want to use these two features for our models since they are not known in advance."
   ]
  },
  {
   "cell_type": "code",
   "execution_count": 8,
   "metadata": {},
   "outputs": [],
   "source": [
    "df_kick = df_kick.drop(\"spotlight\", axis=1) "
   ]
  },
  {
   "cell_type": "markdown",
   "metadata": {},
   "source": [
    "## Baseline Model\n",
    "Our baseline model is to simply predict the positive outcome (state=successful) by the value of the goal in USD. As the threshold we choose the mean of all goal_usd values which is 5000$."
   ]
  },
  {
   "cell_type": "code",
   "execution_count": 9,
   "metadata": {},
   "outputs": [
    {
     "name": "stdout",
     "output_type": "stream",
     "text": [
      "Baseline :\n",
      "Accuracy: 0.5955854613024015\n",
      "Recall: 0.5729222718112662\n",
      "Precision: 0.6340241695370424\n"
     ]
    },
    {
     "data": {
      "image/png": "[encoded data removed]",
      "text/plain": [
       "<Figure size 640x480 with 2 Axes>"
      ]
     },
     "metadata": {},
     "output_type": "display_data"
    }
   ],
   "source": [
    "y_pred_baseline = mod.baseline(df_kick,\"goal_usd\",5000)\n",
    "mod.eval_metrics(df_kick.state, y_pred_baseline, \"Baseline\")"
   ]
  },
  {
   "cell_type": "markdown",
   "metadata": {},
   "source": [
    "So our very basic model is already better than randomly guessing. We chose precision as our main evaluation metric since our stakeholder in interested in accurate information about the probability of success. Our baseline model has a precision of 63%.\n",
    "\n",
    "Now we try a model that is a little more complex, but still very simple. The model consists of a logistic regression with only one feature."
   ]
  },
  {
   "cell_type": "code",
   "execution_count": 10,
   "metadata": {},
   "outputs": [
    {
     "name": "stdout",
     "output_type": "stream",
     "text": [
      "Logistic Regression :\n",
      "Accuracy: 0.8271347729384273\n",
      "Recall: 0.7546642774322757\n",
      "Precision: 0.9060364464692483\n"
     ]
    },
    {
     "data": {
      "image/png": "[encoded data removed]",
      "text/plain": [
       "<Figure size 640x480 with 2 Axes>"
      ]
     },
     "metadata": {},
     "output_type": "display_data"
    }
   ],
   "source": [
    "y = df_kick.state\n",
    "X_simple = df_kick[[\"backers_count\"]]\n",
    "X_train_simple, X_test_simple, y_train, y_test = train_test_split(X_simple, y, test_size = 0.2, random_state = 0)\n",
    "\n",
    "y_pred_simple = mod.simple_model(X_train_simple, y_train, X_test_simple)\n",
    "mod.eval_metrics(y_test, y_pred_simple, \"Logistic Regression\")\n"
   ]
  },
  {
   "cell_type": "markdown",
   "metadata": {},
   "source": [
    "The simple model based on backers_count has a precision of 91%. So backers_count is a very good predictor for the positive or negative outcome of the project. However, backers_count is not know in advance, so we do not use this feature for our models."
   ]
  },
  {
   "cell_type": "markdown",
   "metadata": {},
   "source": [
    "## Pipelines"
   ]
  },
  {
   "cell_type": "code",
   "execution_count": 11,
   "metadata": {},
   "outputs": [],
   "source": [
    "import pandas as pd\n",
    "import numpy as np\n",
    "from sklearn.model_selection import train_test_split, cross_val_predict, GridSearchCV, RandomizedSearchCV\n",
    "from sklearn.metrics import mean_squared_error\n",
    "from sklearn.linear_model import LogisticRegression, SGDClassifier\n",
    "from sklearn.metrics import recall_score, accuracy_score, precision_score, confusion_matrix\n",
    "from sklearn.preprocessing import MinMaxScaler, OneHotEncoder, StandardScaler\n",
    "from sklearn.neighbors import KNeighborsClassifier\n",
    "from sklearn.ensemble import RandomForestClassifier\n",
    "from sklearn.compose import ColumnTransformer\n",
    "from sklearn.pipeline import Pipeline\n",
    "from sklearn.tree import DecisionTreeClassifier"
   ]
  },
  {
   "cell_type": "code",
   "execution_count": 12,
   "metadata": {},
   "outputs": [
    {
     "data": {
      "text/plain": [
       "Index(['backers_count', 'blurb', 'category', 'country', 'created_at',\n",
       "       'creator', 'disable_communication', 'name', 'slug', 'staff_pick',\n",
       "       'state', 'usd_pledged', 'goal_usd', 'category_clean', 'creator_clean',\n",
       "       'word_count_description', 'word_count_name', 'name_is_split',\n",
       "       'description_is_split', 'name_addresses_reader',\n",
       "       'description_addresses_reader'],\n",
       "      dtype='object')"
      ]
     },
     "execution_count": 12,
     "metadata": {},
     "output_type": "execute_result"
    }
   ],
   "source": [
    "df_kick.columns"
   ]
  },
  {
   "cell_type": "code",
   "execution_count": 13,
   "metadata": {},
   "outputs": [
    {
     "name": "stdout",
     "output_type": "stream",
     "text": [
      "<class 'pandas.core.frame.DataFrame'>\n",
      "Int64Index: 177595 entries, 0 to 177602\n",
      "Data columns (total 21 columns):\n",
      " #   Column                        Non-Null Count   Dtype         \n",
      "---  ------                        --------------   -----         \n",
      " 0   backers_count                 177595 non-null  int64         \n",
      " 1   blurb                         177595 non-null  object        \n",
      " 2   category                      177595 non-null  object        \n",
      " 3   country                       177595 non-null  object        \n",
      " 4   created_at                    177595 non-null  datetime64[ns]\n",
      " 5   creator                       177595 non-null  object        \n",
      " 6   disable_communication         177595 non-null  bool          \n",
      " 7   name                          177595 non-null  object        \n",
      " 8   slug                          177595 non-null  object        \n",
      " 9   staff_pick                    177595 non-null  bool          \n",
      " 10  state                         177595 non-null  int64         \n",
      " 11  usd_pledged                   177595 non-null  float64       \n",
      " 12  goal_usd                      177595 non-null  float64       \n",
      " 13  category_clean                177595 non-null  object        \n",
      " 14  creator_clean                 177595 non-null  int64         \n",
      " 15  word_count_description        177595 non-null  int64         \n",
      " 16  word_count_name               177595 non-null  int64         \n",
      " 17  name_is_split                 177595 non-null  int64         \n",
      " 18  description_is_split          177595 non-null  int64         \n",
      " 19  name_addresses_reader         177595 non-null  int64         \n",
      " 20  description_addresses_reader  177595 non-null  int64         \n",
      "dtypes: bool(2), datetime64[ns](1), float64(2), int64(9), object(7)\n",
      "memory usage: 31.5+ MB\n"
     ]
    }
   ],
   "source": [
    "df_kick.info()"
   ]
  },
  {
   "cell_type": "code",
   "execution_count": 14,
   "metadata": {},
   "outputs": [],
   "source": [
    "num_features = [\"goal_usd\"]\n",
    "cat_features = [\"category_clean\", \"country\",\"staff_pick\",\"word_count_description\",\"word_count_name\",\"name_is_split\",\"description_is_split\",\"name_addresses_reader\",\"description_addresses_reader\"] #creator_clean"
   ]
  },
  {
   "cell_type": "code",
   "execution_count": 15,
   "metadata": {},
   "outputs": [],
   "source": [
    "# Pipline for numerical features\n",
    "num_pipeline = Pipeline([\n",
    "    ('std_scaler', StandardScaler())\n",
    "])\n",
    "\n",
    "# Pipeline for categorical features \n",
    "cat_pipeline = Pipeline([\n",
    "    ('1hot', OneHotEncoder(handle_unknown='ignore'))\n",
    "])\n",
    "# Complete pipeline for numerical and categorical features\n",
    "preprocessor = ColumnTransformer([\n",
    "    ('num', num_pipeline, num_features),\n",
    "    ('cat', cat_pipeline, cat_features)\n",
    "])"
   ]
  },
  {
   "cell_type": "code",
   "execution_count": 16,
   "metadata": {},
   "outputs": [],
   "source": [
    "# Building a full pipeline with our preprocessor and a LogisticRegression Classifier\n",
    "pipe_logreg = Pipeline([\n",
    "    ('preprocessor', preprocessor),\n",
    "    ('logreg', LogisticRegression(max_iter=1000))\n",
    "])\n",
    "# Building a full pipeline with our preprocessor and a DecisionTree Classifier\n",
    "pipe_tree = Pipeline([\n",
    "    ('preprocessor', preprocessor),\n",
    "    ('tree', DecisionTreeClassifier())\n",
    "])\n",
    "# Building a full pipeline with our preprocessor and a RandomForest Classifier\n",
    "pipe_random_forest = Pipeline([\n",
    "    ('preprocessor', preprocessor),\n",
    "    ('random_forest', RandomForestClassifier())\n",
    "])"
   ]
  },
  {
   "cell_type": "code",
   "execution_count": 17,
   "metadata": {},
   "outputs": [],
   "source": [
    "#choose our features & build train- and test-set\n",
    "temp  = cat_features + num_features\n",
    "X = df_kick[temp]\n",
    "y = df_kick[\"state\"]\n",
    "X_train, X_test, y_train, y_test = train_test_split(X, y, test_size = 0.2, random_state=0)"
   ]
  },
  {
   "cell_type": "code",
   "execution_count": 29,
   "metadata": {},
   "outputs": [],
   "source": [
    "param_logreg = {'logreg__penalty':('none','l1','l2'),\n",
    "                'logreg__C': np.logspace(-2,5,10),\n",
    "                'logreg__solver': ['liblinear', 'lbfgs', 'sag']\n",
    "               }\n",
    "\n",
    "rs_logreg = RandomizedSearchCV(pipe_logreg, param_logreg, cv=5, scoring='precision', \n",
    "                           verbose=5, n_jobs=-1, n_iter=10, random_state=17)"
   ]
  },
  {
   "cell_type": "code",
   "execution_count": 28,
   "metadata": {},
   "outputs": [
    {
     "data": {
      "text/plain": [
       "array([1.00000000e+00, 5.99484250e+00, 3.59381366e+01, 2.15443469e+02,\n",
       "       1.29154967e+03, 7.74263683e+03, 4.64158883e+04, 2.78255940e+05,\n",
       "       1.66810054e+06, 1.00000000e+07])"
      ]
     },
     "execution_count": 28,
     "metadata": {},
     "output_type": "execute_result"
    }
   ],
   "source": [
    "np.logspace(0,7,10)"
   ]
  },
  {
   "cell_type": "code",
   "execution_count": 32,
   "metadata": {},
   "outputs": [],
   "source": [
    "param_tree = {'tree__criterion': ['gini', 'entropy'],\n",
    "                'tree__splitter': ['best', 'random'],\n",
    "                'tree__min_samples_split': range(1,300)\n",
    "               }\n",
    "\n",
    "rs_tree = RandomizedSearchCV(pipe_tree, param_tree, cv=5, scoring='precision', \n",
    "                           verbose=5, n_jobs=-1, n_iter=10, random_state=17)"
   ]
  },
  {
   "cell_type": "code",
   "execution_count": 41,
   "metadata": {},
   "outputs": [],
   "source": [
    "# Defining parameter space for randomized search. \n",
    "param_random_forest = {'random_forest__n_estimators' : range(1,100),\n",
    "            'random_forest__criterion': ['gini', 'entropy'],\n",
    "            'random_forest__min_samples_leaf': range(1,100)\n",
    "               }\n",
    "\n",
    "rs_random_forest = RandomizedSearchCV(pipe_random_forest, param_random_forest, cv=5, scoring='precision', \n",
    "                           verbose=5, n_jobs=-1, n_iter=10, random_state = 7)"
   ]
  },
  {
   "cell_type": "code",
   "execution_count": 30,
   "metadata": {},
   "outputs": [
    {
     "name": "stdout",
     "output_type": "stream",
     "text": [
      "Fitting 5 folds for each of 10 candidates, totalling 50 fits\n",
      "[CV 3/5] END logreg__C=0.05994842503189409, logreg__penalty=l2, logreg__solver=lbfgs;, score=0.688 total time=   1.8s\n",
      "[CV 1/5] END logreg__C=0.05994842503189409, logreg__penalty=l2, logreg__solver=lbfgs;, score=0.688 total time=   2.1s\n",
      "[CV 2/5] END logreg__C=0.05994842503189409, logreg__penalty=l2, logreg__solver=lbfgs;, score=0.688 total time=   1.9s\n",
      "[CV 1/5] END logreg__C=0.05994842503189409, logreg__penalty=none, logreg__solver=liblinear;, score=nan total time=   0.2s\n",
      "[CV 2/5] END logreg__C=0.05994842503189409, logreg__penalty=none, logreg__solver=liblinear;, score=nan total time=   0.2s\n",
      "[CV 3/5] END logreg__C=0.05994842503189409, logreg__penalty=none, logreg__solver=liblinear;, score=nan total time=   0.1s\n",
      "[CV 4/5] END logreg__C=0.05994842503189409, logreg__penalty=none, logreg__solver=liblinear;, score=nan total time=   0.1s\n",
      "[CV 5/5] END logreg__C=0.05994842503189409, logreg__penalty=none, logreg__solver=liblinear;, score=nan total time=   0.2s\n",
      "[CV 1/5] END logreg__C=0.01, logreg__penalty=l1, logreg__solver=lbfgs;, score=nan total time=   0.2s\n",
      "[CV 5/5] END logreg__C=0.05994842503189409, logreg__penalty=l2, logreg__solver=lbfgs;, score=0.687 total time=   1.6s\n",
      "[CV 3/5] END logreg__C=0.01, logreg__penalty=l1, logreg__solver=lbfgs;, score=nan total time=   0.1s\n",
      "[CV 2/5] END logreg__C=0.01, logreg__penalty=l1, logreg__solver=lbfgs;, score=nan total time=   0.1s\n",
      "[CV 4/5] END logreg__C=0.05994842503189409, logreg__penalty=l2, logreg__solver=lbfgs;, score=0.692 total time=   2.0s\n",
      "[CV 4/5] END logreg__C=0.01, logreg__penalty=l1, logreg__solver=lbfgs;, score=nan total time=   0.2s\n",
      "[CV 5/5] END logreg__C=0.01, logreg__penalty=l1, logreg__solver=lbfgs;, score=nan total time=   0.1s\n",
      "[CV 1/5] END logreg__C=2782.559402207126, logreg__penalty=l1, logreg__solver=lbfgs;, score=nan total time=   0.2s\n",
      "[CV 2/5] END logreg__C=2782.559402207126, logreg__penalty=l1, logreg__solver=lbfgs;, score=nan total time=   0.2s\n",
      "[CV 3/5] END logreg__C=2782.559402207126, logreg__penalty=l1, logreg__solver=lbfgs;, score=nan total time=   0.1s\n",
      "[CV 4/5] END logreg__C=2782.559402207126, logreg__penalty=l1, logreg__solver=lbfgs;, score=nan total time=   0.2s\n",
      "[CV 5/5] END logreg__C=2782.559402207126, logreg__penalty=l1, logreg__solver=lbfgs;, score=nan total time=   0.2s\n",
      "[CV 1/5] END logreg__C=0.05994842503189409, logreg__penalty=l1, logreg__solver=sag;, score=nan total time=   0.1s\n",
      "[CV 2/5] END logreg__C=0.05994842503189409, logreg__penalty=l1, logreg__solver=sag;, score=nan total time=   0.1s\n",
      "[CV 3/5] END logreg__C=0.05994842503189409, logreg__penalty=l1, logreg__solver=sag;, score=nan total time=   0.1s\n",
      "[CV 4/5] END logreg__C=0.05994842503189409, logreg__penalty=l1, logreg__solver=sag;, score=nan total time=   0.2s\n",
      "[CV 5/5] END logreg__C=0.05994842503189409, logreg__penalty=l1, logreg__solver=sag;, score=nan total time=   0.2s\n"
     ]
    },
    {
     "name": "stderr",
     "output_type": "stream",
     "text": [
      "/Users/lisa/neuefische/ds-kickstarter/.venv/lib/python3.9/site-packages/sklearn/linear_model/_logistic.py:1483: UserWarning: Setting penalty='none' will ignore the C and l1_ratio parameters\n",
      "  warnings.warn(\n",
      "/Users/lisa/neuefische/ds-kickstarter/.venv/lib/python3.9/site-packages/sklearn/linear_model/_logistic.py:1483: UserWarning: Setting penalty='none' will ignore the C and l1_ratio parameters\n",
      "  warnings.warn(\n",
      "/Users/lisa/neuefische/ds-kickstarter/.venv/lib/python3.9/site-packages/sklearn/linear_model/_logistic.py:1483: UserWarning: Setting penalty='none' will ignore the C and l1_ratio parameters\n",
      "  warnings.warn(\n"
     ]
    },
    {
     "name": "stdout",
     "output_type": "stream",
     "text": [
      "[CV 2/5] END logreg__C=2.1544346900318843, logreg__penalty=none, logreg__solver=lbfgs;, score=0.695 total time=   4.4s\n"
     ]
    },
    {
     "name": "stderr",
     "output_type": "stream",
     "text": [
      "/Users/lisa/neuefische/ds-kickstarter/.venv/lib/python3.9/site-packages/sklearn/linear_model/_logistic.py:1483: UserWarning: Setting penalty='none' will ignore the C and l1_ratio parameters\n",
      "  warnings.warn(\n"
     ]
    },
    {
     "name": "stdout",
     "output_type": "stream",
     "text": [
      "[CV 1/5] END logreg__C=2.1544346900318843, logreg__penalty=none, logreg__solver=lbfgs;, score=0.696 total time=   5.8s\n"
     ]
    },
    {
     "name": "stderr",
     "output_type": "stream",
     "text": [
      "/Users/lisa/neuefische/ds-kickstarter/.venv/lib/python3.9/site-packages/sklearn/linear_model/_logistic.py:1483: UserWarning: Setting penalty='none' will ignore the C and l1_ratio parameters\n",
      "  warnings.warn(\n"
     ]
    },
    {
     "name": "stdout",
     "output_type": "stream",
     "text": [
      "[CV 3/5] END logreg__C=2.1544346900318843, logreg__penalty=none, logreg__solver=lbfgs;, score=0.693 total time=   6.5s\n",
      "[CV 1/5] END logreg__C=100000.0, logreg__penalty=none, logreg__solver=liblinear;, score=nan total time=   0.1s\n",
      "[CV 2/5] END logreg__C=100000.0, logreg__penalty=none, logreg__solver=liblinear;, score=nan total time=   0.2s\n",
      "[CV 3/5] END logreg__C=100000.0, logreg__penalty=none, logreg__solver=liblinear;, score=nan total time=   0.2s\n",
      "[CV 4/5] END logreg__C=100000.0, logreg__penalty=none, logreg__solver=liblinear;, score=nan total time=   0.1s\n",
      "[CV 5/5] END logreg__C=100000.0, logreg__penalty=none, logreg__solver=liblinear;, score=nan total time=   0.1s\n"
     ]
    },
    {
     "name": "stderr",
     "output_type": "stream",
     "text": [
      "/Users/lisa/neuefische/ds-kickstarter/.venv/lib/python3.9/site-packages/sklearn/linear_model/_logistic.py:1483: UserWarning: Setting penalty='none' will ignore the C and l1_ratio parameters\n",
      "  warnings.warn(\n"
     ]
    },
    {
     "name": "stdout",
     "output_type": "stream",
     "text": [
      "[CV 4/5] END logreg__C=2.1544346900318843, logreg__penalty=none, logreg__solver=lbfgs;, score=0.694 total time=   3.6s\n"
     ]
    },
    {
     "name": "stderr",
     "output_type": "stream",
     "text": [
      "/Users/lisa/neuefische/ds-kickstarter/.venv/lib/python3.9/site-packages/sklearn/linear_model/_logistic.py:1483: UserWarning: Setting penalty='none' will ignore the C and l1_ratio parameters\n",
      "  warnings.warn(\n"
     ]
    },
    {
     "name": "stdout",
     "output_type": "stream",
     "text": [
      "[CV 5/5] END logreg__C=2.1544346900318843, logreg__penalty=none, logreg__solver=lbfgs;, score=0.691 total time=   6.1s\n"
     ]
    },
    {
     "name": "stderr",
     "output_type": "stream",
     "text": [
      "/Users/lisa/neuefische/ds-kickstarter/.venv/lib/python3.9/site-packages/sklearn/linear_model/_logistic.py:1483: UserWarning: Setting penalty='none' will ignore the C and l1_ratio parameters\n",
      "  warnings.warn(\n"
     ]
    },
    {
     "name": "stdout",
     "output_type": "stream",
     "text": [
      "[CV 2/5] END logreg__C=100000.0, logreg__penalty=none, logreg__solver=lbfgs;, score=0.695 total time=   4.7s\n"
     ]
    },
    {
     "name": "stderr",
     "output_type": "stream",
     "text": [
      "/Users/lisa/neuefische/ds-kickstarter/.venv/lib/python3.9/site-packages/sklearn/linear_model/_logistic.py:1483: UserWarning: Setting penalty='none' will ignore the C and l1_ratio parameters\n",
      "  warnings.warn(\n"
     ]
    },
    {
     "name": "stdout",
     "output_type": "stream",
     "text": [
      "[CV 1/5] END logreg__C=100000.0, logreg__penalty=none, logreg__solver=lbfgs;, score=0.696 total time=   6.1s\n"
     ]
    },
    {
     "name": "stderr",
     "output_type": "stream",
     "text": [
      "/Users/lisa/neuefische/ds-kickstarter/.venv/lib/python3.9/site-packages/sklearn/linear_model/_logistic.py:1483: UserWarning: Setting penalty='none' will ignore the C and l1_ratio parameters\n",
      "  warnings.warn(\n"
     ]
    },
    {
     "name": "stdout",
     "output_type": "stream",
     "text": [
      "[CV 4/5] END logreg__C=100000.0, logreg__penalty=none, logreg__solver=lbfgs;, score=0.694 total time=   3.3s\n",
      "[CV 1/5] END logreg__C=2.1544346900318843, logreg__penalty=l2, logreg__solver=liblinear;, score=0.696 total time=   1.5s\n",
      "[CV 3/5] END logreg__C=100000.0, logreg__penalty=none, logreg__solver=lbfgs;, score=0.693 total time=   6.6s\n",
      "[CV 2/5] END logreg__C=2.1544346900318843, logreg__penalty=l2, logreg__solver=liblinear;, score=0.694 total time=   1.4s\n",
      "[CV 5/5] END logreg__C=100000.0, logreg__penalty=none, logreg__solver=lbfgs;, score=0.691 total time=   6.0s\n",
      "[CV 3/5] END logreg__C=2.1544346900318843, logreg__penalty=l2, logreg__solver=liblinear;, score=0.693 total time=   1.5s\n",
      "[CV 4/5] END logreg__C=2.1544346900318843, logreg__penalty=l2, logreg__solver=liblinear;, score=0.694 total time=   1.5s\n",
      "[CV 5/5] END logreg__C=2.1544346900318843, logreg__penalty=l2, logreg__solver=liblinear;, score=0.691 total time=   1.3s\n"
     ]
    },
    {
     "name": "stderr",
     "output_type": "stream",
     "text": [
      "/Users/lisa/neuefische/ds-kickstarter/.venv/lib/python3.9/site-packages/sklearn/linear_model/_sag.py:352: ConvergenceWarning: The max_iter was reached which means the coef_ did not converge\n",
      "  warnings.warn(\n",
      "/Users/lisa/neuefische/ds-kickstarter/.venv/lib/python3.9/site-packages/sklearn/linear_model/_sag.py:352: ConvergenceWarning: The max_iter was reached which means the coef_ did not converge\n",
      "  warnings.warn(\n",
      "/Users/lisa/neuefische/ds-kickstarter/.venv/lib/python3.9/site-packages/sklearn/linear_model/_sag.py:352: ConvergenceWarning: The max_iter was reached which means the coef_ did not converge\n",
      "  warnings.warn(\n",
      "/Users/lisa/neuefische/ds-kickstarter/.venv/lib/python3.9/site-packages/sklearn/linear_model/_sag.py:352: ConvergenceWarning: The max_iter was reached which means the coef_ did not converge\n",
      "  warnings.warn(\n",
      "/Users/lisa/neuefische/ds-kickstarter/.venv/lib/python3.9/site-packages/sklearn/linear_model/_sag.py:352: ConvergenceWarning: The max_iter was reached which means the coef_ did not converge\n",
      "  warnings.warn(\n"
     ]
    },
    {
     "name": "stdout",
     "output_type": "stream",
     "text": [
      "[CV 2/5] END logreg__C=464.1588833612782, logreg__penalty=l2, logreg__solver=sag;, score=0.694 total time=  55.7s\n",
      "[CV 5/5] END logreg__C=464.1588833612782, logreg__penalty=l2, logreg__solver=sag;, score=0.690 total time=  55.8s\n",
      "[CV 3/5] END logreg__C=464.1588833612782, logreg__penalty=l2, logreg__solver=sag;, score=0.692 total time=  55.8s\n",
      "[CV 4/5] END logreg__C=464.1588833612782, logreg__penalty=l2, logreg__solver=sag;, score=0.693 total time=  55.7s\n",
      "[CV 1/5] END logreg__C=464.1588833612782, logreg__penalty=l2, logreg__solver=sag;, score=0.695 total time=  55.9s\n"
     ]
    },
    {
     "data": {
      "text/plain": [
       "RandomizedSearchCV(cv=5,\n",
       "                   estimator=Pipeline(steps=[('preprocessor',\n",
       "                                              ColumnTransformer(transformers=[('num',\n",
       "                                                                               Pipeline(steps=[('std_scaler',\n",
       "                                                                                                StandardScaler())]),\n",
       "                                                                               ['goal_usd']),\n",
       "                                                                              ('cat',\n",
       "                                                                               Pipeline(steps=[('1hot',\n",
       "                                                                                                OneHotEncoder(handle_unknown='ignore'))]),\n",
       "                                                                               ['category_clean',\n",
       "                                                                                'country',\n",
       "                                                                                'staff_pick',\n",
       "                                                                                'word_count_description',\n",
       "                                                                                'word_count_name',\n",
       "                                                                                'name_is_split',\n",
       "                                                                                'descrip...\n",
       "                                              LogisticRegression(max_iter=1000))]),\n",
       "                   n_jobs=-1,\n",
       "                   param_distributions={'logreg__C': array([1.00000000e-02, 5.99484250e-02, 3.59381366e-01, 2.15443469e+00,\n",
       "       1.29154967e+01, 7.74263683e+01, 4.64158883e+02, 2.78255940e+03,\n",
       "       1.66810054e+04, 1.00000000e+05]),\n",
       "                                        'logreg__penalty': ('none', 'l1', 'l2'),\n",
       "                                        'logreg__solver': ['liblinear', 'lbfgs',\n",
       "                                                           'sag']},\n",
       "                   random_state=17, scoring='precision', verbose=5)"
      ]
     },
     "execution_count": 30,
     "metadata": {},
     "output_type": "execute_result"
    }
   ],
   "source": [
    "#rs_logreg.fit(X_train, y_train)"
   ]
  },
  {
   "cell_type": "code",
   "execution_count": 31,
   "metadata": {},
   "outputs": [
    {
     "name": "stdout",
     "output_type": "stream",
     "text": [
      "Best score: 0.694\n",
      "Best parameters: {'logreg__solver': 'lbfgs', 'logreg__penalty': 'none', 'logreg__C': 2.1544346900318843}\n"
     ]
    }
   ],
   "source": [
    "# Best score\n",
    "#print('Best score:', round(rs_logreg.best_score_, 3))\n",
    "\n",
    "# Best parameters\n",
    "#print('Best parameters:', rs_logreg.best_params_)"
   ]
  },
  {
   "cell_type": "markdown",
   "metadata": {},
   "source": [
    "Results:\n",
    "|Best score|solver|penalty|C|\n",
    "|---|---|---|---|\n",
    "|0.694|lbfgs|none|2.15|"
   ]
  },
  {
   "cell_type": "code",
   "execution_count": 36,
   "metadata": {},
   "outputs": [
    {
     "name": "stdout",
     "output_type": "stream",
     "text": [
      "Fitting 5 folds for each of 10 candidates, totalling 50 fits\n",
      "[CV 1/5] END tree__criterion=gini, tree__min_samples_split=72, tree__splitter=random;, score=0.696 total time=   4.6s\n",
      "[CV 3/5] END tree__criterion=gini, tree__min_samples_split=72, tree__splitter=random;, score=0.694 total time=   4.5s\n",
      "[CV 2/5] END tree__criterion=gini, tree__min_samples_split=72, tree__splitter=random;, score=0.701 total time=   4.6s\n",
      "[CV 1/5] END tree__criterion=entropy, tree__min_samples_split=13, tree__splitter=random;, score=0.680 total time=   6.6s\n",
      "[CV 3/5] END tree__criterion=entropy, tree__min_samples_split=13, tree__splitter=random;, score=0.678 total time=   6.8s\n",
      "[CV 5/5] END tree__criterion=entropy, tree__min_samples_split=13, tree__splitter=random;, score=0.675 total time=   6.8s\n",
      "[CV 2/5] END tree__criterion=entropy, tree__min_samples_split=13, tree__splitter=random;, score=0.682 total time=   7.1s\n",
      "[CV 4/5] END tree__criterion=entropy, tree__min_samples_split=13, tree__splitter=random;, score=0.679 total time=   7.0s\n",
      "[CV 1/5] END tree__criterion=gini, tree__min_samples_split=204, tree__splitter=best;, score=0.701 total time=   3.1s\n",
      "[CV 4/5] END tree__criterion=gini, tree__min_samples_split=72, tree__splitter=random;, score=0.697 total time=   4.2s\n",
      "[CV 5/5] END tree__criterion=gini, tree__min_samples_split=72, tree__splitter=random;, score=0.696 total time=   4.2s\n",
      "[CV 2/5] END tree__criterion=gini, tree__min_samples_split=204, tree__splitter=best;, score=0.703 total time=   3.4s\n",
      "[CV 4/5] END tree__criterion=gini, tree__min_samples_split=204, tree__splitter=best;, score=0.704 total time=   3.1s\n",
      "[CV 3/5] END tree__criterion=gini, tree__min_samples_split=204, tree__splitter=best;, score=0.698 total time=   3.4s\n",
      "[CV 5/5] END tree__criterion=gini, tree__min_samples_split=204, tree__splitter=best;, score=0.698 total time=   3.3s\n",
      "[CV 1/5] END tree__criterion=entropy, tree__min_samples_split=78, tree__splitter=best;, score=0.697 total time=   5.3s\n",
      "[CV 2/5] END tree__criterion=entropy, tree__min_samples_split=78, tree__splitter=best;, score=0.691 total time=   5.4s\n",
      "[CV 1/5] END tree__criterion=gini, tree__min_samples_split=140, tree__splitter=best;, score=0.704 total time=   3.9s\n",
      "[CV 2/5] END tree__criterion=gini, tree__min_samples_split=140, tree__splitter=best;, score=0.700 total time=   3.9s\n",
      "[CV 3/5] END tree__criterion=gini, tree__min_samples_split=140, tree__splitter=best;, score=0.696 total time=   3.8s\n",
      "[CV 3/5] END tree__criterion=entropy, tree__min_samples_split=78, tree__splitter=best;, score=0.693 total time=   5.3s\n",
      "[CV 4/5] END tree__criterion=entropy, tree__min_samples_split=78, tree__splitter=best;, score=0.699 total time=   5.1s\n",
      "[CV 5/5] END tree__criterion=entropy, tree__min_samples_split=78, tree__splitter=best;, score=0.694 total time=   5.2s\n",
      "[CV 4/5] END tree__criterion=gini, tree__min_samples_split=140, tree__splitter=best;, score=0.705 total time=   3.7s\n",
      "[CV 1/5] END tree__criterion=entropy, tree__min_samples_split=229, tree__splitter=random;, score=0.706 total time=   2.6s\n",
      "[CV 3/5] END tree__criterion=entropy, tree__min_samples_split=229, tree__splitter=random;, score=0.697 total time=   2.4s\n",
      "[CV 5/5] END tree__criterion=entropy, tree__min_samples_split=229, tree__splitter=random;, score=0.699 total time=   2.5s\n",
      "[CV 2/5] END tree__criterion=entropy, tree__min_samples_split=229, tree__splitter=random;, score=0.702 total time=   2.7s\n",
      "[CV 5/5] END tree__criterion=gini, tree__min_samples_split=140, tree__splitter=best;, score=0.697 total time=   4.0s\n",
      "[CV 4/5] END tree__criterion=entropy, tree__min_samples_split=229, tree__splitter=random;, score=0.703 total time=   3.2s\n",
      "[CV 1/5] END tree__criterion=gini, tree__min_samples_split=163, tree__splitter=best;, score=0.701 total time=   3.6s\n",
      "[CV 2/5] END tree__criterion=gini, tree__min_samples_split=163, tree__splitter=best;, score=0.702 total time=   3.7s\n",
      "[CV 1/5] END tree__criterion=gini, tree__min_samples_split=235, tree__splitter=best;, score=0.704 total time=   2.8s\n",
      "[CV 4/5] END tree__criterion=gini, tree__min_samples_split=163, tree__splitter=best;, score=0.704 total time=   3.5s\n",
      "[CV 2/5] END tree__criterion=gini, tree__min_samples_split=235, tree__splitter=best;, score=0.705 total time=   2.9s\n",
      "[CV 3/5] END tree__criterion=gini, tree__min_samples_split=163, tree__splitter=best;, score=0.696 total time=   3.9s\n",
      "[CV 3/5] END tree__criterion=gini, tree__min_samples_split=235, tree__splitter=best;, score=0.697 total time=   3.0s\n",
      "[CV 5/5] END tree__criterion=gini, tree__min_samples_split=163, tree__splitter=best;, score=0.695 total time=   3.7s\n",
      "[CV 4/5] END tree__criterion=gini, tree__min_samples_split=235, tree__splitter=best;, score=0.703 total time=   2.8s\n",
      "[CV 5/5] END tree__criterion=gini, tree__min_samples_split=235, tree__splitter=best;, score=0.701 total time=   3.0s\n",
      "[CV 1/5] END tree__criterion=entropy, tree__min_samples_split=150, tree__splitter=random;, score=0.705 total time=   3.3s\n",
      "[CV 1/5] END tree__criterion=entropy, tree__min_samples_split=222, tree__splitter=random;, score=0.702 total time=   2.7s\n",
      "[CV 2/5] END tree__criterion=entropy, tree__min_samples_split=150, tree__splitter=random;, score=0.701 total time=   3.1s\n",
      "[CV 4/5] END tree__criterion=entropy, tree__min_samples_split=150, tree__splitter=random;, score=0.704 total time=   3.2s\n",
      "[CV 5/5] END tree__criterion=entropy, tree__min_samples_split=150, tree__splitter=random;, score=0.700 total time=   3.2s\n",
      "[CV 3/5] END tree__criterion=entropy, tree__min_samples_split=150, tree__splitter=random;, score=0.698 total time=   3.4s\n",
      "[CV 2/5] END tree__criterion=entropy, tree__min_samples_split=222, tree__splitter=random;, score=0.705 total time=   2.5s\n",
      "[CV 3/5] END tree__criterion=entropy, tree__min_samples_split=222, tree__splitter=random;, score=0.698 total time=   1.7s\n",
      "[CV 4/5] END tree__criterion=entropy, tree__min_samples_split=222, tree__splitter=random;, score=0.704 total time=   1.7s\n",
      "[CV 5/5] END tree__criterion=entropy, tree__min_samples_split=222, tree__splitter=random;, score=0.700 total time=   1.5s\n"
     ]
    },
    {
     "data": {
      "text/plain": [
       "RandomizedSearchCV(cv=5,\n",
       "                   estimator=Pipeline(steps=[('preprocessor',\n",
       "                                              ColumnTransformer(transformers=[('num',\n",
       "                                                                               Pipeline(steps=[('std_scaler',\n",
       "                                                                                                StandardScaler())]),\n",
       "                                                                               ['goal_usd']),\n",
       "                                                                              ('cat',\n",
       "                                                                               Pipeline(steps=[('1hot',\n",
       "                                                                                                OneHotEncoder(handle_unknown='ignore'))]),\n",
       "                                                                               ['category_clean',\n",
       "                                                                                'country',\n",
       "                                                                                'staff_pick',\n",
       "                                                                                'word_count_description',\n",
       "                                                                                'word_count_name',\n",
       "                                                                                'name_is_split',\n",
       "                                                                                'description_is_split',\n",
       "                                                                                'name_addresses_reader',\n",
       "                                                                                'description_addresses_reader'])])),\n",
       "                                             ('tree',\n",
       "                                              DecisionTreeClassifier())]),\n",
       "                   n_jobs=-1,\n",
       "                   param_distributions={'tree__criterion': ['gini', 'entropy'],\n",
       "                                        'tree__min_samples_split': range(1, 300),\n",
       "                                        'tree__splitter': ['best', 'random']},\n",
       "                   random_state=17, scoring='precision', verbose=5)"
      ]
     },
     "execution_count": 36,
     "metadata": {},
     "output_type": "execute_result"
    }
   ],
   "source": [
    "#rs_tree.fit(X_train, y_train)"
   ]
  },
  {
   "cell_type": "code",
   "execution_count": 37,
   "metadata": {},
   "outputs": [
    {
     "name": "stdout",
     "output_type": "stream",
     "text": [
      "Best score: 0.702\n",
      "Best parameters: {'tree__splitter': 'best', 'tree__min_samples_split': 235, 'tree__criterion': 'gini'}\n"
     ]
    }
   ],
   "source": [
    "# Best score\n",
    "#print('Best score:', round(rs_tree.best_score_, 3))\n",
    "\n",
    "# Best parameters\n",
    "#print('Best parameters:', rs_tree.best_params_)"
   ]
  },
  {
   "cell_type": "markdown",
   "metadata": {},
   "source": [
    "Results:\n",
    "|Best score|splitter|min samples split|criterion|\n",
    "|---|---|---|---|\n",
    "|0.703|random|222|entropy|\n",
    "|0.661|best|235|gini|"
   ]
  },
  {
   "cell_type": "code",
   "execution_count": 42,
   "metadata": {},
   "outputs": [
    {
     "name": "stdout",
     "output_type": "stream",
     "text": [
      "Fitting 5 folds for each of 10 candidates, totalling 50 fits\n",
      "[CV 2/5] END random_forest__criterion=entropy, random_forest__min_samples_leaf=72, random_forest__n_estimators=92;, score=0.705 total time=  13.3s\n",
      "[CV 1/5] END random_forest__criterion=entropy, random_forest__min_samples_leaf=72, random_forest__n_estimators=92;, score=0.711 total time=  13.5s\n",
      "[CV 3/5] END random_forest__criterion=entropy, random_forest__min_samples_leaf=72, random_forest__n_estimators=92;, score=0.706 total time=  13.4s\n",
      "[CV 5/5] END random_forest__criterion=entropy, random_forest__min_samples_leaf=72, random_forest__n_estimators=92;, score=0.703 total time=  13.5s\n",
      "[CV 4/5] END random_forest__criterion=entropy, random_forest__min_samples_leaf=72, random_forest__n_estimators=92;, score=0.708 total time=  13.7s\n",
      "[CV 2/5] END random_forest__criterion=entropy, random_forest__min_samples_leaf=10, random_forest__n_estimators=51;, score=0.712 total time=  20.2s\n",
      "[CV 3/5] END random_forest__criterion=entropy, random_forest__min_samples_leaf=10, random_forest__n_estimators=51;, score=0.708 total time=  20.1s\n",
      "[CV 1/5] END random_forest__criterion=entropy, random_forest__min_samples_leaf=10, random_forest__n_estimators=51;, score=0.717 total time=  20.6s\n",
      "[CV 1/5] END random_forest__criterion=gini, random_forest__min_samples_leaf=58, random_forest__n_estimators=57;, score=0.714 total time=   8.3s\n",
      "[CV 3/5] END random_forest__criterion=gini, random_forest__min_samples_leaf=58, random_forest__n_estimators=57;, score=0.706 total time=   8.6s\n",
      "[CV 2/5] END random_forest__criterion=gini, random_forest__min_samples_leaf=58, random_forest__n_estimators=57;, score=0.708 total time=   8.9s\n",
      "[CV 5/5] END random_forest__criterion=gini, random_forest__min_samples_leaf=58, random_forest__n_estimators=57;, score=0.705 total time=   8.3s\n",
      "[CV 4/5] END random_forest__criterion=gini, random_forest__min_samples_leaf=58, random_forest__n_estimators=57;, score=0.711 total time=   8.4s\n",
      "[CV 1/5] END random_forest__criterion=gini, random_forest__min_samples_leaf=10, random_forest__n_estimators=29;, score=0.716 total time=  10.8s\n",
      "[CV 3/5] END random_forest__criterion=gini, random_forest__min_samples_leaf=10, random_forest__n_estimators=29;, score=0.709 total time=   9.9s\n",
      "[CV 5/5] END random_forest__criterion=entropy, random_forest__min_samples_leaf=10, random_forest__n_estimators=51;, score=0.709 total time=  19.2s\n",
      "[CV 2/5] END random_forest__criterion=gini, random_forest__min_samples_leaf=10, random_forest__n_estimators=29;, score=0.710 total time=  11.0s\n",
      "[CV 4/5] END random_forest__criterion=entropy, random_forest__min_samples_leaf=10, random_forest__n_estimators=51;, score=0.714 total time=  20.0s\n",
      "[CV 4/5] END random_forest__criterion=gini, random_forest__min_samples_leaf=10, random_forest__n_estimators=29;, score=0.715 total time=  11.1s\n",
      "[CV 5/5] END random_forest__criterion=gini, random_forest__min_samples_leaf=10, random_forest__n_estimators=29;, score=0.708 total time=  11.2s\n",
      "[CV 1/5] END random_forest__criterion=entropy, random_forest__min_samples_leaf=42, random_forest__n_estimators=68;, score=0.714 total time=  13.1s\n",
      "[CV 2/5] END random_forest__criterion=entropy, random_forest__min_samples_leaf=42, random_forest__n_estimators=68;, score=0.710 total time=  12.6s\n",
      "[CV 3/5] END random_forest__criterion=entropy, random_forest__min_samples_leaf=42, random_forest__n_estimators=68;, score=0.707 total time=  13.6s\n",
      "[CV 5/5] END random_forest__criterion=entropy, random_forest__min_samples_leaf=42, random_forest__n_estimators=68;, score=0.707 total time=  13.9s\n",
      "[CV 4/5] END random_forest__criterion=entropy, random_forest__min_samples_leaf=42, random_forest__n_estimators=68;, score=0.713 total time=  15.1s\n",
      "[CV 1/5] END random_forest__criterion=gini, random_forest__min_samples_leaf=27, random_forest__n_estimators=10;, score=0.713 total time=   2.9s\n",
      "[CV 2/5] END random_forest__criterion=gini, random_forest__min_samples_leaf=27, random_forest__n_estimators=10;, score=0.709 total time=   2.8s\n",
      "[CV 3/5] END random_forest__criterion=gini, random_forest__min_samples_leaf=27, random_forest__n_estimators=10;, score=0.705 total time=   2.6s\n",
      "[CV 4/5] END random_forest__criterion=gini, random_forest__min_samples_leaf=27, random_forest__n_estimators=10;, score=0.709 total time=   2.6s\n",
      "[CV 5/5] END random_forest__criterion=gini, random_forest__min_samples_leaf=27, random_forest__n_estimators=10;, score=0.712 total time=   2.5s\n",
      "[CV 1/5] END random_forest__criterion=entropy, random_forest__min_samples_leaf=35, random_forest__n_estimators=26;, score=0.713 total time=   5.5s\n",
      "[CV 2/5] END random_forest__criterion=entropy, random_forest__min_samples_leaf=35, random_forest__n_estimators=26;, score=0.707 total time=   5.5s\n",
      "[CV 3/5] END random_forest__criterion=entropy, random_forest__min_samples_leaf=35, random_forest__n_estimators=26;, score=0.705 total time=   5.2s\n",
      "[CV 4/5] END random_forest__criterion=entropy, random_forest__min_samples_leaf=35, random_forest__n_estimators=26;, score=0.712 total time=   5.2s\n",
      "[CV 1/5] END random_forest__criterion=gini, random_forest__min_samples_leaf=14, random_forest__n_estimators=86;, score=0.717 total time=  29.0s\n",
      "[CV 5/5] END random_forest__criterion=entropy, random_forest__min_samples_leaf=35, random_forest__n_estimators=26;, score=0.707 total time=   5.0s\n",
      "[CV 2/5] END random_forest__criterion=gini, random_forest__min_samples_leaf=14, random_forest__n_estimators=86;, score=0.713 total time=  28.8s\n",
      "[CV 3/5] END random_forest__criterion=gini, random_forest__min_samples_leaf=14, random_forest__n_estimators=86;, score=0.709 total time=  27.7s\n",
      "[CV 1/5] END random_forest__criterion=gini, random_forest__min_samples_leaf=62, random_forest__n_estimators=80;, score=0.712 total time=  10.8s\n",
      "[CV 1/5] END random_forest__criterion=gini, random_forest__min_samples_leaf=12, random_forest__n_estimators=4;, score=0.708 total time=   1.6s\n",
      "[CV 4/5] END random_forest__criterion=gini, random_forest__min_samples_leaf=14, random_forest__n_estimators=86;, score=0.714 total time=  28.3s\n",
      "[CV 2/5] END random_forest__criterion=gini, random_forest__min_samples_leaf=12, random_forest__n_estimators=4;, score=0.707 total time=   1.7s\n",
      "[CV 3/5] END random_forest__criterion=gini, random_forest__min_samples_leaf=12, random_forest__n_estimators=4;, score=0.706 total time=   1.4s\n",
      "[CV 5/5] END random_forest__criterion=gini, random_forest__min_samples_leaf=14, random_forest__n_estimators=86;, score=0.712 total time=  27.3s\n",
      "[CV 4/5] END random_forest__criterion=gini, random_forest__min_samples_leaf=12, random_forest__n_estimators=4;, score=0.707 total time=   1.5s\n",
      "[CV 5/5] END random_forest__criterion=gini, random_forest__min_samples_leaf=12, random_forest__n_estimators=4;, score=0.701 total time=   1.4s\n",
      "[CV 2/5] END random_forest__criterion=gini, random_forest__min_samples_leaf=62, random_forest__n_estimators=80;, score=0.707 total time=  10.9s\n",
      "[CV 5/5] END random_forest__criterion=gini, random_forest__min_samples_leaf=62, random_forest__n_estimators=80;, score=0.705 total time=  10.1s\n",
      "[CV 3/5] END random_forest__criterion=gini, random_forest__min_samples_leaf=62, random_forest__n_estimators=80;, score=0.704 total time=  10.5s\n",
      "[CV 4/5] END random_forest__criterion=gini, random_forest__min_samples_leaf=62, random_forest__n_estimators=80;, score=0.711 total time=  10.5s\n"
     ]
    },
    {
     "data": {
      "text/plain": [
       "RandomizedSearchCV(cv=5,\n",
       "                   estimator=Pipeline(steps=[('preprocessor',\n",
       "                                              ColumnTransformer(transformers=[('num',\n",
       "                                                                               Pipeline(steps=[('std_scaler',\n",
       "                                                                                                StandardScaler())]),\n",
       "                                                                               ['goal_usd']),\n",
       "                                                                              ('cat',\n",
       "                                                                               Pipeline(steps=[('1hot',\n",
       "                                                                                                OneHotEncoder(handle_unknown='ignore'))]),\n",
       "                                                                               ['category_clean',\n",
       "                                                                                'country',\n",
       "                                                                                'staff_pick',\n",
       "                                                                                'word_count_description',\n",
       "                                                                                'word_count_name',\n",
       "                                                                                'name_is_split',\n",
       "                                                                                'description_is_split',\n",
       "                                                                                'name_addresses_reader',\n",
       "                                                                                'description_addresses_reader'])])),\n",
       "                                             ('random_forest',\n",
       "                                              RandomForestClassifier())]),\n",
       "                   n_jobs=-1,\n",
       "                   param_distributions={'random_forest__criterion': ['gini',\n",
       "                                                                     'entropy'],\n",
       "                                        'random_forest__min_samples_leaf': range(1, 100),\n",
       "                                        'random_forest__n_estimators': range(1, 100)},\n",
       "                   random_state=7, scoring='precision', verbose=5)"
      ]
     },
     "execution_count": 42,
     "metadata": {},
     "output_type": "execute_result"
    }
   ],
   "source": [
    "#rs_random_forest.fit(X_train, y_train)"
   ]
  },
  {
   "cell_type": "code",
   "execution_count": 43,
   "metadata": {},
   "outputs": [
    {
     "name": "stdout",
     "output_type": "stream",
     "text": [
      "Best score: 0.713\n",
      "Best parameters: {'random_forest__n_estimators': 86, 'random_forest__min_samples_leaf': 14, 'random_forest__criterion': 'gini'}\n"
     ]
    }
   ],
   "source": [
    "# Best score\n",
    "#print('Best score:', round(rs_random_forest.best_score_, 3))\n",
    "\n",
    "# Best parameters\n",
    "#print('Best parameters:', rs_random_forest.best_params_)"
   ]
  },
  {
   "cell_type": "markdown",
   "metadata": {},
   "source": [
    "Results:\n",
    "|Best score|n_estimators|min_samples_leaf|criterion|\n",
    "|---|---|---|---|\n",
    "|0.713|83|13|entropy|\n",
    "|0.661|86|14|gini|"
   ]
  },
  {
   "cell_type": "code",
   "execution_count": 44,
   "metadata": {},
   "outputs": [],
   "source": [
    "# Defining parameter space for grid search.\n",
    "param_logreg = {'logreg__penalty':['none','l2'],\n",
    "                'logreg__C': [1,1.5,2,2.5,3],\n",
    "                'logreg__solver': ['liblinear', 'lbfgs']\n",
    "               }\n",
    "\n",
    "grid_logreg = GridSearchCV(pipe_logreg, param_grid=param_logreg, cv=5, scoring='precision', \n",
    "                           verbose=5, n_jobs=-1)\n",
    "\n",
    "\n",
    "param_tree = {'tree__criterion': ['entropy','gini'],\n",
    "                'tree__splitter': ['random','best'],\n",
    "                'tree__min_samples_split': range(220,240)\n",
    "               }\n",
    "\n",
    "grid_tree = GridSearchCV(pipe_tree, param_grid=param_tree, cv=5, scoring='precision', \n",
    "                           verbose=5, n_jobs=-1)\n",
    "\n",
    "\n",
    "param_random_forest = {'random_forest__n_estimators' : [80,85,90],\n",
    "            'random_forest__criterion': ['gini','entropy'],\n",
    "            'random_forest__min_samples_leaf': [13,14,15]\n",
    "               }\n",
    "\n",
    "grid_random_forest = GridSearchCV(pipe_random_forest, param_grid=param_random_forest, cv=5, scoring='precision', \n",
    "                           verbose=5, n_jobs=-1)"
   ]
  },
  {
   "cell_type": "code",
   "execution_count": 45,
   "metadata": {},
   "outputs": [
    {
     "name": "stdout",
     "output_type": "stream",
     "text": [
      "Fitting 5 folds for each of 20 candidates, totalling 100 fits\n",
      "[CV 1/5] END logreg__C=1, logreg__penalty=none, logreg__solver=liblinear;, score=nan total time=   0.2s\n",
      "[CV 2/5] END logreg__C=1, logreg__penalty=none, logreg__solver=liblinear;, score=nan total time=   0.2s\n",
      "[CV 3/5] END logreg__C=1, logreg__penalty=none, logreg__solver=liblinear;, score=nan total time=   0.2s\n",
      "[CV 4/5] END logreg__C=1, logreg__penalty=none, logreg__solver=liblinear;, score=nan total time=   0.2s\n",
      "[CV 5/5] END logreg__C=1, logreg__penalty=none, logreg__solver=liblinear;, score=nan total time=   0.2s\n",
      "[CV 2/5] END logreg__C=1, logreg__penalty=l2, logreg__solver=liblinear;, score=0.694 total time=   2.4s\n",
      "[CV 1/5] END logreg__C=1, logreg__penalty=l2, logreg__solver=liblinear;, score=0.695 total time=   2.5s\n",
      "[CV 3/5] END logreg__C=1, logreg__penalty=l2, logreg__solver=liblinear;, score=0.693 total time=   2.3s\n",
      "[CV 4/5] END logreg__C=1, logreg__penalty=l2, logreg__solver=liblinear;, score=0.694 total time=   2.4s\n",
      "[CV 5/5] END logreg__C=1, logreg__penalty=l2, logreg__solver=liblinear;, score=0.690 total time=   2.4s\n",
      "[CV 4/5] END logreg__C=1, logreg__penalty=none, logreg__solver=lbfgs;, score=0.694 total time=   5.2s\n",
      "[CV 2/5] END logreg__C=1, logreg__penalty=none, logreg__solver=lbfgs;, score=0.695 total time=   6.0s\n",
      "[CV 1/5] END logreg__C=1, logreg__penalty=l2, logreg__solver=lbfgs;, score=0.695 total time=   3.8s\n",
      "[CV 1/5] END logreg__C=1.5, logreg__penalty=none, logreg__solver=liblinear;, score=nan total time=   0.2s\n",
      "[CV 2/5] END logreg__C=1.5, logreg__penalty=none, logreg__solver=liblinear;, score=nan total time=   0.2s\n",
      "[CV 1/5] END logreg__C=1, logreg__penalty=none, logreg__solver=lbfgs;, score=0.696 total time=   7.9s\n",
      "[CV 3/5] END logreg__C=1.5, logreg__penalty=none, logreg__solver=liblinear;, score=nan total time=   0.2s\n",
      "[CV 4/5] END logreg__C=1.5, logreg__penalty=none, logreg__solver=liblinear;, score=nan total time=   0.2s\n",
      "[CV 5/5] END logreg__C=1.5, logreg__penalty=none, logreg__solver=liblinear;, score=nan total time=   0.2s\n",
      "[CV 4/5] END logreg__C=1, logreg__penalty=l2, logreg__solver=lbfgs;, score=0.694 total time=   2.6s\n",
      "[CV 5/5] END logreg__C=1, logreg__penalty=none, logreg__solver=lbfgs;, score=0.691 total time=   8.0s\n"
     ]
    },
    {
     "name": "stderr",
     "output_type": "stream",
     "text": [
      "/Users/lisa/neuefische/ds-kickstarter/.venv/lib/python3.9/site-packages/sklearn/linear_model/_logistic.py:1483: UserWarning: Setting penalty='none' will ignore the C and l1_ratio parameters\n",
      "  warnings.warn(\n",
      "/Users/lisa/neuefische/ds-kickstarter/.venv/lib/python3.9/site-packages/sklearn/linear_model/_logistic.py:1483: UserWarning: Setting penalty='none' will ignore the C and l1_ratio parameters\n",
      "  warnings.warn(\n",
      "/Users/lisa/neuefische/ds-kickstarter/.venv/lib/python3.9/site-packages/sklearn/linear_model/_logistic.py:1483: UserWarning: Setting penalty='none' will ignore the C and l1_ratio parameters\n",
      "  warnings.warn(\n",
      "/Users/lisa/neuefische/ds-kickstarter/.venv/lib/python3.9/site-packages/sklearn/linear_model/_logistic.py:1483: UserWarning: Setting penalty='none' will ignore the C and l1_ratio parameters\n",
      "  warnings.warn(\n"
     ]
    },
    {
     "name": "stdout",
     "output_type": "stream",
     "text": [
      "[CV 2/5] END logreg__C=1, logreg__penalty=l2, logreg__solver=lbfgs;, score=0.694 total time=   3.2s\n",
      "[CV 3/5] END logreg__C=1, logreg__penalty=none, logreg__solver=lbfgs;, score=0.693 total time=   8.6s\n",
      "[CV 3/5] END logreg__C=1, logreg__penalty=l2, logreg__solver=lbfgs;, score=0.693 total time=   3.2s\n"
     ]
    },
    {
     "name": "stderr",
     "output_type": "stream",
     "text": [
      "/Users/lisa/neuefische/ds-kickstarter/.venv/lib/python3.9/site-packages/sklearn/linear_model/_logistic.py:1483: UserWarning: Setting penalty='none' will ignore the C and l1_ratio parameters\n",
      "  warnings.warn(\n"
     ]
    },
    {
     "name": "stdout",
     "output_type": "stream",
     "text": [
      "[CV 5/5] END logreg__C=1, logreg__penalty=l2, logreg__solver=lbfgs;, score=0.690 total time=   3.1s\n",
      "[CV 2/5] END logreg__C=1.5, logreg__penalty=l2, logreg__solver=liblinear;, score=0.694 total time=   2.2s\n",
      "[CV 3/5] END logreg__C=1.5, logreg__penalty=l2, logreg__solver=liblinear;, score=0.692 total time=   2.4s\n",
      "[CV 1/5] END logreg__C=1.5, logreg__penalty=l2, logreg__solver=liblinear;, score=0.695 total time=   2.9s\n",
      "[CV 4/5] END logreg__C=1.5, logreg__penalty=none, logreg__solver=lbfgs;, score=0.694 total time=   4.9s\n",
      "[CV 4/5] END logreg__C=1.5, logreg__penalty=l2, logreg__solver=liblinear;, score=0.694 total time=   2.6s\n",
      "[CV 2/5] END logreg__C=1.5, logreg__penalty=none, logreg__solver=lbfgs;, score=0.695 total time=   5.7s\n",
      "[CV 5/5] END logreg__C=1.5, logreg__penalty=l2, logreg__solver=liblinear;, score=0.691 total time=   2.5s\n",
      "[CV 1/5] END logreg__C=1.5, logreg__penalty=l2, logreg__solver=lbfgs;, score=0.695 total time=   3.3s\n",
      "[CV 1/5] END logreg__C=2, logreg__penalty=none, logreg__solver=liblinear;, score=nan total time=   0.1s\n",
      "[CV 2/5] END logreg__C=2, logreg__penalty=none, logreg__solver=liblinear;, score=nan total time=   0.2s\n",
      "[CV 1/5] END logreg__C=1.5, logreg__penalty=none, logreg__solver=lbfgs;, score=0.696 total time=   7.6s\n",
      "[CV 3/5] END logreg__C=2, logreg__penalty=none, logreg__solver=liblinear;, score=nan total time=   0.2s\n",
      "[CV 4/5] END logreg__C=2, logreg__penalty=none, logreg__solver=liblinear;, score=nan total time=   0.2s\n",
      "[CV 5/5] END logreg__C=2, logreg__penalty=none, logreg__solver=liblinear;, score=nan total time=   0.2s\n",
      "[CV 5/5] END logreg__C=1.5, logreg__penalty=none, logreg__solver=lbfgs;, score=0.691 total time=   7.4s\n"
     ]
    },
    {
     "name": "stderr",
     "output_type": "stream",
     "text": [
      "/Users/lisa/neuefische/ds-kickstarter/.venv/lib/python3.9/site-packages/sklearn/linear_model/_logistic.py:1483: UserWarning: Setting penalty='none' will ignore the C and l1_ratio parameters\n",
      "  warnings.warn(\n",
      "/Users/lisa/neuefische/ds-kickstarter/.venv/lib/python3.9/site-packages/sklearn/linear_model/_logistic.py:1483: UserWarning: Setting penalty='none' will ignore the C and l1_ratio parameters\n",
      "  warnings.warn(\n",
      "/Users/lisa/neuefische/ds-kickstarter/.venv/lib/python3.9/site-packages/sklearn/linear_model/_logistic.py:1483: UserWarning: Setting penalty='none' will ignore the C and l1_ratio parameters\n",
      "  warnings.warn(\n"
     ]
    },
    {
     "name": "stdout",
     "output_type": "stream",
     "text": [
      "[CV 3/5] END logreg__C=1.5, logreg__penalty=none, logreg__solver=lbfgs;, score=0.693 total time=   8.7s\n",
      "[CV 4/5] END logreg__C=1.5, logreg__penalty=l2, logreg__solver=lbfgs;, score=0.694 total time=   3.0s\n",
      "[CV 2/5] END logreg__C=1.5, logreg__penalty=l2, logreg__solver=lbfgs;, score=0.694 total time=   3.6s\n"
     ]
    },
    {
     "name": "stderr",
     "output_type": "stream",
     "text": [
      "/Users/lisa/neuefische/ds-kickstarter/.venv/lib/python3.9/site-packages/sklearn/linear_model/_logistic.py:1483: UserWarning: Setting penalty='none' will ignore the C and l1_ratio parameters\n",
      "  warnings.warn(\n",
      "/Users/lisa/neuefische/ds-kickstarter/.venv/lib/python3.9/site-packages/sklearn/linear_model/_logistic.py:1483: UserWarning: Setting penalty='none' will ignore the C and l1_ratio parameters\n",
      "  warnings.warn(\n"
     ]
    },
    {
     "name": "stdout",
     "output_type": "stream",
     "text": [
      "[CV 5/5] END logreg__C=1.5, logreg__penalty=l2, logreg__solver=lbfgs;, score=0.691 total time=   3.5s\n",
      "[CV 3/5] END logreg__C=1.5, logreg__penalty=l2, logreg__solver=lbfgs;, score=0.693 total time=   3.9s\n",
      "[CV 1/5] END logreg__C=2, logreg__penalty=l2, logreg__solver=liblinear;, score=0.696 total time=   2.6s\n",
      "[CV 2/5] END logreg__C=2, logreg__penalty=l2, logreg__solver=liblinear;, score=0.694 total time=   2.3s\n",
      "[CV 3/5] END logreg__C=2, logreg__penalty=l2, logreg__solver=liblinear;, score=0.693 total time=   2.4s\n",
      "[CV 2/5] END logreg__C=2, logreg__penalty=none, logreg__solver=lbfgs;, score=0.695 total time=   5.4s\n",
      "[CV 4/5] END logreg__C=2, logreg__penalty=none, logreg__solver=lbfgs;, score=0.694 total time=   4.7s\n",
      "[CV 4/5] END logreg__C=2, logreg__penalty=l2, logreg__solver=liblinear;, score=0.694 total time=   2.5s\n",
      "[CV 5/5] END logreg__C=2, logreg__penalty=l2, logreg__solver=liblinear;, score=0.691 total time=   2.4s\n",
      "[CV 1/5] END logreg__C=2, logreg__penalty=none, logreg__solver=lbfgs;, score=0.696 total time=   7.7s\n",
      "[CV 1/5] END logreg__C=2.5, logreg__penalty=none, logreg__solver=liblinear;, score=nan total time=   0.2s\n",
      "[CV 2/5] END logreg__C=2.5, logreg__penalty=none, logreg__solver=liblinear;, score=nan total time=   0.2s\n",
      "[CV 3/5] END logreg__C=2.5, logreg__penalty=none, logreg__solver=liblinear;, score=nan total time=   0.1s\n",
      "[CV 3/5] END logreg__C=2, logreg__penalty=none, logreg__solver=lbfgs;, score=0.693 total time=   8.4s\n",
      "[CV 4/5] END logreg__C=2.5, logreg__penalty=none, logreg__solver=liblinear;, score=nan total time=   0.2s\n",
      "[CV 1/5] END logreg__C=2, logreg__penalty=l2, logreg__solver=lbfgs;, score=0.696 total time=   4.4s\n",
      "[CV 5/5] END logreg__C=2, logreg__penalty=none, logreg__solver=lbfgs;, score=0.691 total time=   7.7s\n",
      "[CV 2/5] END logreg__C=2, logreg__penalty=l2, logreg__solver=lbfgs;, score=0.694 total time=   3.2s\n",
      "[CV 5/5] END logreg__C=2.5, logreg__penalty=none, logreg__solver=liblinear;, score=nan total time=   0.2s\n"
     ]
    },
    {
     "name": "stderr",
     "output_type": "stream",
     "text": [
      "/Users/lisa/neuefische/ds-kickstarter/.venv/lib/python3.9/site-packages/sklearn/linear_model/_logistic.py:1483: UserWarning: Setting penalty='none' will ignore the C and l1_ratio parameters\n",
      "  warnings.warn(\n",
      "/Users/lisa/neuefische/ds-kickstarter/.venv/lib/python3.9/site-packages/sklearn/linear_model/_logistic.py:1483: UserWarning: Setting penalty='none' will ignore the C and l1_ratio parameters\n",
      "  warnings.warn(\n",
      "/Users/lisa/neuefische/ds-kickstarter/.venv/lib/python3.9/site-packages/sklearn/linear_model/_logistic.py:1483: UserWarning: Setting penalty='none' will ignore the C and l1_ratio parameters\n",
      "  warnings.warn(\n",
      "/Users/lisa/neuefische/ds-kickstarter/.venv/lib/python3.9/site-packages/sklearn/linear_model/_logistic.py:1483: UserWarning: Setting penalty='none' will ignore the C and l1_ratio parameters\n",
      "  warnings.warn(\n",
      "/Users/lisa/neuefische/ds-kickstarter/.venv/lib/python3.9/site-packages/sklearn/linear_model/_logistic.py:1483: UserWarning: Setting penalty='none' will ignore the C and l1_ratio parameters\n",
      "  warnings.warn(\n"
     ]
    },
    {
     "name": "stdout",
     "output_type": "stream",
     "text": [
      "[CV 3/5] END logreg__C=2, logreg__penalty=l2, logreg__solver=lbfgs;, score=0.693 total time=   3.9s\n",
      "[CV 4/5] END logreg__C=2, logreg__penalty=l2, logreg__solver=lbfgs;, score=0.694 total time=   3.6s\n",
      "[CV 5/5] END logreg__C=2, logreg__penalty=l2, logreg__solver=lbfgs;, score=0.691 total time=   3.5s\n",
      "[CV 1/5] END logreg__C=2.5, logreg__penalty=l2, logreg__solver=liblinear;, score=0.696 total time=   2.6s\n",
      "[CV 2/5] END logreg__C=2.5, logreg__penalty=l2, logreg__solver=liblinear;, score=0.694 total time=   2.5s\n",
      "[CV 3/5] END logreg__C=2.5, logreg__penalty=l2, logreg__solver=liblinear;, score=0.693 total time=   2.6s\n",
      "[CV 4/5] END logreg__C=2.5, logreg__penalty=none, logreg__solver=lbfgs;, score=0.694 total time=   5.0s\n",
      "[CV 2/5] END logreg__C=2.5, logreg__penalty=none, logreg__solver=lbfgs;, score=0.695 total time=   6.2s\n",
      "[CV 4/5] END logreg__C=2.5, logreg__penalty=l2, logreg__solver=liblinear;, score=0.693 total time=   2.8s\n",
      "[CV 5/5] END logreg__C=2.5, logreg__penalty=l2, logreg__solver=liblinear;, score=0.691 total time=   2.9s\n",
      "[CV 1/5] END logreg__C=2.5, logreg__penalty=l2, logreg__solver=lbfgs;, score=0.696 total time=   3.6s\n",
      "[CV 1/5] END logreg__C=2.5, logreg__penalty=none, logreg__solver=lbfgs;, score=0.696 total time=   7.8s\n",
      "[CV 1/5] END logreg__C=3, logreg__penalty=none, logreg__solver=liblinear;, score=nan total time=   0.2s\n",
      "[CV 2/5] END logreg__C=3, logreg__penalty=none, logreg__solver=liblinear;, score=nan total time=   0.2s\n",
      "[CV 3/5] END logreg__C=3, logreg__penalty=none, logreg__solver=liblinear;, score=nan total time=   0.2s\n",
      "[CV 5/5] END logreg__C=2.5, logreg__penalty=none, logreg__solver=lbfgs;, score=0.691 total time=   8.1s\n",
      "[CV 4/5] END logreg__C=3, logreg__penalty=none, logreg__solver=liblinear;, score=nan total time=   0.2s\n",
      "[CV 5/5] END logreg__C=3, logreg__penalty=none, logreg__solver=liblinear;, score=nan total time=   0.1s\n"
     ]
    },
    {
     "name": "stderr",
     "output_type": "stream",
     "text": [
      "/Users/lisa/neuefische/ds-kickstarter/.venv/lib/python3.9/site-packages/sklearn/linear_model/_logistic.py:1483: UserWarning: Setting penalty='none' will ignore the C and l1_ratio parameters\n",
      "  warnings.warn(\n",
      "/Users/lisa/neuefische/ds-kickstarter/.venv/lib/python3.9/site-packages/sklearn/linear_model/_logistic.py:1483: UserWarning: Setting penalty='none' will ignore the C and l1_ratio parameters\n",
      "  warnings.warn(\n",
      "/Users/lisa/neuefische/ds-kickstarter/.venv/lib/python3.9/site-packages/sklearn/linear_model/_logistic.py:1483: UserWarning: Setting penalty='none' will ignore the C and l1_ratio parameters\n",
      "  warnings.warn(\n"
     ]
    },
    {
     "name": "stdout",
     "output_type": "stream",
     "text": [
      "[CV 3/5] END logreg__C=2.5, logreg__penalty=none, logreg__solver=lbfgs;, score=0.693 total time=   9.1s\n",
      "[CV 2/5] END logreg__C=2.5, logreg__penalty=l2, logreg__solver=lbfgs;, score=0.694 total time=   4.2s\n"
     ]
    },
    {
     "name": "stderr",
     "output_type": "stream",
     "text": [
      "/Users/lisa/neuefische/ds-kickstarter/.venv/lib/python3.9/site-packages/sklearn/linear_model/_logistic.py:1483: UserWarning: Setting penalty='none' will ignore the C and l1_ratio parameters\n",
      "  warnings.warn(\n",
      "/Users/lisa/neuefische/ds-kickstarter/.venv/lib/python3.9/site-packages/sklearn/linear_model/_logistic.py:1483: UserWarning: Setting penalty='none' will ignore the C and l1_ratio parameters\n",
      "  warnings.warn(\n"
     ]
    },
    {
     "name": "stdout",
     "output_type": "stream",
     "text": [
      "[CV 3/5] END logreg__C=2.5, logreg__penalty=l2, logreg__solver=lbfgs;, score=0.693 total time=   3.6s\n",
      "[CV 5/5] END logreg__C=2.5, logreg__penalty=l2, logreg__solver=lbfgs;, score=0.691 total time=   3.4s\n",
      "[CV 4/5] END logreg__C=2.5, logreg__penalty=l2, logreg__solver=lbfgs;, score=0.693 total time=   4.2s\n",
      "[CV 2/5] END logreg__C=3, logreg__penalty=l2, logreg__solver=liblinear;, score=0.694 total time=   2.4s\n",
      "[CV 1/5] END logreg__C=3, logreg__penalty=l2, logreg__solver=liblinear;, score=0.696 total time=   2.6s\n",
      "[CV 3/5] END logreg__C=3, logreg__penalty=l2, logreg__solver=liblinear;, score=0.692 total time=   2.6s\n",
      "[CV 4/5] END logreg__C=3, logreg__penalty=none, logreg__solver=lbfgs;, score=0.694 total time=   4.6s\n",
      "[CV 2/5] END logreg__C=3, logreg__penalty=none, logreg__solver=lbfgs;, score=0.695 total time=   5.7s\n",
      "[CV 4/5] END logreg__C=3, logreg__penalty=l2, logreg__solver=liblinear;, score=0.693 total time=   2.7s\n",
      "[CV 5/5] END logreg__C=3, logreg__penalty=l2, logreg__solver=liblinear;, score=0.690 total time=   3.2s\n",
      "[CV 1/5] END logreg__C=3, logreg__penalty=none, logreg__solver=lbfgs;, score=0.696 total time=   8.0s\n",
      "[CV 5/5] END logreg__C=3, logreg__penalty=none, logreg__solver=lbfgs;, score=0.691 total time=   7.7s\n",
      "[CV 3/5] END logreg__C=3, logreg__penalty=none, logreg__solver=lbfgs;, score=0.693 total time=   8.8s\n",
      "[CV 1/5] END logreg__C=3, logreg__penalty=l2, logreg__solver=lbfgs;, score=0.696 total time=   3.9s\n",
      "[CV 3/5] END logreg__C=3, logreg__penalty=l2, logreg__solver=lbfgs;, score=0.692 total time=   3.6s\n",
      "[CV 2/5] END logreg__C=3, logreg__penalty=l2, logreg__solver=lbfgs;, score=0.695 total time=   4.1s\n",
      "[CV 4/5] END logreg__C=3, logreg__penalty=l2, logreg__solver=lbfgs;, score=0.693 total time=   2.9s\n",
      "[CV 5/5] END logreg__C=3, logreg__penalty=l2, logreg__solver=lbfgs;, score=0.690 total time=   2.6s\n"
     ]
    },
    {
     "data": {
      "text/plain": [
       "GridSearchCV(cv=5,\n",
       "             estimator=Pipeline(steps=[('preprocessor',\n",
       "                                        ColumnTransformer(transformers=[('num',\n",
       "                                                                         Pipeline(steps=[('std_scaler',\n",
       "                                                                                          StandardScaler())]),\n",
       "                                                                         ['goal_usd']),\n",
       "                                                                        ('cat',\n",
       "                                                                         Pipeline(steps=[('1hot',\n",
       "                                                                                          OneHotEncoder(handle_unknown='ignore'))]),\n",
       "                                                                         ['category_clean',\n",
       "                                                                          'country',\n",
       "                                                                          'staff_pick',\n",
       "                                                                          'word_count_description',\n",
       "                                                                          'word_count_name',\n",
       "                                                                          'name_is_split',\n",
       "                                                                          'description_is_split',\n",
       "                                                                          'name_addresses_reader',\n",
       "                                                                          'description_addresses_reader'])])),\n",
       "                                       ('logreg',\n",
       "                                        LogisticRegression(max_iter=1000))]),\n",
       "             n_jobs=-1,\n",
       "             param_grid={'logreg__C': [1, 1.5, 2, 2.5, 3],\n",
       "                         'logreg__penalty': ['none', 'l2'],\n",
       "                         'logreg__solver': ['liblinear', 'lbfgs']},\n",
       "             scoring='precision', verbose=5)"
      ]
     },
     "execution_count": 45,
     "metadata": {},
     "output_type": "execute_result"
    }
   ],
   "source": [
    "grid_logreg.fit(X_train, y_train)"
   ]
  },
  {
   "cell_type": "code",
   "execution_count": 46,
   "metadata": {},
   "outputs": [
    {
     "name": "stdout",
     "output_type": "stream",
     "text": [
      "Fitting 5 folds for each of 80 candidates, totalling 400 fits\n",
      "[CV 1/5] END tree__criterion=entropy, tree__min_samples_split=220, tree__splitter=random;, score=0.702 total time=   2.7s\n",
      "[CV 2/5] END tree__criterion=entropy, tree__min_samples_split=220, tree__splitter=random;, score=0.703 total time=   2.9s\n",
      "[CV 4/5] END tree__criterion=entropy, tree__min_samples_split=220, tree__splitter=random;, score=0.707 total time=   3.0s\n",
      "[CV 5/5] END tree__criterion=entropy, tree__min_samples_split=220, tree__splitter=random;, score=0.708 total time=   2.9s\n",
      "[CV 3/5] END tree__criterion=entropy, tree__min_samples_split=220, tree__splitter=random;, score=0.700 total time=   3.1s\n",
      "[CV 1/5] END tree__criterion=entropy, tree__min_samples_split=220, tree__splitter=best;, score=0.702 total time=   3.7s\n",
      "[CV 2/5] END tree__criterion=entropy, tree__min_samples_split=220, tree__splitter=best;, score=0.702 total time=   3.7s\n",
      "[CV 3/5] END tree__criterion=entropy, tree__min_samples_split=220, tree__splitter=best;, score=0.699 total time=   3.6s\n",
      "[CV 2/5] END tree__criterion=entropy, tree__min_samples_split=221, tree__splitter=random;, score=0.702 total time=   2.7s\n",
      "[CV 1/5] END tree__criterion=entropy, tree__min_samples_split=221, tree__splitter=random;, score=0.710 total time=   2.9s\n",
      "[CV 4/5] END tree__criterion=entropy, tree__min_samples_split=220, tree__splitter=best;, score=0.700 total time=   3.4s\n",
      "[CV 3/5] END tree__criterion=entropy, tree__min_samples_split=221, tree__splitter=random;, score=0.698 total time=   3.0s\n",
      "[CV 5/5] END tree__criterion=entropy, tree__min_samples_split=220, tree__splitter=best;, score=0.702 total time=   3.8s\n",
      "[CV 4/5] END tree__criterion=entropy, tree__min_samples_split=221, tree__splitter=random;, score=0.708 total time=   2.9s\n",
      "[CV 5/5] END tree__criterion=entropy, tree__min_samples_split=221, tree__splitter=random;, score=0.698 total time=   2.9s\n",
      "[CV 1/5] END tree__criterion=entropy, tree__min_samples_split=221, tree__splitter=best;, score=0.703 total time=   3.6s\n",
      "[CV 3/5] END tree__criterion=entropy, tree__min_samples_split=221, tree__splitter=best;, score=0.699 total time=   3.2s\n",
      "[CV 2/5] END tree__criterion=entropy, tree__min_samples_split=221, tree__splitter=best;, score=0.702 total time=   3.4s\n",
      "[CV 4/5] END tree__criterion=entropy, tree__min_samples_split=221, tree__splitter=best;, score=0.700 total time=   3.3s\n",
      "[CV 1/5] END tree__criterion=entropy, tree__min_samples_split=222, tree__splitter=random;, score=0.704 total time=   2.8s\n",
      "[CV 5/5] END tree__criterion=entropy, tree__min_samples_split=221, tree__splitter=best;, score=0.703 total time=   3.4s\n",
      "[CV 3/5] END tree__criterion=entropy, tree__min_samples_split=222, tree__splitter=random;, score=0.697 total time=   2.7s\n",
      "[CV 2/5] END tree__criterion=entropy, tree__min_samples_split=222, tree__splitter=random;, score=0.703 total time=   2.9s\n",
      "[CV 4/5] END tree__criterion=entropy, tree__min_samples_split=222, tree__splitter=random;, score=0.704 total time=   2.9s\n",
      "[CV 5/5] END tree__criterion=entropy, tree__min_samples_split=222, tree__splitter=random;, score=0.701 total time=   2.7s\n",
      "[CV 1/5] END tree__criterion=entropy, tree__min_samples_split=222, tree__splitter=best;, score=0.703 total time=   3.3s\n",
      "[CV 1/5] END tree__criterion=entropy, tree__min_samples_split=223, tree__splitter=random;, score=0.707 total time=   2.8s\n",
      "[CV 3/5] END tree__criterion=entropy, tree__min_samples_split=222, tree__splitter=best;, score=0.699 total time=   3.2s\n",
      "[CV 2/5] END tree__criterion=entropy, tree__min_samples_split=222, tree__splitter=best;, score=0.702 total time=   3.5s\n",
      "[CV 4/5] END tree__criterion=entropy, tree__min_samples_split=222, tree__splitter=best;, score=0.699 total time=   3.2s\n",
      "[CV 5/5] END tree__criterion=entropy, tree__min_samples_split=222, tree__splitter=best;, score=0.700 total time=   3.5s\n",
      "[CV 2/5] END tree__criterion=entropy, tree__min_samples_split=223, tree__splitter=random;, score=0.703 total time=   3.2s\n",
      "[CV 3/5] END tree__criterion=entropy, tree__min_samples_split=223, tree__splitter=random;, score=0.698 total time=   2.4s\n",
      "[CV 5/5] END tree__criterion=entropy, tree__min_samples_split=223, tree__splitter=random;, score=0.698 total time=   2.7s\n",
      "[CV 4/5] END tree__criterion=entropy, tree__min_samples_split=223, tree__splitter=random;, score=0.702 total time=   3.2s\n",
      "[CV 1/5] END tree__criterion=entropy, tree__min_samples_split=223, tree__splitter=best;, score=0.703 total time=   3.4s\n",
      "[CV 2/5] END tree__criterion=entropy, tree__min_samples_split=223, tree__splitter=best;, score=0.702 total time=   3.3s\n",
      "[CV 3/5] END tree__criterion=entropy, tree__min_samples_split=223, tree__splitter=best;, score=0.699 total time=   3.4s\n",
      "[CV 4/5] END tree__criterion=entropy, tree__min_samples_split=223, tree__splitter=best;, score=0.699 total time=   3.2s\n",
      "[CV 1/5] END tree__criterion=entropy, tree__min_samples_split=224, tree__splitter=random;, score=0.705 total time=   2.6s\n",
      "[CV 5/5] END tree__criterion=entropy, tree__min_samples_split=223, tree__splitter=best;, score=0.701 total time=   3.3s\n",
      "[CV 2/5] END tree__criterion=entropy, tree__min_samples_split=224, tree__splitter=random;, score=0.700 total time=   2.9s\n",
      "[CV 3/5] END tree__criterion=entropy, tree__min_samples_split=224, tree__splitter=random;, score=0.696 total time=   2.6s\n",
      "[CV 4/5] END tree__criterion=entropy, tree__min_samples_split=224, tree__splitter=random;, score=0.703 total time=   2.8s\n",
      "[CV 5/5] END tree__criterion=entropy, tree__min_samples_split=224, tree__splitter=random;, score=0.702 total time=   2.7s\n",
      "[CV 1/5] END tree__criterion=entropy, tree__min_samples_split=224, tree__splitter=best;, score=0.703 total time=   3.4s\n",
      "[CV 2/5] END tree__criterion=entropy, tree__min_samples_split=224, tree__splitter=best;, score=0.700 total time=   3.4s\n",
      "[CV 3/5] END tree__criterion=entropy, tree__min_samples_split=224, tree__splitter=best;, score=0.698 total time=   3.4s\n",
      "[CV 4/5] END tree__criterion=entropy, tree__min_samples_split=224, tree__splitter=best;, score=0.700 total time=   3.2s\n",
      "[CV 1/5] END tree__criterion=entropy, tree__min_samples_split=225, tree__splitter=random;, score=0.707 total time=   2.6s\n",
      "[CV 5/5] END tree__criterion=entropy, tree__min_samples_split=224, tree__splitter=best;, score=0.700 total time=   3.3s\n",
      "[CV 3/5] END tree__criterion=entropy, tree__min_samples_split=225, tree__splitter=random;, score=0.700 total time=   2.9s\n",
      "[CV 2/5] END tree__criterion=entropy, tree__min_samples_split=225, tree__splitter=random;, score=0.704 total time=   3.0s\n",
      "[CV 5/5] END tree__criterion=entropy, tree__min_samples_split=225, tree__splitter=random;, score=0.700 total time=   2.7s\n",
      "[CV 4/5] END tree__criterion=entropy, tree__min_samples_split=225, tree__splitter=random;, score=0.704 total time=   2.7s\n",
      "[CV 1/5] END tree__criterion=entropy, tree__min_samples_split=225, tree__splitter=best;, score=0.704 total time=   3.6s\n",
      "[CV 2/5] END tree__criterion=entropy, tree__min_samples_split=225, tree__splitter=best;, score=0.701 total time=   3.5s\n",
      "[CV 3/5] END tree__criterion=entropy, tree__min_samples_split=225, tree__splitter=best;, score=0.699 total time=   3.1s\n",
      "[CV 4/5] END tree__criterion=entropy, tree__min_samples_split=225, tree__splitter=best;, score=0.699 total time=   3.2s\n",
      "[CV 1/5] END tree__criterion=entropy, tree__min_samples_split=226, tree__splitter=random;, score=0.705 total time=   2.8s\n",
      "[CV 5/5] END tree__criterion=entropy, tree__min_samples_split=225, tree__splitter=best;, score=0.701 total time=   3.0s\n",
      "[CV 2/5] END tree__criterion=entropy, tree__min_samples_split=226, tree__splitter=random;, score=0.701 total time=   2.7s\n",
      "[CV 3/5] END tree__criterion=entropy, tree__min_samples_split=226, tree__splitter=random;, score=0.698 total time=   3.1s\n",
      "[CV 5/5] END tree__criterion=entropy, tree__min_samples_split=226, tree__splitter=random;, score=0.701 total time=   2.6s\n",
      "[CV 4/5] END tree__criterion=entropy, tree__min_samples_split=226, tree__splitter=random;, score=0.704 total time=   3.0s\n",
      "[CV 1/5] END tree__criterion=entropy, tree__min_samples_split=226, tree__splitter=best;, score=0.703 total time=   3.3s\n",
      "[CV 2/5] END tree__criterion=entropy, tree__min_samples_split=226, tree__splitter=best;, score=0.701 total time=   3.1s\n",
      "[CV 4/5] END tree__criterion=entropy, tree__min_samples_split=226, tree__splitter=best;, score=0.699 total time=   3.3s\n",
      "[CV 3/5] END tree__criterion=entropy, tree__min_samples_split=226, tree__splitter=best;, score=0.698 total time=   3.4s\n",
      "[CV 1/5] END tree__criterion=entropy, tree__min_samples_split=227, tree__splitter=random;, score=0.703 total time=   2.9s\n",
      "[CV 5/5] END tree__criterion=entropy, tree__min_samples_split=226, tree__splitter=best;, score=0.701 total time=   3.4s\n",
      "[CV 3/5] END tree__criterion=entropy, tree__min_samples_split=227, tree__splitter=random;, score=0.697 total time=   2.4s\n",
      "[CV 2/5] END tree__criterion=entropy, tree__min_samples_split=227, tree__splitter=random;, score=0.707 total time=   3.1s\n",
      "[CV 4/5] END tree__criterion=entropy, tree__min_samples_split=227, tree__splitter=random;, score=0.707 total time=   2.8s\n",
      "[CV 5/5] END tree__criterion=entropy, tree__min_samples_split=227, tree__splitter=random;, score=0.699 total time=   2.7s\n",
      "[CV 1/5] END tree__criterion=entropy, tree__min_samples_split=227, tree__splitter=best;, score=0.704 total time=   3.3s\n",
      "[CV 2/5] END tree__criterion=entropy, tree__min_samples_split=227, tree__splitter=best;, score=0.701 total time=   3.4s\n",
      "[CV 4/5] END tree__criterion=entropy, tree__min_samples_split=227, tree__splitter=best;, score=0.699 total time=   3.1s\n",
      "[CV 3/5] END tree__criterion=entropy, tree__min_samples_split=227, tree__splitter=best;, score=0.699 total time=   3.3s\n",
      "[CV 1/5] END tree__criterion=entropy, tree__min_samples_split=228, tree__splitter=random;, score=0.701 total time=   2.5s\n",
      "[CV 5/5] END tree__criterion=entropy, tree__min_samples_split=227, tree__splitter=best;, score=0.702 total time=   3.4s\n",
      "[CV 2/5] END tree__criterion=entropy, tree__min_samples_split=228, tree__splitter=random;, score=0.702 total time=   2.8s\n",
      "[CV 3/5] END tree__criterion=entropy, tree__min_samples_split=228, tree__splitter=random;, score=0.698 total time=   2.7s\n",
      "[CV 5/5] END tree__criterion=entropy, tree__min_samples_split=228, tree__splitter=random;, score=0.700 total time=   2.5s\n",
      "[CV 4/5] END tree__criterion=entropy, tree__min_samples_split=228, tree__splitter=random;, score=0.705 total time=   3.1s\n",
      "[CV 1/5] END tree__criterion=entropy, tree__min_samples_split=228, tree__splitter=best;, score=0.705 total time=   3.4s\n",
      "[CV 3/5] END tree__criterion=entropy, tree__min_samples_split=228, tree__splitter=best;, score=0.699 total time=   3.1s\n",
      "[CV 2/5] END tree__criterion=entropy, tree__min_samples_split=228, tree__splitter=best;, score=0.701 total time=   3.7s\n",
      "[CV 4/5] END tree__criterion=entropy, tree__min_samples_split=228, tree__splitter=best;, score=0.699 total time=   3.1s\n",
      "[CV 1/5] END tree__criterion=entropy, tree__min_samples_split=229, tree__splitter=random;, score=0.700 total time=   2.6s\n",
      "[CV 5/5] END tree__criterion=entropy, tree__min_samples_split=228, tree__splitter=best;, score=0.701 total time=   3.0s\n",
      "[CV 2/5] END tree__criterion=entropy, tree__min_samples_split=229, tree__splitter=random;, score=0.700 total time=   2.7s\n",
      "[CV 3/5] END tree__criterion=entropy, tree__min_samples_split=229, tree__splitter=random;, score=0.701 total time=   2.6s\n",
      "[CV 4/5] END tree__criterion=entropy, tree__min_samples_split=229, tree__splitter=random;, score=0.705 total time=   3.0s\n",
      "[CV 5/5] END tree__criterion=entropy, tree__min_samples_split=229, tree__splitter=random;, score=0.702 total time=   2.9s\n",
      "[CV 1/5] END tree__criterion=entropy, tree__min_samples_split=229, tree__splitter=best;, score=0.704 total time=   3.4s\n",
      "[CV 2/5] END tree__criterion=entropy, tree__min_samples_split=229, tree__splitter=best;, score=0.701 total time=   3.5s\n",
      "[CV 3/5] END tree__criterion=entropy, tree__min_samples_split=229, tree__splitter=best;, score=0.699 total time=   3.3s\n",
      "[CV 4/5] END tree__criterion=entropy, tree__min_samples_split=229, tree__splitter=best;, score=0.699 total time=   3.4s\n",
      "[CV 1/5] END tree__criterion=entropy, tree__min_samples_split=230, tree__splitter=random;, score=0.706 total time=   2.7s\n",
      "[CV 5/5] END tree__criterion=entropy, tree__min_samples_split=229, tree__splitter=best;, score=0.701 total time=   3.5s\n",
      "[CV 3/5] END tree__criterion=entropy, tree__min_samples_split=230, tree__splitter=random;, score=0.699 total time=   2.6s\n",
      "[CV 2/5] END tree__criterion=entropy, tree__min_samples_split=230, tree__splitter=random;, score=0.697 total time=   2.8s\n",
      "[CV 5/5] END tree__criterion=entropy, tree__min_samples_split=230, tree__splitter=random;, score=0.701 total time=   2.5s\n",
      "[CV 4/5] END tree__criterion=entropy, tree__min_samples_split=230, tree__splitter=random;, score=0.709 total time=   2.9s\n",
      "[CV 1/5] END tree__criterion=entropy, tree__min_samples_split=230, tree__splitter=best;, score=0.705 total time=   3.3s\n",
      "[CV 2/5] END tree__criterion=entropy, tree__min_samples_split=230, tree__splitter=best;, score=0.702 total time=   3.4s\n",
      "[CV 3/5] END tree__criterion=entropy, tree__min_samples_split=230, tree__splitter=best;, score=0.699 total time=   3.1s\n",
      "[CV 1/5] END tree__criterion=entropy, tree__min_samples_split=231, tree__splitter=random;, score=0.710 total time=   2.6s\n",
      "[CV 4/5] END tree__criterion=entropy, tree__min_samples_split=230, tree__splitter=best;, score=0.699 total time=   3.3s\n",
      "[CV 5/5] END tree__criterion=entropy, tree__min_samples_split=230, tree__splitter=best;, score=0.701 total time=   3.3s\n",
      "[CV 3/5] END tree__criterion=entropy, tree__min_samples_split=231, tree__splitter=random;, score=0.700 total time=   2.5s\n",
      "[CV 2/5] END tree__criterion=entropy, tree__min_samples_split=231, tree__splitter=random;, score=0.698 total time=   2.9s\n",
      "[CV 5/5] END tree__criterion=entropy, tree__min_samples_split=231, tree__splitter=random;, score=0.700 total time=   2.5s\n",
      "[CV 4/5] END tree__criterion=entropy, tree__min_samples_split=231, tree__splitter=random;, score=0.701 total time=   2.8s\n",
      "[CV 1/5] END tree__criterion=entropy, tree__min_samples_split=231, tree__splitter=best;, score=0.703 total time=   3.3s\n",
      "[CV 3/5] END tree__criterion=entropy, tree__min_samples_split=231, tree__splitter=best;, score=0.699 total time=   3.2s\n",
      "[CV 2/5] END tree__criterion=entropy, tree__min_samples_split=231, tree__splitter=best;, score=0.701 total time=   3.4s\n",
      "[CV 4/5] END tree__criterion=entropy, tree__min_samples_split=231, tree__splitter=best;, score=0.700 total time=   3.1s\n",
      "[CV 1/5] END tree__criterion=entropy, tree__min_samples_split=232, tree__splitter=random;, score=0.703 total time=   2.6s\n",
      "[CV 5/5] END tree__criterion=entropy, tree__min_samples_split=231, tree__splitter=best;, score=0.701 total time=   3.3s\n",
      "[CV 3/5] END tree__criterion=entropy, tree__min_samples_split=232, tree__splitter=random;, score=0.696 total time=   2.7s\n",
      "[CV 2/5] END tree__criterion=entropy, tree__min_samples_split=232, tree__splitter=random;, score=0.702 total time=   2.9s\n",
      "[CV 4/5] END tree__criterion=entropy, tree__min_samples_split=232, tree__splitter=random;, score=0.708 total time=   2.9s\n",
      "[CV 5/5] END tree__criterion=entropy, tree__min_samples_split=232, tree__splitter=random;, score=0.701 total time=   2.7s\n",
      "[CV 3/5] END tree__criterion=entropy, tree__min_samples_split=232, tree__splitter=best;, score=0.700 total time=   3.0s\n",
      "[CV 1/5] END tree__criterion=entropy, tree__min_samples_split=232, tree__splitter=best;, score=0.704 total time=   3.3s\n",
      "[CV 2/5] END tree__criterion=entropy, tree__min_samples_split=232, tree__splitter=best;, score=0.701 total time=   3.4s\n",
      "[CV 1/5] END tree__criterion=entropy, tree__min_samples_split=233, tree__splitter=random;, score=0.704 total time=   2.6s\n",
      "[CV 4/5] END tree__criterion=entropy, tree__min_samples_split=232, tree__splitter=best;, score=0.699 total time=   3.2s\n",
      "[CV 5/5] END tree__criterion=entropy, tree__min_samples_split=232, tree__splitter=best;, score=0.701 total time=   3.3s\n",
      "[CV 2/5] END tree__criterion=entropy, tree__min_samples_split=233, tree__splitter=random;, score=0.699 total time=   2.8s\n",
      "[CV 3/5] END tree__criterion=entropy, tree__min_samples_split=233, tree__splitter=random;, score=0.700 total time=   2.6s\n",
      "[CV 5/5] END tree__criterion=entropy, tree__min_samples_split=233, tree__splitter=random;, score=0.698 total time=   2.7s\n",
      "[CV 4/5] END tree__criterion=entropy, tree__min_samples_split=233, tree__splitter=random;, score=0.702 total time=   3.0s\n",
      "[CV 1/5] END tree__criterion=entropy, tree__min_samples_split=233, tree__splitter=best;, score=0.704 total time=   3.1s\n",
      "[CV 3/5] END tree__criterion=entropy, tree__min_samples_split=233, tree__splitter=best;, score=0.699 total time=   3.0s\n",
      "[CV 2/5] END tree__criterion=entropy, tree__min_samples_split=233, tree__splitter=best;, score=0.701 total time=   3.3s\n",
      "[CV 4/5] END tree__criterion=entropy, tree__min_samples_split=233, tree__splitter=best;, score=0.699 total time=   3.2s\n",
      "[CV 1/5] END tree__criterion=entropy, tree__min_samples_split=234, tree__splitter=random;, score=0.706 total time=   3.0s\n",
      "[CV 5/5] END tree__criterion=entropy, tree__min_samples_split=233, tree__splitter=best;, score=0.701 total time=   3.5s\n",
      "[CV 3/5] END tree__criterion=entropy, tree__min_samples_split=234, tree__splitter=random;, score=0.698 total time=   2.7s\n",
      "[CV 2/5] END tree__criterion=entropy, tree__min_samples_split=234, tree__splitter=random;, score=0.703 total time=   2.9s\n",
      "[CV 4/5] END tree__criterion=entropy, tree__min_samples_split=234, tree__splitter=random;, score=0.701 total time=   2.7s\n",
      "[CV 5/5] END tree__criterion=entropy, tree__min_samples_split=234, tree__splitter=random;, score=0.702 total time=   2.6s\n",
      "[CV 1/5] END tree__criterion=entropy, tree__min_samples_split=234, tree__splitter=best;, score=0.705 total time=   3.4s\n",
      "[CV 2/5] END tree__criterion=entropy, tree__min_samples_split=234, tree__splitter=best;, score=0.701 total time=   3.2s\n",
      "[CV 3/5] END tree__criterion=entropy, tree__min_samples_split=234, tree__splitter=best;, score=0.699 total time=   3.1s\n",
      "[CV 1/5] END tree__criterion=entropy, tree__min_samples_split=235, tree__splitter=random;, score=0.705 total time=   2.5s\n",
      "[CV 4/5] END tree__criterion=entropy, tree__min_samples_split=234, tree__splitter=best;, score=0.699 total time=   3.3s\n",
      "[CV 2/5] END tree__criterion=entropy, tree__min_samples_split=235, tree__splitter=random;, score=0.697 total time=   2.8s\n",
      "[CV 5/5] END tree__criterion=entropy, tree__min_samples_split=234, tree__splitter=best;, score=0.701 total time=   3.4s\n",
      "[CV 3/5] END tree__criterion=entropy, tree__min_samples_split=235, tree__splitter=random;, score=0.702 total time=   2.6s\n",
      "[CV 4/5] END tree__criterion=entropy, tree__min_samples_split=235, tree__splitter=random;, score=0.704 total time=   2.6s\n",
      "[CV 5/5] END tree__criterion=entropy, tree__min_samples_split=235, tree__splitter=random;, score=0.700 total time=   2.6s\n",
      "[CV 1/5] END tree__criterion=entropy, tree__min_samples_split=235, tree__splitter=best;, score=0.704 total time=   3.5s\n",
      "[CV 1/5] END tree__criterion=entropy, tree__min_samples_split=236, tree__splitter=random;, score=0.701 total time=   2.4s\n",
      "[CV 3/5] END tree__criterion=entropy, tree__min_samples_split=235, tree__splitter=best;, score=0.699 total time=   3.0s\n",
      "[CV 5/5] END tree__criterion=entropy, tree__min_samples_split=235, tree__splitter=best;, score=0.701 total time=   3.0s\n",
      "[CV 2/5] END tree__criterion=entropy, tree__min_samples_split=235, tree__splitter=best;, score=0.701 total time=   3.7s\n",
      "[CV 4/5] END tree__criterion=entropy, tree__min_samples_split=235, tree__splitter=best;, score=0.700 total time=   3.3s\n",
      "[CV 2/5] END tree__criterion=entropy, tree__min_samples_split=236, tree__splitter=random;, score=0.699 total time=   2.6s\n",
      "[CV 3/5] END tree__criterion=entropy, tree__min_samples_split=236, tree__splitter=random;, score=0.703 total time=   2.9s\n",
      "[CV 5/5] END tree__criterion=entropy, tree__min_samples_split=236, tree__splitter=random;, score=0.702 total time=   2.6s\n",
      "[CV 4/5] END tree__criterion=entropy, tree__min_samples_split=236, tree__splitter=random;, score=0.706 total time=   2.7s\n",
      "[CV 1/5] END tree__criterion=entropy, tree__min_samples_split=236, tree__splitter=best;, score=0.704 total time=   3.1s\n",
      "[CV 3/5] END tree__criterion=entropy, tree__min_samples_split=236, tree__splitter=best;, score=0.699 total time=   3.1s\n",
      "[CV 2/5] END tree__criterion=entropy, tree__min_samples_split=236, tree__splitter=best;, score=0.701 total time=   3.3s\n",
      "[CV 4/5] END tree__criterion=entropy, tree__min_samples_split=236, tree__splitter=best;, score=0.700 total time=   3.1s\n",
      "[CV 1/5] END tree__criterion=entropy, tree__min_samples_split=237, tree__splitter=random;, score=0.708 total time=   2.8s\n",
      "[CV 5/5] END tree__criterion=entropy, tree__min_samples_split=236, tree__splitter=best;, score=0.701 total time=   3.2s\n",
      "[CV 2/5] END tree__criterion=entropy, tree__min_samples_split=237, tree__splitter=random;, score=0.699 total time=   2.6s\n",
      "[CV 3/5] END tree__criterion=entropy, tree__min_samples_split=237, tree__splitter=random;, score=0.696 total time=   2.6s\n",
      "[CV 4/5] END tree__criterion=entropy, tree__min_samples_split=237, tree__splitter=random;, score=0.704 total time=   2.8s\n",
      "[CV 5/5] END tree__criterion=entropy, tree__min_samples_split=237, tree__splitter=random;, score=0.701 total time=   2.8s\n",
      "[CV 2/5] END tree__criterion=entropy, tree__min_samples_split=237, tree__splitter=best;, score=0.701 total time=   3.1s\n",
      "[CV 4/5] END tree__criterion=entropy, tree__min_samples_split=237, tree__splitter=best;, score=0.700 total time=   2.9s\n",
      "[CV 1/5] END tree__criterion=entropy, tree__min_samples_split=237, tree__splitter=best;, score=0.703 total time=   3.4s\n",
      "[CV 3/5] END tree__criterion=entropy, tree__min_samples_split=237, tree__splitter=best;, score=0.698 total time=   3.3s\n",
      "[CV 1/5] END tree__criterion=entropy, tree__min_samples_split=238, tree__splitter=random;, score=0.706 total time=   2.5s\n",
      "[CV 5/5] END tree__criterion=entropy, tree__min_samples_split=237, tree__splitter=best;, score=0.701 total time=   3.2s\n",
      "[CV 2/5] END tree__criterion=entropy, tree__min_samples_split=238, tree__splitter=random;, score=0.701 total time=   2.8s\n",
      "[CV 3/5] END tree__criterion=entropy, tree__min_samples_split=238, tree__splitter=random;, score=0.691 total time=   2.6s\n",
      "[CV 5/5] END tree__criterion=entropy, tree__min_samples_split=238, tree__splitter=random;, score=0.705 total time=   2.6s\n",
      "[CV 4/5] END tree__criterion=entropy, tree__min_samples_split=238, tree__splitter=random;, score=0.704 total time=   2.7s\n",
      "[CV 1/5] END tree__criterion=entropy, tree__min_samples_split=238, tree__splitter=best;, score=0.703 total time=   3.3s\n",
      "[CV 2/5] END tree__criterion=entropy, tree__min_samples_split=238, tree__splitter=best;, score=0.700 total time=   3.4s\n",
      "[CV 3/5] END tree__criterion=entropy, tree__min_samples_split=238, tree__splitter=best;, score=0.698 total time=   3.1s\n",
      "[CV 4/5] END tree__criterion=entropy, tree__min_samples_split=238, tree__splitter=best;, score=0.699 total time=   3.1s\n",
      "[CV 1/5] END tree__criterion=entropy, tree__min_samples_split=239, tree__splitter=random;, score=0.704 total time=   2.5s\n",
      "[CV 5/5] END tree__criterion=entropy, tree__min_samples_split=238, tree__splitter=best;, score=0.702 total time=   3.4s\n",
      "[CV 2/5] END tree__criterion=entropy, tree__min_samples_split=239, tree__splitter=random;, score=0.704 total time=   2.8s\n",
      "[CV 3/5] END tree__criterion=entropy, tree__min_samples_split=239, tree__splitter=random;, score=0.697 total time=   2.8s\n",
      "[CV 4/5] END tree__criterion=entropy, tree__min_samples_split=239, tree__splitter=random;, score=0.707 total time=   2.9s\n",
      "[CV 5/5] END tree__criterion=entropy, tree__min_samples_split=239, tree__splitter=random;, score=0.701 total time=   2.6s\n",
      "[CV 1/5] END tree__criterion=entropy, tree__min_samples_split=239, tree__splitter=best;, score=0.702 total time=   3.3s\n",
      "[CV 3/5] END tree__criterion=entropy, tree__min_samples_split=239, tree__splitter=best;, score=0.699 total time=   3.0s\n",
      "[CV 2/5] END tree__criterion=entropy, tree__min_samples_split=239, tree__splitter=best;, score=0.700 total time=   3.5s\n",
      "[CV 4/5] END tree__criterion=entropy, tree__min_samples_split=239, tree__splitter=best;, score=0.700 total time=   3.3s\n",
      "[CV 1/5] END tree__criterion=gini, tree__min_samples_split=220, tree__splitter=random;, score=0.708 total time=   3.0s\n",
      "[CV 5/5] END tree__criterion=entropy, tree__min_samples_split=239, tree__splitter=best;, score=0.701 total time=   3.3s\n",
      "[CV 2/5] END tree__criterion=gini, tree__min_samples_split=220, tree__splitter=random;, score=0.705 total time=   2.6s\n",
      "[CV 3/5] END tree__criterion=gini, tree__min_samples_split=220, tree__splitter=random;, score=0.698 total time=   2.5s\n",
      "[CV 5/5] END tree__criterion=gini, tree__min_samples_split=220, tree__splitter=random;, score=0.702 total time=   2.3s\n",
      "[CV 4/5] END tree__criterion=gini, tree__min_samples_split=220, tree__splitter=random;, score=0.706 total time=   2.9s\n",
      "[CV 1/5] END tree__criterion=gini, tree__min_samples_split=220, tree__splitter=best;, score=0.703 total time=   3.5s\n",
      "[CV 1/5] END tree__criterion=gini, tree__min_samples_split=221, tree__splitter=random;, score=0.706 total time=   2.6s\n",
      "[CV 4/5] END tree__criterion=gini, tree__min_samples_split=220, tree__splitter=best;, score=0.703 total time=   2.9s\n",
      "[CV 3/5] END tree__criterion=gini, tree__min_samples_split=220, tree__splitter=best;, score=0.696 total time=   3.3s\n",
      "[CV 2/5] END tree__criterion=gini, tree__min_samples_split=220, tree__splitter=best;, score=0.704 total time=   3.3s\n",
      "[CV 5/5] END tree__criterion=gini, tree__min_samples_split=220, tree__splitter=best;, score=0.700 total time=   3.0s\n",
      "[CV 2/5] END tree__criterion=gini, tree__min_samples_split=221, tree__splitter=random;, score=0.705 total time=   2.6s\n",
      "[CV 3/5] END tree__criterion=gini, tree__min_samples_split=221, tree__splitter=random;, score=0.694 total time=   2.7s\n",
      "[CV 5/5] END tree__criterion=gini, tree__min_samples_split=221, tree__splitter=random;, score=0.703 total time=   2.5s\n",
      "[CV 4/5] END tree__criterion=gini, tree__min_samples_split=221, tree__splitter=random;, score=0.702 total time=   2.9s\n",
      "[CV 2/5] END tree__criterion=gini, tree__min_samples_split=221, tree__splitter=best;, score=0.703 total time=   3.0s\n",
      "[CV 1/5] END tree__criterion=gini, tree__min_samples_split=221, tree__splitter=best;, score=0.703 total time=   3.1s\n",
      "[CV 3/5] END tree__criterion=gini, tree__min_samples_split=221, tree__splitter=best;, score=0.696 total time=   3.2s\n",
      "[CV 4/5] END tree__criterion=gini, tree__min_samples_split=221, tree__splitter=best;, score=0.703 total time=   3.2s\n",
      "[CV 1/5] END tree__criterion=gini, tree__min_samples_split=222, tree__splitter=random;, score=0.702 total time=   2.7s\n",
      "[CV 5/5] END tree__criterion=gini, tree__min_samples_split=221, tree__splitter=best;, score=0.701 total time=   3.2s\n",
      "[CV 2/5] END tree__criterion=gini, tree__min_samples_split=222, tree__splitter=random;, score=0.700 total time=   2.6s\n",
      "[CV 3/5] END tree__criterion=gini, tree__min_samples_split=222, tree__splitter=random;, score=0.698 total time=   2.6s\n",
      "[CV 5/5] END tree__criterion=gini, tree__min_samples_split=222, tree__splitter=random;, score=0.703 total time=   2.6s\n",
      "[CV 4/5] END tree__criterion=gini, tree__min_samples_split=222, tree__splitter=random;, score=0.705 total time=   2.9s\n",
      "[CV 1/5] END tree__criterion=gini, tree__min_samples_split=222, tree__splitter=best;, score=0.704 total time=   3.1s\n",
      "[CV 2/5] END tree__criterion=gini, tree__min_samples_split=222, tree__splitter=best;, score=0.704 total time=   3.1s\n",
      "[CV 3/5] END tree__criterion=gini, tree__min_samples_split=222, tree__splitter=best;, score=0.696 total time=   3.1s\n",
      "[CV 4/5] END tree__criterion=gini, tree__min_samples_split=222, tree__splitter=best;, score=0.703 total time=   3.3s\n",
      "[CV 1/5] END tree__criterion=gini, tree__min_samples_split=223, tree__splitter=random;, score=0.704 total time=   2.6s\n",
      "[CV 5/5] END tree__criterion=gini, tree__min_samples_split=222, tree__splitter=best;, score=0.701 total time=   3.3s\n",
      "[CV 2/5] END tree__criterion=gini, tree__min_samples_split=223, tree__splitter=random;, score=0.698 total time=   2.7s\n",
      "[CV 3/5] END tree__criterion=gini, tree__min_samples_split=223, tree__splitter=random;, score=0.695 total time=   2.6s\n",
      "[CV 4/5] END tree__criterion=gini, tree__min_samples_split=223, tree__splitter=random;, score=0.703 total time=   2.6s\n",
      "[CV 5/5] END tree__criterion=gini, tree__min_samples_split=223, tree__splitter=random;, score=0.704 total time=   2.6s\n",
      "[CV 1/5] END tree__criterion=gini, tree__min_samples_split=223, tree__splitter=best;, score=0.704 total time=   2.9s\n",
      "[CV 2/5] END tree__criterion=gini, tree__min_samples_split=223, tree__splitter=best;, score=0.704 total time=   3.2s\n",
      "[CV 3/5] END tree__criterion=gini, tree__min_samples_split=223, tree__splitter=best;, score=0.697 total time=   3.1s\n",
      "[CV 4/5] END tree__criterion=gini, tree__min_samples_split=223, tree__splitter=best;, score=0.703 total time=   3.1s\n",
      "[CV 1/5] END tree__criterion=gini, tree__min_samples_split=224, tree__splitter=random;, score=0.715 total time=   2.7s\n",
      "[CV 2/5] END tree__criterion=gini, tree__min_samples_split=224, tree__splitter=random;, score=0.699 total time=   2.6s\n",
      "[CV 3/5] END tree__criterion=gini, tree__min_samples_split=224, tree__splitter=random;, score=0.700 total time=   2.7s\n",
      "[CV 5/5] END tree__criterion=gini, tree__min_samples_split=223, tree__splitter=best;, score=0.701 total time=   3.5s\n",
      "[CV 4/5] END tree__criterion=gini, tree__min_samples_split=224, tree__splitter=random;, score=0.706 total time=   2.7s\n",
      "[CV 5/5] END tree__criterion=gini, tree__min_samples_split=224, tree__splitter=random;, score=0.700 total time=   2.4s\n",
      "[CV 1/5] END tree__criterion=gini, tree__min_samples_split=224, tree__splitter=best;, score=0.704 total time=   3.3s\n",
      "[CV 3/5] END tree__criterion=gini, tree__min_samples_split=224, tree__splitter=best;, score=0.697 total time=   3.0s\n",
      "[CV 1/5] END tree__criterion=gini, tree__min_samples_split=225, tree__splitter=random;, score=0.704 total time=   2.4s\n",
      "[CV 4/5] END tree__criterion=gini, tree__min_samples_split=224, tree__splitter=best;, score=0.702 total time=   3.1s\n",
      "[CV 2/5] END tree__criterion=gini, tree__min_samples_split=224, tree__splitter=best;, score=0.704 total time=   3.5s\n",
      "[CV 5/5] END tree__criterion=gini, tree__min_samples_split=224, tree__splitter=best;, score=0.700 total time=   3.3s\n",
      "[CV 2/5] END tree__criterion=gini, tree__min_samples_split=225, tree__splitter=random;, score=0.701 total time=   2.6s\n",
      "[CV 3/5] END tree__criterion=gini, tree__min_samples_split=225, tree__splitter=random;, score=0.695 total time=   2.6s\n",
      "[CV 4/5] END tree__criterion=gini, tree__min_samples_split=225, tree__splitter=random;, score=0.707 total time=   2.9s\n",
      "[CV 5/5] END tree__criterion=gini, tree__min_samples_split=225, tree__splitter=random;, score=0.703 total time=   2.8s\n",
      "[CV 1/5] END tree__criterion=gini, tree__min_samples_split=225, tree__splitter=best;, score=0.704 total time=   3.3s\n",
      "[CV 3/5] END tree__criterion=gini, tree__min_samples_split=225, tree__splitter=best;, score=0.697 total time=   3.0s\n",
      "[CV 1/5] END tree__criterion=gini, tree__min_samples_split=226, tree__splitter=random;, score=0.707 total time=   2.7s\n",
      "[CV 2/5] END tree__criterion=gini, tree__min_samples_split=225, tree__splitter=best;, score=0.704 total time=   3.3s\n",
      "[CV 4/5] END tree__criterion=gini, tree__min_samples_split=225, tree__splitter=best;, score=0.702 total time=   3.0s\n",
      "[CV 5/5] END tree__criterion=gini, tree__min_samples_split=225, tree__splitter=best;, score=0.701 total time=   3.2s\n",
      "[CV 2/5] END tree__criterion=gini, tree__min_samples_split=226, tree__splitter=random;, score=0.705 total time=   2.6s\n",
      "[CV 3/5] END tree__criterion=gini, tree__min_samples_split=226, tree__splitter=random;, score=0.701 total time=   2.7s\n",
      "[CV 4/5] END tree__criterion=gini, tree__min_samples_split=226, tree__splitter=random;, score=0.700 total time=   2.8s\n",
      "[CV 5/5] END tree__criterion=gini, tree__min_samples_split=226, tree__splitter=random;, score=0.696 total time=   2.7s\n",
      "[CV 1/5] END tree__criterion=gini, tree__min_samples_split=226, tree__splitter=best;, score=0.704 total time=   3.1s\n",
      "[CV 4/5] END tree__criterion=gini, tree__min_samples_split=226, tree__splitter=best;, score=0.702 total time=   2.9s\n",
      "[CV 3/5] END tree__criterion=gini, tree__min_samples_split=226, tree__splitter=best;, score=0.697 total time=   3.1s\n",
      "[CV 2/5] END tree__criterion=gini, tree__min_samples_split=226, tree__splitter=best;, score=0.704 total time=   3.4s\n",
      "[CV 1/5] END tree__criterion=gini, tree__min_samples_split=227, tree__splitter=random;, score=0.705 total time=   2.6s\n",
      "[CV 5/5] END tree__criterion=gini, tree__min_samples_split=226, tree__splitter=best;, score=0.701 total time=   3.3s\n",
      "[CV 2/5] END tree__criterion=gini, tree__min_samples_split=227, tree__splitter=random;, score=0.701 total time=   2.9s\n",
      "[CV 3/5] END tree__criterion=gini, tree__min_samples_split=227, tree__splitter=random;, score=0.692 total time=   2.9s\n",
      "[CV 4/5] END tree__criterion=gini, tree__min_samples_split=227, tree__splitter=random;, score=0.700 total time=   2.7s\n",
      "[CV 5/5] END tree__criterion=gini, tree__min_samples_split=227, tree__splitter=random;, score=0.704 total time=   2.5s\n",
      "[CV 1/5] END tree__criterion=gini, tree__min_samples_split=227, tree__splitter=best;, score=0.705 total time=   3.0s\n",
      "[CV 2/5] END tree__criterion=gini, tree__min_samples_split=227, tree__splitter=best;, score=0.704 total time=   3.2s\n",
      "[CV 3/5] END tree__criterion=gini, tree__min_samples_split=227, tree__splitter=best;, score=0.697 total time=   3.1s\n",
      "[CV 4/5] END tree__criterion=gini, tree__min_samples_split=227, tree__splitter=best;, score=0.702 total time=   3.1s\n",
      "[CV 1/5] END tree__criterion=gini, tree__min_samples_split=228, tree__splitter=random;, score=0.708 total time=   2.6s\n",
      "[CV 3/5] END tree__criterion=gini, tree__min_samples_split=228, tree__splitter=random;, score=0.692 total time=   2.3s\n",
      "[CV 2/5] END tree__criterion=gini, tree__min_samples_split=228, tree__splitter=random;, score=0.704 total time=   2.7s\n",
      "[CV 5/5] END tree__criterion=gini, tree__min_samples_split=227, tree__splitter=best;, score=0.701 total time=   3.2s\n",
      "[CV 4/5] END tree__criterion=gini, tree__min_samples_split=228, tree__splitter=random;, score=0.705 total time=   2.5s\n",
      "[CV 5/5] END tree__criterion=gini, tree__min_samples_split=228, tree__splitter=random;, score=0.700 total time=   2.7s\n",
      "[CV 1/5] END tree__criterion=gini, tree__min_samples_split=228, tree__splitter=best;, score=0.704 total time=   3.2s\n",
      "[CV 1/5] END tree__criterion=gini, tree__min_samples_split=229, tree__splitter=random;, score=0.708 total time=   2.4s\n",
      "[CV 2/5] END tree__criterion=gini, tree__min_samples_split=228, tree__splitter=best;, score=0.705 total time=   3.3s\n",
      "[CV 4/5] END tree__criterion=gini, tree__min_samples_split=228, tree__splitter=best;, score=0.702 total time=   3.0s\n",
      "[CV 3/5] END tree__criterion=gini, tree__min_samples_split=228, tree__splitter=best;, score=0.697 total time=   3.1s\n",
      "[CV 5/5] END tree__criterion=gini, tree__min_samples_split=228, tree__splitter=best;, score=0.701 total time=   3.1s\n",
      "[CV 2/5] END tree__criterion=gini, tree__min_samples_split=229, tree__splitter=random;, score=0.703 total time=   2.7s\n",
      "[CV 3/5] END tree__criterion=gini, tree__min_samples_split=229, tree__splitter=random;, score=0.695 total time=   2.5s\n",
      "[CV 4/5] END tree__criterion=gini, tree__min_samples_split=229, tree__splitter=random;, score=0.706 total time=   2.7s\n",
      "[CV 5/5] END tree__criterion=gini, tree__min_samples_split=229, tree__splitter=random;, score=0.700 total time=   2.6s\n",
      "[CV 2/5] END tree__criterion=gini, tree__min_samples_split=229, tree__splitter=best;, score=0.706 total time=   2.9s\n",
      "[CV 1/5] END tree__criterion=gini, tree__min_samples_split=229, tree__splitter=best;, score=0.704 total time=   3.1s\n",
      "[CV 3/5] END tree__criterion=gini, tree__min_samples_split=229, tree__splitter=best;, score=0.697 total time=   2.9s\n",
      "[CV 1/5] END tree__criterion=gini, tree__min_samples_split=230, tree__splitter=random;, score=0.709 total time=   2.5s\n",
      "[CV 4/5] END tree__criterion=gini, tree__min_samples_split=229, tree__splitter=best;, score=0.702 total time=   2.9s\n",
      "[CV 5/5] END tree__criterion=gini, tree__min_samples_split=229, tree__splitter=best;, score=0.701 total time=   3.4s\n",
      "[CV 2/5] END tree__criterion=gini, tree__min_samples_split=230, tree__splitter=random;, score=0.702 total time=   2.4s\n",
      "[CV 3/5] END tree__criterion=gini, tree__min_samples_split=230, tree__splitter=random;, score=0.698 total time=   3.0s\n",
      "[CV 5/5] END tree__criterion=gini, tree__min_samples_split=230, tree__splitter=random;, score=0.704 total time=   2.5s\n",
      "[CV 4/5] END tree__criterion=gini, tree__min_samples_split=230, tree__splitter=random;, score=0.704 total time=   2.5s\n",
      "[CV 1/5] END tree__criterion=gini, tree__min_samples_split=230, tree__splitter=best;, score=0.704 total time=   3.1s\n",
      "[CV 3/5] END tree__criterion=gini, tree__min_samples_split=230, tree__splitter=best;, score=0.697 total time=   3.0s\n",
      "[CV 2/5] END tree__criterion=gini, tree__min_samples_split=230, tree__splitter=best;, score=0.706 total time=   3.2s\n",
      "[CV 4/5] END tree__criterion=gini, tree__min_samples_split=230, tree__splitter=best;, score=0.702 total time=   3.0s\n",
      "[CV 5/5] END tree__criterion=gini, tree__min_samples_split=230, tree__splitter=best;, score=0.701 total time=   2.9s\n",
      "[CV 2/5] END tree__criterion=gini, tree__min_samples_split=231, tree__splitter=random;, score=0.699 total time=   2.4s\n",
      "[CV 1/5] END tree__criterion=gini, tree__min_samples_split=231, tree__splitter=random;, score=0.707 total time=   2.6s\n",
      "[CV 3/5] END tree__criterion=gini, tree__min_samples_split=231, tree__splitter=random;, score=0.699 total time=   2.6s\n",
      "[CV 5/5] END tree__criterion=gini, tree__min_samples_split=231, tree__splitter=random;, score=0.699 total time=   2.5s\n",
      "[CV 4/5] END tree__criterion=gini, tree__min_samples_split=231, tree__splitter=random;, score=0.709 total time=   2.5s\n",
      "[CV 1/5] END tree__criterion=gini, tree__min_samples_split=231, tree__splitter=best;, score=0.704 total time=   2.8s\n",
      "[CV 2/5] END tree__criterion=gini, tree__min_samples_split=231, tree__splitter=best;, score=0.706 total time=   3.1s\n",
      "[CV 1/5] END tree__criterion=gini, tree__min_samples_split=232, tree__splitter=random;, score=0.703 total time=   2.5s\n",
      "[CV 3/5] END tree__criterion=gini, tree__min_samples_split=231, tree__splitter=best;, score=0.697 total time=   3.1s\n",
      "[CV 4/5] END tree__criterion=gini, tree__min_samples_split=231, tree__splitter=best;, score=0.703 total time=   3.0s\n",
      "[CV 5/5] END tree__criterion=gini, tree__min_samples_split=231, tree__splitter=best;, score=0.702 total time=   3.2s\n",
      "[CV 2/5] END tree__criterion=gini, tree__min_samples_split=232, tree__splitter=random;, score=0.704 total time=   2.5s\n",
      "[CV 3/5] END tree__criterion=gini, tree__min_samples_split=232, tree__splitter=random;, score=0.699 total time=   2.6s\n",
      "[CV 4/5] END tree__criterion=gini, tree__min_samples_split=232, tree__splitter=random;, score=0.707 total time=   2.6s\n",
      "[CV 5/5] END tree__criterion=gini, tree__min_samples_split=232, tree__splitter=random;, score=0.700 total time=   2.6s\n",
      "[CV 1/5] END tree__criterion=gini, tree__min_samples_split=232, tree__splitter=best;, score=0.704 total time=   2.9s\n",
      "[CV 2/5] END tree__criterion=gini, tree__min_samples_split=232, tree__splitter=best;, score=0.706 total time=   3.2s\n",
      "[CV 3/5] END tree__criterion=gini, tree__min_samples_split=232, tree__splitter=best;, score=0.697 total time=   3.2s\n",
      "[CV 1/5] END tree__criterion=gini, tree__min_samples_split=233, tree__splitter=random;, score=0.707 total time=   2.5s\n",
      "[CV 4/5] END tree__criterion=gini, tree__min_samples_split=232, tree__splitter=best;, score=0.703 total time=   3.0s\n",
      "[CV 2/5] END tree__criterion=gini, tree__min_samples_split=233, tree__splitter=random;, score=0.698 total time=   2.5s\n",
      "[CV 5/5] END tree__criterion=gini, tree__min_samples_split=232, tree__splitter=best;, score=0.702 total time=   3.2s\n",
      "[CV 3/5] END tree__criterion=gini, tree__min_samples_split=233, tree__splitter=random;, score=0.699 total time=   2.5s\n",
      "[CV 4/5] END tree__criterion=gini, tree__min_samples_split=233, tree__splitter=random;, score=0.704 total time=   2.6s\n",
      "[CV 5/5] END tree__criterion=gini, tree__min_samples_split=233, tree__splitter=random;, score=0.702 total time=   2.7s\n",
      "[CV 1/5] END tree__criterion=gini, tree__min_samples_split=233, tree__splitter=best;, score=0.704 total time=   3.1s\n",
      "[CV 4/5] END tree__criterion=gini, tree__min_samples_split=233, tree__splitter=best;, score=0.703 total time=   3.0s\n",
      "[CV 2/5] END tree__criterion=gini, tree__min_samples_split=233, tree__splitter=best;, score=0.705 total time=   3.2s\n",
      "[CV 3/5] END tree__criterion=gini, tree__min_samples_split=233, tree__splitter=best;, score=0.697 total time=   3.3s\n",
      "[CV 5/5] END tree__criterion=gini, tree__min_samples_split=233, tree__splitter=best;, score=0.701 total time=   3.1s\n",
      "[CV 1/5] END tree__criterion=gini, tree__min_samples_split=234, tree__splitter=random;, score=0.709 total time=   2.7s\n",
      "[CV 2/5] END tree__criterion=gini, tree__min_samples_split=234, tree__splitter=random;, score=0.700 total time=   2.6s\n",
      "[CV 3/5] END tree__criterion=gini, tree__min_samples_split=234, tree__splitter=random;, score=0.702 total time=   2.8s\n",
      "[CV 4/5] END tree__criterion=gini, tree__min_samples_split=234, tree__splitter=random;, score=0.705 total time=   2.6s\n",
      "[CV 5/5] END tree__criterion=gini, tree__min_samples_split=234, tree__splitter=random;, score=0.701 total time=   2.4s\n",
      "[CV 1/5] END tree__criterion=gini, tree__min_samples_split=234, tree__splitter=best;, score=0.704 total time=   3.0s\n",
      "[CV 2/5] END tree__criterion=gini, tree__min_samples_split=234, tree__splitter=best;, score=0.705 total time=   3.2s\n",
      "[CV 4/5] END tree__criterion=gini, tree__min_samples_split=234, tree__splitter=best;, score=0.703 total time=   3.1s\n",
      "[CV 3/5] END tree__criterion=gini, tree__min_samples_split=234, tree__splitter=best;, score=0.697 total time=   3.2s\n",
      "[CV 5/5] END tree__criterion=gini, tree__min_samples_split=234, tree__splitter=best;, score=0.702 total time=   3.0s\n",
      "[CV 1/5] END tree__criterion=gini, tree__min_samples_split=235, tree__splitter=random;, score=0.707 total time=   2.7s\n",
      "[CV 2/5] END tree__criterion=gini, tree__min_samples_split=235, tree__splitter=random;, score=0.704 total time=   2.6s\n",
      "[CV 3/5] END tree__criterion=gini, tree__min_samples_split=235, tree__splitter=random;, score=0.695 total time=   2.5s\n",
      "[CV 4/5] END tree__criterion=gini, tree__min_samples_split=235, tree__splitter=random;, score=0.704 total time=   2.6s\n",
      "[CV 5/5] END tree__criterion=gini, tree__min_samples_split=235, tree__splitter=random;, score=0.701 total time=   2.6s\n",
      "[CV 1/5] END tree__criterion=gini, tree__min_samples_split=235, tree__splitter=best;, score=0.704 total time=   3.0s\n",
      "[CV 2/5] END tree__criterion=gini, tree__min_samples_split=235, tree__splitter=best;, score=0.705 total time=   3.3s\n",
      "[CV 3/5] END tree__criterion=gini, tree__min_samples_split=235, tree__splitter=best;, score=0.697 total time=   3.1s\n",
      "[CV 1/5] END tree__criterion=gini, tree__min_samples_split=236, tree__splitter=random;, score=0.701 total time=   2.6s\n",
      "[CV 4/5] END tree__criterion=gini, tree__min_samples_split=235, tree__splitter=best;, score=0.703 total time=   3.0s\n",
      "[CV 5/5] END tree__criterion=gini, tree__min_samples_split=235, tree__splitter=best;, score=0.701 total time=   3.2s\n",
      "[CV 2/5] END tree__criterion=gini, tree__min_samples_split=236, tree__splitter=random;, score=0.699 total time=   2.6s\n",
      "[CV 3/5] END tree__criterion=gini, tree__min_samples_split=236, tree__splitter=random;, score=0.701 total time=   2.7s\n",
      "[CV 4/5] END tree__criterion=gini, tree__min_samples_split=236, tree__splitter=random;, score=0.699 total time=   2.6s\n",
      "[CV 5/5] END tree__criterion=gini, tree__min_samples_split=236, tree__splitter=random;, score=0.704 total time=   2.5s\n",
      "[CV 1/5] END tree__criterion=gini, tree__min_samples_split=236, tree__splitter=best;, score=0.704 total time=   3.2s\n",
      "[CV 2/5] END tree__criterion=gini, tree__min_samples_split=236, tree__splitter=best;, score=0.705 total time=   3.2s\n",
      "[CV 3/5] END tree__criterion=gini, tree__min_samples_split=236, tree__splitter=best;, score=0.697 total time=   3.1s\n",
      "[CV 4/5] END tree__criterion=gini, tree__min_samples_split=236, tree__splitter=best;, score=0.702 total time=   3.0s\n",
      "[CV 1/5] END tree__criterion=gini, tree__min_samples_split=237, tree__splitter=random;, score=0.710 total time=   2.7s\n",
      "[CV 5/5] END tree__criterion=gini, tree__min_samples_split=236, tree__splitter=best;, score=0.701 total time=   3.2s\n",
      "[CV 2/5] END tree__criterion=gini, tree__min_samples_split=237, tree__splitter=random;, score=0.701 total time=   2.4s\n",
      "[CV 3/5] END tree__criterion=gini, tree__min_samples_split=237, tree__splitter=random;, score=0.695 total time=   2.4s\n",
      "[CV 5/5] END tree__criterion=gini, tree__min_samples_split=237, tree__splitter=random;, score=0.704 total time=   2.5s\n",
      "[CV 4/5] END tree__criterion=gini, tree__min_samples_split=237, tree__splitter=random;, score=0.703 total time=   2.8s\n",
      "[CV 1/5] END tree__criterion=gini, tree__min_samples_split=237, tree__splitter=best;, score=0.703 total time=   3.1s\n",
      "[CV 1/5] END tree__criterion=gini, tree__min_samples_split=238, tree__splitter=random;, score=0.703 total time=   2.6s\n",
      "[CV 3/5] END tree__criterion=gini, tree__min_samples_split=237, tree__splitter=best;, score=0.697 total time=   3.2s\n",
      "[CV 2/5] END tree__criterion=gini, tree__min_samples_split=237, tree__splitter=best;, score=0.705 total time=   3.3s\n",
      "[CV 4/5] END tree__criterion=gini, tree__min_samples_split=237, tree__splitter=best;, score=0.703 total time=   3.1s\n",
      "[CV 5/5] END tree__criterion=gini, tree__min_samples_split=237, tree__splitter=best;, score=0.701 total time=   3.2s\n",
      "[CV 2/5] END tree__criterion=gini, tree__min_samples_split=238, tree__splitter=random;, score=0.705 total time=   2.6s\n",
      "[CV 3/5] END tree__criterion=gini, tree__min_samples_split=238, tree__splitter=random;, score=0.698 total time=   2.6s\n",
      "[CV 4/5] END tree__criterion=gini, tree__min_samples_split=238, tree__splitter=random;, score=0.699 total time=   2.6s\n",
      "[CV 5/5] END tree__criterion=gini, tree__min_samples_split=238, tree__splitter=random;, score=0.700 total time=   2.5s\n",
      "[CV 2/5] END tree__criterion=gini, tree__min_samples_split=238, tree__splitter=best;, score=0.705 total time=   3.1s\n",
      "[CV 1/5] END tree__criterion=gini, tree__min_samples_split=238, tree__splitter=best;, score=0.703 total time=   3.1s\n",
      "[CV 3/5] END tree__criterion=gini, tree__min_samples_split=238, tree__splitter=best;, score=0.697 total time=   3.2s\n",
      "[CV 4/5] END tree__criterion=gini, tree__min_samples_split=238, tree__splitter=best;, score=0.703 total time=   3.0s\n",
      "[CV 1/5] END tree__criterion=gini, tree__min_samples_split=239, tree__splitter=random;, score=0.706 total time=   2.8s\n",
      "[CV 5/5] END tree__criterion=gini, tree__min_samples_split=238, tree__splitter=best;, score=0.701 total time=   3.1s\n",
      "[CV 3/5] END tree__criterion=gini, tree__min_samples_split=239, tree__splitter=random;, score=0.705 total time=   2.5s\n",
      "[CV 2/5] END tree__criterion=gini, tree__min_samples_split=239, tree__splitter=random;, score=0.705 total time=   2.8s\n",
      "[CV 5/5] END tree__criterion=gini, tree__min_samples_split=239, tree__splitter=random;, score=0.701 total time=   2.4s\n",
      "[CV 4/5] END tree__criterion=gini, tree__min_samples_split=239, tree__splitter=random;, score=0.704 total time=   2.5s\n",
      "[CV 1/5] END tree__criterion=gini, tree__min_samples_split=239, tree__splitter=best;, score=0.703 total time=   2.7s\n",
      "[CV 2/5] END tree__criterion=gini, tree__min_samples_split=239, tree__splitter=best;, score=0.705 total time=   2.7s\n",
      "[CV 4/5] END tree__criterion=gini, tree__min_samples_split=239, tree__splitter=best;, score=0.702 total time=   2.1s\n",
      "[CV 3/5] END tree__criterion=gini, tree__min_samples_split=239, tree__splitter=best;, score=0.697 total time=   2.2s\n",
      "[CV 5/5] END tree__criterion=gini, tree__min_samples_split=239, tree__splitter=best;, score=0.701 total time=   1.9s\n"
     ]
    },
    {
     "data": {
      "text/plain": [
       "GridSearchCV(cv=5,\n",
       "             estimator=Pipeline(steps=[('preprocessor',\n",
       "                                        ColumnTransformer(transformers=[('num',\n",
       "                                                                         Pipeline(steps=[('std_scaler',\n",
       "                                                                                          StandardScaler())]),\n",
       "                                                                         ['goal_usd']),\n",
       "                                                                        ('cat',\n",
       "                                                                         Pipeline(steps=[('1hot',\n",
       "                                                                                          OneHotEncoder(handle_unknown='ignore'))]),\n",
       "                                                                         ['category_clean',\n",
       "                                                                          'country',\n",
       "                                                                          'staff_pick',\n",
       "                                                                          'word_count_description',\n",
       "                                                                          'word_count_name',\n",
       "                                                                          'name_is_split',\n",
       "                                                                          'description_is_split',\n",
       "                                                                          'name_addresses_reader',\n",
       "                                                                          'description_addresses_reader'])])),\n",
       "                                       ('tree', DecisionTreeClassifier())]),\n",
       "             n_jobs=-1,\n",
       "             param_grid={'tree__criterion': ['entropy', 'gini'],\n",
       "                         'tree__min_samples_split': range(220, 240),\n",
       "                         'tree__splitter': ['random', 'best']},\n",
       "             scoring='precision', verbose=5)"
      ]
     },
     "execution_count": 46,
     "metadata": {},
     "output_type": "execute_result"
    }
   ],
   "source": [
    "grid_tree.fit(X_train, y_train)"
   ]
  },
  {
   "cell_type": "code",
   "execution_count": 47,
   "metadata": {},
   "outputs": [
    {
     "name": "stdout",
     "output_type": "stream",
     "text": [
      "Fitting 5 folds for each of 18 candidates, totalling 90 fits\n",
      "[CV 1/5] END random_forest__criterion=gini, random_forest__min_samples_leaf=13, random_forest__n_estimators=80;, score=0.717 total time=  24.2s\n",
      "[CV 3/5] END random_forest__criterion=gini, random_forest__min_samples_leaf=13, random_forest__n_estimators=80;, score=0.710 total time=  24.9s\n",
      "[CV 2/5] END random_forest__criterion=gini, random_forest__min_samples_leaf=13, random_forest__n_estimators=80;, score=0.712 total time=  25.0s\n",
      "[CV 4/5] END random_forest__criterion=gini, random_forest__min_samples_leaf=13, random_forest__n_estimators=80;, score=0.713 total time=  24.9s\n",
      "[CV 5/5] END random_forest__criterion=gini, random_forest__min_samples_leaf=13, random_forest__n_estimators=80;, score=0.709 total time=  24.9s\n",
      "[CV 3/5] END random_forest__criterion=gini, random_forest__min_samples_leaf=13, random_forest__n_estimators=85;, score=0.707 total time=  25.3s\n",
      "[CV 1/5] END random_forest__criterion=gini, random_forest__min_samples_leaf=13, random_forest__n_estimators=85;, score=0.717 total time=  25.9s\n",
      "[CV 2/5] END random_forest__criterion=gini, random_forest__min_samples_leaf=13, random_forest__n_estimators=85;, score=0.713 total time=  26.3s\n",
      "[CV 1/5] END random_forest__criterion=gini, random_forest__min_samples_leaf=14, random_forest__n_estimators=80;, score=0.715 total time=  23.0s\n",
      "[CV 5/5] END random_forest__criterion=gini, random_forest__min_samples_leaf=13, random_forest__n_estimators=85;, score=0.709 total time=  25.3s\n",
      "[CV 4/5] END random_forest__criterion=gini, random_forest__min_samples_leaf=13, random_forest__n_estimators=85;, score=0.714 total time=  26.5s\n",
      "[CV 1/5] END random_forest__criterion=gini, random_forest__min_samples_leaf=13, random_forest__n_estimators=90;, score=0.717 total time=  26.5s\n",
      "[CV 3/5] END random_forest__criterion=gini, random_forest__min_samples_leaf=13, random_forest__n_estimators=90;, score=0.708 total time=  27.1s\n",
      "[CV 2/5] END random_forest__criterion=gini, random_forest__min_samples_leaf=13, random_forest__n_estimators=90;, score=0.712 total time=  27.7s\n",
      "[CV 5/5] END random_forest__criterion=gini, random_forest__min_samples_leaf=13, random_forest__n_estimators=90;, score=0.712 total time=  26.9s\n",
      "[CV 4/5] END random_forest__criterion=gini, random_forest__min_samples_leaf=13, random_forest__n_estimators=90;, score=0.715 total time=  27.9s\n",
      "[CV 2/5] END random_forest__criterion=gini, random_forest__min_samples_leaf=14, random_forest__n_estimators=80;, score=0.711 total time=  24.3s\n",
      "[CV 3/5] END random_forest__criterion=gini, random_forest__min_samples_leaf=14, random_forest__n_estimators=80;, score=0.708 total time=  24.2s\n",
      "[CV 5/5] END random_forest__criterion=gini, random_forest__min_samples_leaf=14, random_forest__n_estimators=80;, score=0.709 total time=  23.3s\n",
      "[CV 4/5] END random_forest__criterion=gini, random_forest__min_samples_leaf=14, random_forest__n_estimators=80;, score=0.714 total time=  24.8s\n",
      "[CV 1/5] END random_forest__criterion=gini, random_forest__min_samples_leaf=14, random_forest__n_estimators=85;, score=0.717 total time=  24.5s\n",
      "[CV 3/5] END random_forest__criterion=gini, random_forest__min_samples_leaf=14, random_forest__n_estimators=85;, score=0.710 total time=  24.5s\n",
      "[CV 2/5] END random_forest__criterion=gini, random_forest__min_samples_leaf=14, random_forest__n_estimators=85;, score=0.711 total time=  25.8s\n",
      "[CV 4/5] END random_forest__criterion=gini, random_forest__min_samples_leaf=14, random_forest__n_estimators=85;, score=0.716 total time=  26.0s\n",
      "[CV 5/5] END random_forest__criterion=gini, random_forest__min_samples_leaf=14, random_forest__n_estimators=85;, score=0.711 total time=  24.3s\n",
      "[CV 1/5] END random_forest__criterion=gini, random_forest__min_samples_leaf=14, random_forest__n_estimators=90;, score=0.718 total time=  25.7s\n",
      "[CV 2/5] END random_forest__criterion=gini, random_forest__min_samples_leaf=14, random_forest__n_estimators=90;, score=0.712 total time=  26.4s\n",
      "[CV 1/5] END random_forest__criterion=gini, random_forest__min_samples_leaf=15, random_forest__n_estimators=80;, score=0.715 total time=  22.8s\n",
      "[CV 3/5] END random_forest__criterion=gini, random_forest__min_samples_leaf=14, random_forest__n_estimators=90;, score=0.709 total time=  26.2s\n",
      "[CV 2/5] END random_forest__criterion=gini, random_forest__min_samples_leaf=15, random_forest__n_estimators=80;, score=0.711 total time=  22.4s\n",
      "[CV 4/5] END random_forest__criterion=gini, random_forest__min_samples_leaf=14, random_forest__n_estimators=90;, score=0.713 total time=  26.3s\n",
      "[CV 5/5] END random_forest__criterion=gini, random_forest__min_samples_leaf=14, random_forest__n_estimators=90;, score=0.710 total time=  26.8s\n",
      "[CV 3/5] END random_forest__criterion=gini, random_forest__min_samples_leaf=15, random_forest__n_estimators=80;, score=0.707 total time=  22.7s\n",
      "[CV 5/5] END random_forest__criterion=gini, random_forest__min_samples_leaf=15, random_forest__n_estimators=80;, score=0.709 total time=  21.7s\n",
      "[CV 4/5] END random_forest__criterion=gini, random_forest__min_samples_leaf=15, random_forest__n_estimators=80;, score=0.714 total time=  23.0s\n",
      "[CV 1/5] END random_forest__criterion=gini, random_forest__min_samples_leaf=15, random_forest__n_estimators=85;, score=0.717 total time=  23.8s\n",
      "[CV 2/5] END random_forest__criterion=gini, random_forest__min_samples_leaf=15, random_forest__n_estimators=85;, score=0.712 total time=  24.0s\n",
      "[CV 3/5] END random_forest__criterion=gini, random_forest__min_samples_leaf=15, random_forest__n_estimators=85;, score=0.709 total time=  23.9s\n",
      "[CV 4/5] END random_forest__criterion=gini, random_forest__min_samples_leaf=15, random_forest__n_estimators=85;, score=0.715 total time=  24.7s\n",
      "[CV 5/5] END random_forest__criterion=gini, random_forest__min_samples_leaf=15, random_forest__n_estimators=85;, score=0.712 total time=  24.0s\n",
      "[CV 1/5] END random_forest__criterion=gini, random_forest__min_samples_leaf=15, random_forest__n_estimators=90;, score=0.717 total time=  25.0s\n",
      "[CV 3/5] END random_forest__criterion=gini, random_forest__min_samples_leaf=15, random_forest__n_estimators=90;, score=0.709 total time=  24.5s\n",
      "[CV 2/5] END random_forest__criterion=gini, random_forest__min_samples_leaf=15, random_forest__n_estimators=90;, score=0.712 total time=  25.0s\n",
      "[CV 1/5] END random_forest__criterion=entropy, random_forest__min_samples_leaf=13, random_forest__n_estimators=80;, score=0.716 total time=  23.6s\n",
      "[CV 5/5] END random_forest__criterion=gini, random_forest__min_samples_leaf=15, random_forest__n_estimators=90;, score=0.710 total time=  25.1s\n",
      "[CV 4/5] END random_forest__criterion=gini, random_forest__min_samples_leaf=15, random_forest__n_estimators=90;, score=0.715 total time=  26.0s\n",
      "[CV 2/5] END random_forest__criterion=entropy, random_forest__min_samples_leaf=13, random_forest__n_estimators=80;, score=0.711 total time=  23.8s\n",
      "[CV 3/5] END random_forest__criterion=entropy, random_forest__min_samples_leaf=13, random_forest__n_estimators=80;, score=0.707 total time=  24.3s\n",
      "[CV 4/5] END random_forest__criterion=entropy, random_forest__min_samples_leaf=13, random_forest__n_estimators=80;, score=0.714 total time=  24.3s\n",
      "[CV 5/5] END random_forest__criterion=entropy, random_forest__min_samples_leaf=13, random_forest__n_estimators=80;, score=0.710 total time=  23.9s\n",
      "[CV 1/5] END random_forest__criterion=entropy, random_forest__min_samples_leaf=13, random_forest__n_estimators=85;, score=0.716 total time=  25.0s\n",
      "[CV 2/5] END random_forest__criterion=entropy, random_forest__min_samples_leaf=13, random_forest__n_estimators=85;, score=0.711 total time=  25.5s\n",
      "[CV 3/5] END random_forest__criterion=entropy, random_forest__min_samples_leaf=13, random_forest__n_estimators=85;, score=0.708 total time=  26.0s\n",
      "[CV 4/5] END random_forest__criterion=entropy, random_forest__min_samples_leaf=13, random_forest__n_estimators=85;, score=0.714 total time=  26.4s\n",
      "[CV 5/5] END random_forest__criterion=entropy, random_forest__min_samples_leaf=13, random_forest__n_estimators=85;, score=0.710 total time=  26.4s\n",
      "[CV 1/5] END random_forest__criterion=entropy, random_forest__min_samples_leaf=13, random_forest__n_estimators=90;, score=0.716 total time=  26.7s\n",
      "[CV 2/5] END random_forest__criterion=entropy, random_forest__min_samples_leaf=13, random_forest__n_estimators=90;, score=0.711 total time=  27.0s\n",
      "[CV 3/5] END random_forest__criterion=entropy, random_forest__min_samples_leaf=13, random_forest__n_estimators=90;, score=0.708 total time=  26.9s\n",
      "[CV 1/5] END random_forest__criterion=entropy, random_forest__min_samples_leaf=14, random_forest__n_estimators=80;, score=0.716 total time=  22.9s\n",
      "[CV 2/5] END random_forest__criterion=entropy, random_forest__min_samples_leaf=14, random_forest__n_estimators=80;, score=0.710 total time=  22.8s\n",
      "[CV 3/5] END random_forest__criterion=entropy, random_forest__min_samples_leaf=14, random_forest__n_estimators=80;, score=0.708 total time=  22.9s\n",
      "[CV 4/5] END random_forest__criterion=entropy, random_forest__min_samples_leaf=13, random_forest__n_estimators=90;, score=0.714 total time=  27.9s\n",
      "[CV 5/5] END random_forest__criterion=entropy, random_forest__min_samples_leaf=13, random_forest__n_estimators=90;, score=0.707 total time=  26.4s\n",
      "[CV 4/5] END random_forest__criterion=entropy, random_forest__min_samples_leaf=14, random_forest__n_estimators=80;, score=0.713 total time=  24.0s\n",
      "[CV 5/5] END random_forest__criterion=entropy, random_forest__min_samples_leaf=14, random_forest__n_estimators=80;, score=0.710 total time=  23.4s\n",
      "[CV 1/5] END random_forest__criterion=entropy, random_forest__min_samples_leaf=14, random_forest__n_estimators=85;, score=0.716 total time=  24.1s\n",
      "[CV 3/5] END random_forest__criterion=entropy, random_forest__min_samples_leaf=14, random_forest__n_estimators=85;, score=0.708 total time=  24.3s\n",
      "[CV 2/5] END random_forest__criterion=entropy, random_forest__min_samples_leaf=14, random_forest__n_estimators=85;, score=0.711 total time=  25.3s\n",
      "[CV 5/5] END random_forest__criterion=entropy, random_forest__min_samples_leaf=14, random_forest__n_estimators=85;, score=0.709 total time=  24.6s\n",
      "[CV 4/5] END random_forest__criterion=entropy, random_forest__min_samples_leaf=14, random_forest__n_estimators=85;, score=0.715 total time=  25.4s\n",
      "[CV 1/5] END random_forest__criterion=entropy, random_forest__min_samples_leaf=14, random_forest__n_estimators=90;, score=0.716 total time=  25.3s\n",
      "[CV 2/5] END random_forest__criterion=entropy, random_forest__min_samples_leaf=14, random_forest__n_estimators=90;, score=0.711 total time=  26.0s\n",
      "[CV 3/5] END random_forest__criterion=entropy, random_forest__min_samples_leaf=14, random_forest__n_estimators=90;, score=0.709 total time=  26.0s\n",
      "[CV 1/5] END random_forest__criterion=entropy, random_forest__min_samples_leaf=15, random_forest__n_estimators=80;, score=0.716 total time=  22.2s\n",
      "[CV 2/5] END random_forest__criterion=entropy, random_forest__min_samples_leaf=15, random_forest__n_estimators=80;, score=0.712 total time=  21.9s\n",
      "[CV 3/5] END random_forest__criterion=entropy, random_forest__min_samples_leaf=15, random_forest__n_estimators=80;, score=0.708 total time=  21.9s\n",
      "[CV 4/5] END random_forest__criterion=entropy, random_forest__min_samples_leaf=15, random_forest__n_estimators=80;, score=0.714 total time=  22.6s\n",
      "[CV 4/5] END random_forest__criterion=entropy, random_forest__min_samples_leaf=14, random_forest__n_estimators=90;, score=0.714 total time=  27.0s\n",
      "[CV 5/5] END random_forest__criterion=entropy, random_forest__min_samples_leaf=14, random_forest__n_estimators=90;, score=0.711 total time=  26.0s\n",
      "[CV 5/5] END random_forest__criterion=entropy, random_forest__min_samples_leaf=15, random_forest__n_estimators=80;, score=0.710 total time=  22.4s\n",
      "[CV 1/5] END random_forest__criterion=entropy, random_forest__min_samples_leaf=15, random_forest__n_estimators=85;, score=0.716 total time=  23.0s\n",
      "[CV 3/5] END random_forest__criterion=entropy, random_forest__min_samples_leaf=15, random_forest__n_estimators=85;, score=0.708 total time=  24.0s\n",
      "[CV 2/5] END random_forest__criterion=entropy, random_forest__min_samples_leaf=15, random_forest__n_estimators=85;, score=0.711 total time=  24.5s\n",
      "[CV 4/5] END random_forest__criterion=entropy, random_forest__min_samples_leaf=15, random_forest__n_estimators=85;, score=0.713 total time=  24.9s\n",
      "[CV 5/5] END random_forest__criterion=entropy, random_forest__min_samples_leaf=15, random_forest__n_estimators=85;, score=0.709 total time=  23.8s\n",
      "[CV 1/5] END random_forest__criterion=entropy, random_forest__min_samples_leaf=15, random_forest__n_estimators=90;, score=0.715 total time=  24.5s\n",
      "[CV 2/5] END random_forest__criterion=entropy, random_forest__min_samples_leaf=15, random_forest__n_estimators=90;, score=0.712 total time=  23.9s\n",
      "[CV 3/5] END random_forest__criterion=entropy, random_forest__min_samples_leaf=15, random_forest__n_estimators=90;, score=0.707 total time=  23.3s\n",
      "[CV 4/5] END random_forest__criterion=entropy, random_forest__min_samples_leaf=15, random_forest__n_estimators=90;, score=0.712 total time=  14.0s\n",
      "[CV 5/5] END random_forest__criterion=entropy, random_forest__min_samples_leaf=15, random_forest__n_estimators=90;, score=0.710 total time=  12.9s\n"
     ]
    },
    {
     "data": {
      "text/plain": [
       "GridSearchCV(cv=5,\n",
       "             estimator=Pipeline(steps=[('preprocessor',\n",
       "                                        ColumnTransformer(transformers=[('num',\n",
       "                                                                         Pipeline(steps=[('std_scaler',\n",
       "                                                                                          StandardScaler())]),\n",
       "                                                                         ['goal_usd']),\n",
       "                                                                        ('cat',\n",
       "                                                                         Pipeline(steps=[('1hot',\n",
       "                                                                                          OneHotEncoder(handle_unknown='ignore'))]),\n",
       "                                                                         ['category_clean',\n",
       "                                                                          'country',\n",
       "                                                                          'staff_pick',\n",
       "                                                                          'word_count_description',\n",
       "                                                                          'word_count_name',\n",
       "                                                                          'name_is_split',\n",
       "                                                                          'description_is_split',\n",
       "                                                                          'name_addresses_reader',\n",
       "                                                                          'description_addresses_reader'])])),\n",
       "                                       ('random_forest',\n",
       "                                        RandomForestClassifier())]),\n",
       "             n_jobs=-1,\n",
       "             param_grid={'random_forest__criterion': ['gini', 'entropy'],\n",
       "                         'random_forest__min_samples_leaf': [13, 14, 15],\n",
       "                         'random_forest__n_estimators': [80, 85, 90]},\n",
       "             scoring='precision', verbose=5)"
      ]
     },
     "execution_count": 47,
     "metadata": {},
     "output_type": "execute_result"
    }
   ],
   "source": [
    "grid_random_forest.fit(X_train, y_train)"
   ]
  },
  {
   "cell_type": "code",
   "execution_count": 48,
   "metadata": {},
   "outputs": [
    {
     "name": "stdout",
     "output_type": "stream",
     "text": [
      "Best score logreg:\n",
      "0.69\n",
      "Best parameters logreg:\n",
      "{'logreg__C': 1, 'logreg__penalty': 'none', 'logreg__solver': 'lbfgs'}\n",
      "Best score tree:\n",
      "0.70\n",
      "Best parameters tree:\n",
      "{'tree__criterion': 'gini', 'tree__min_samples_split': 239, 'tree__splitter': 'random'}\n",
      "Best score random forest:\n",
      "0.71\n",
      "Best parameters random forest:\n",
      "{'random_forest__criterion': 'gini', 'random_forest__min_samples_leaf': 14, 'random_forest__n_estimators': 85}\n"
     ]
    }
   ],
   "source": [
    "# Show best parameters\n",
    "print('Best score logreg:\\n{:.2f}'.format(grid_logreg.best_score_))\n",
    "print(\"Best parameters logreg:\\n{}\".format(grid_logreg.best_params_))\n",
    "print('Best score tree:\\n{:.2f}'.format(grid_tree.best_score_))\n",
    "print(\"Best parameters tree:\\n{}\".format(grid_tree.best_params_))\n",
    "print('Best score random forest:\\n{:.2f}'.format(grid_random_forest.best_score_))\n",
    "print(\"Best parameters random forest:\\n{}\".format(grid_random_forest.best_params_))"
   ]
  },
  {
   "cell_type": "code",
   "execution_count": 49,
   "metadata": {},
   "outputs": [],
   "source": [
    "# Save best model (including fitted preprocessing steps) as best_model \n",
    "best_model_logreg = grid_logreg.best_estimator_\n",
    "best_model_tree = grid_tree.best_estimator_\n",
    "best_model_random_forest = grid_random_forest.best_estimator_\n"
   ]
  },
  {
   "cell_type": "code",
   "execution_count": 50,
   "metadata": {},
   "outputs": [],
   "source": [
    "# Calculating the accuracy, recall and precision for the test set with the optimized model\n",
    "y_train_predicted_logreg = best_model_logreg.predict(X_train)\n",
    "y_train_predicted_tree = best_model_tree.predict(X_train)\n",
    "y_train_predicted_random_forest = best_model_random_forest.predict(X_train)\n",
    "y_test_predicted_logreg = best_model_logreg.predict(X_test)\n",
    "y_test_predicted_tree = best_model_tree.predict(X_test)\n",
    "y_test_predicted_random_forest = best_model_random_forest.predict(X_test)\n"
   ]
  },
  {
   "cell_type": "code",
   "execution_count": 51,
   "metadata": {},
   "outputs": [
    {
     "name": "stdout",
     "output_type": "stream",
     "text": [
      "logistic regression - train :\n",
      "Accuracy: 0.6994425518736451\n",
      "Recall: 0.7800408944001055\n",
      "Precision: 0.6943599619535222\n",
      "logistic regression - test :\n",
      "Accuracy: 0.6973450829133703\n",
      "Recall: 0.7801728681353431\n",
      "Precision: 0.6923112898699841\n",
      "decision tree - train :\n",
      "Accuracy: 0.7225358258959993\n",
      "Recall: 0.768339819273135\n",
      "Precision: 0.7271047638070508\n",
      "decision tree - test :\n",
      "Accuracy: 0.6975421605337988\n",
      "Recall: 0.7472330557605144\n",
      "Precision: 0.7044968944099379\n",
      "random forest - train :\n",
      "Accuracy: 0.7281032686731045\n",
      "Recall: 0.794169250049469\n",
      "Precision: 0.7233296086700549\n",
      "random forest - test :\n",
      "Accuracy: 0.7150539148061601\n",
      "Recall: 0.785759460314114\n",
      "Precision: 0.7111376103028858\n"
     ]
    }
   ],
   "source": [
    "mod.eval_metrics(y_train,y_train_predicted_logreg, \"logistic regression - train\", False)\n",
    "mod.eval_metrics(y_test,y_test_predicted_logreg, \"logistic regression - test\", False)\n",
    "mod.eval_metrics(y_train,y_train_predicted_tree, \"decision tree - train\", False)\n",
    "mod.eval_metrics(y_test,y_test_predicted_tree, \"decision tree - test\", False)\n",
    "mod.eval_metrics(y_train,y_train_predicted_random_forest, \"random forest - train\", False)\n",
    "mod.eval_metrics(y_test,y_test_predicted_random_forest, \"random forest - test\", False)"
   ]
  },
  {
   "cell_type": "code",
   "execution_count": 52,
   "metadata": {},
   "outputs": [
    {
     "data": {
      "text/plain": [
       "0.7130549846560995"
      ]
     },
     "execution_count": 52,
     "metadata": {},
     "output_type": "execute_result"
    }
   ],
   "source": [
    "#Max Voting\n",
    "from sklearn.ensemble import VotingClassifier\n",
    "\n",
    "model1 = best_model_logreg #LogisticRegression(random_state = 24)\n",
    "model2 = best_model_tree # DecisionTreeClassifier(random_state = 24)\n",
    "model3 = best_model_random_forest #RandomForestClassifier(random_state = 24)\n",
    "\n",
    "model = VotingClassifier(estimators = [('lr', model1), ('dt', model2), ('rf', model3)], voting = 'hard')\n",
    "model.fit(X_train,y_train)\n",
    "model.score(X_test,y_test)"
   ]
  },
  {
   "cell_type": "code",
   "execution_count": 53,
   "metadata": {},
   "outputs": [],
   "source": [
    "y_test_predicted_voting = model.predict(X_test)\n",
    "y_train_predicted_voting = model.predict(X_train)"
   ]
  },
  {
   "cell_type": "code",
   "execution_count": 54,
   "metadata": {},
   "outputs": [
    {
     "name": "stdout",
     "output_type": "stream",
     "text": [
      "voting - train :\n",
      "Accuracy: 0.7256820293364115\n",
      "Recall: 0.7933777455312974\n",
      "Precision: 0.7206691191449079\n",
      "voting - test :\n",
      "Accuracy: 0.7130549846560995\n",
      "Recall: 0.7849162011173184\n",
      "Precision: 0.7090554180156161\n"
     ]
    }
   ],
   "source": [
    "mod.eval_metrics(y_train,y_train_predicted_voting, \"voting - train\", False)\n",
    "mod.eval_metrics(y_test,y_test_predicted_voting, \"voting - test\", False)"
   ]
  }
 ],
 "metadata": {
  "kernelspec": {
   "display_name": "Python 3.9.8 ('.venv': venv)",
   "language": "python",
   "name": "python3"
  },
  "language_info": {
   "codemirror_mode": {
    "name": "ipython",
    "version": 3
   },
   "file_extension": ".py",
   "mimetype": "text/x-python",
   "name": "python",
   "nbconvert_exporter": "python",
   "pygments_lexer": "ipython3",
   "version": "3.9.8"
  },
  "orig_nbformat": 4,
  "vscode": {
   "interpreter": {
    "hash": "a90cd42c6dbe5157c7d1b6f3a145c1637185ff4f8238a1321c8f499022aaeed2"
   }
  }
 },
 "nbformat": 4,
 "nbformat_minor": 2
}
